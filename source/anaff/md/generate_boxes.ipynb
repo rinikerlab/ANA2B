{
 "cells": [
  {
   "cell_type": "code",
   "execution_count": null,
   "id": "3241a6e0-135b-49a0-89fc-abe1d82e3749",
   "metadata": {},
   "outputs": [],
   "source": [
    "import sys\n",
    "\n",
    "sys.path.append('../..')\n",
    "\n",
    "import numpy as np\n",
    "from MDHelper import build_box_and_equilibrate"
   ]
  },
  {
   "cell_type": "code",
   "execution_count": 2,
   "id": "3cc08ff0-45ec-489b-996d-d885fb5c5b7b",
   "metadata": {},
   "outputs": [],
   "source": [
    "SYSTEMS_DATA = np.load('systems/systems_gromos.npy', allow_pickle=True).item()\n",
    "\n",
    "TARGET_BOX_LENGTH = 22\n",
    "FOLDER_PATH = 'systems/'\n",
    "TEMPERATURE = 300\n",
    "N_STEPS = 10000\n",
    "MARGIN = 1.05\n"
   ]
  },
  {
   "cell_type": "code",
   "execution_count": null,
   "id": "0957de68-c4c5-4770-ba72-eb94858008bc",
   "metadata": {
    "tags": []
   },
   "outputs": [],
   "source": [
    "SYSTEM_NAME = 'WATER'\n",
    "DENSITY = 0.997\n",
    "SMILE = 'O'\n",
    "build_box_and_equilibrate(SMILE, SYSTEM_NAME, FOLDER_PATH, \n",
    "                      density=DENSITY, target_box_length=TARGET_BOX_LENGTH, \n",
    "                      temperature=TEMPERATURE, n_steps=N_STEPS, margin=MARGIN)\n"
   ]
  },
  {
   "cell_type": "code",
   "execution_count": null,
   "id": "13800aeb-5854-4b74-86d5-43a517cdf88a",
   "metadata": {
    "tags": []
   },
   "outputs": [],
   "source": [
    "for SYSTEM_NAME in list(SYSTEMS_DATA.keys()):\n",
    "    DENSITY = SYSTEMS_DATA[SYSTEM_NAME]['density']\n",
    "    SMILE = SYSTEMS_DATA[SYSTEM_NAME]['smile']\n",
    "    build_box_and_equilibrate(SMILE, SYSTEM_NAME, FOLDER_PATH, \n",
    "                          density=DENSITY, target_box_length=TARGET_BOX_LENGTH, \n",
    "                          temperature=TEMPERATURE, n_steps=N_STEPS, margin=MARGIN)"
   ]
  },
  {
   "cell_type": "code",
   "execution_count": null,
   "id": "0aae5933-f902-4c8e-bf0c-febfd675e974",
   "metadata": {},
   "outputs": [],
   "source": []
  }
 ],
 "metadata": {
  "kernelspec": {
   "display_name": "TFGPU",
   "language": "python",
   "name": "tfgpu"
  },
  "language_info": {
   "codemirror_mode": {
    "name": "ipython",
    "version": 3
   },
   "file_extension": ".py",
   "mimetype": "text/x-python",
   "name": "python",
   "nbconvert_exporter": "python",
   "pygments_lexer": "ipython3",
   "version": "3.10.12"
  }
 },
 "nbformat": 4,
 "nbformat_minor": 5
}
