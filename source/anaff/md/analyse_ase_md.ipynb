{
 "cells": [
  {
   "cell_type": "code",
   "execution_count": null,
   "id": "e9f463e9-740c-42da-ac30-e3e57bcb9d35",
   "metadata": {},
   "outputs": [],
   "source": [
    "import os\n",
    "import sys\n",
    "import time\n",
    "\n",
    "sys.path.append('../..')\n",
    "os.environ['CUDA_VISIBLE_DEVICES'] = '-1'\n",
    "\n",
    "import matplotlib.pyplot as plt\n",
    "import mdtraj as md\n",
    "import numpy as np\n",
    "\n",
    "from ase.io import Trajectory\n",
    "from Constants import EV_TO_KJ, H_TO_KJ, BOHR_TO_ANGSTROM\n",
    "from Utilities import show_results\n",
    "from scipy.constants import Boltzmann, Avogadro\n",
    "from scipy.stats import pearsonr\n",
    "import openmm.unit as u"
   ]
  },
  {
   "cell_type": "code",
   "execution_count": null,
   "id": "48651b2a-45a0-42d8-9999-1fceeb4adcbc",
   "metadata": {},
   "outputs": [],
   "source": [
    "SYSTEMS_DATA = np.load('systems/systems_gromos.npy', allow_pickle=True).item()\n",
    "\n",
    "\n",
    "RT = lambda T: (Boltzmann * Avogadro) * T / 1000\n",
    "RMSE = lambda x, y, n=1: np.round(np.sqrt(np.mean(np.square(np.subtract(x, y)))), n)\n",
    "MAE =  lambda x, y, n=1: np.round(np.mean(np.abs(np.subtract(x, y))), n) \n",
    "MARE =  lambda x, y, n=1: np.round(np.mean(np.abs(np.subtract(x, y)) / x), n) \n",
    "ME =  lambda x, y, n=1: np.round(np.mean(np.subtract(x, y)), n)\n",
    "STD =  lambda x, y, n=1: np.round(np.std(np.subtract(x, y)), n)\n",
    "MAE =  lambda x, y, n=1: np.round(np.mean(np.abs(np.subtract(x, y))), n)\n",
    "\n",
    "# Un-tested implementation for alpha from mdtraj\n",
    "gas_constant = 8.3144621 * u.joule / u.kelvin / u.mole\n",
    "def thermal_expansion_alpha_P(traj, temperature, energies):\n",
    "    # Had some issues finding a useful unit test, so disabled this code for now.\n",
    "    # Feel free to file a pull request with a working unit test :)\n",
    "    temperature = temperature * u.kelvin\n",
    "    mean_volume = traj.unitcell_volumes.mean()\n",
    "    alpha = np.cov(traj.unitcell_volumes, energies)[0, 1]  # <HV> - <H><V> = cov(H, V)\n",
    "    alpha /= mean_volume\n",
    "    alpha *= u.kilojoules_per_mole\n",
    "    alpha /= (gas_constant * temperature ** 2)\n",
    "    return alpha * u.kelvin\n",
    "\n",
    "def average_data(data, start, end):\n",
    "    data = np.array([x[start:end] for x in data])\n",
    "    mean = np.mean(data, axis=1)\n",
    "    mean, std = np.mean(mean), np.std(mean)\n",
    "    return mean, std"
   ]
  },
  {
   "cell_type": "code",
   "execution_count": null,
   "id": "6407198a-ba6c-4886-b420-4a5609885d97",
   "metadata": {},
   "outputs": [],
   "source": [
    "FOLDER_PATH = 'data_ase/'\n",
    "N_REPLICA = 3"
   ]
  },
  {
   "cell_type": "code",
   "execution_count": null,
   "id": "713a88eb-e961-4e4c-aa07-96a2842a5c16",
   "metadata": {
    "tags": []
   },
   "outputs": [],
   "source": [
    "for SYSTEM_NAME in SYSTEMS_DATA:\n",
    "    for REPLICA in range(N_REPLICA):\n",
    "        try:            \n",
    "            NAME_TRAJFILE = f'{FOLDER_PATH}{SYSTEM_NAME}/{SYSTEM_NAME}_{REPLICA}.traj'\n",
    "            traj_ase = Trajectory(NAME_TRAJFILE)\n",
    "            NAME_PDBFILE = NAME_TRAJFILE[:-4] + 'pdb'\n",
    "            cells = []\n",
    "            try:\n",
    "                os.remove(NAME_PDBFILE)\n",
    "            except:\n",
    "                pass\n",
    "            for atoms in traj_ase:\n",
    "                atoms.write(NAME_PDBFILE, append=True)\n",
    "                cells.append(atoms.get_cell().array)\n",
    "            cells = np.array(cells)\n",
    "\n",
    "            trajectory = md.load(NAME_PDBFILE)\n",
    "            trajectory.unitcell_vectors = 0.1 * cells\n",
    "            trajectory.save_dcd(NAME_TRAJFILE[:-4] + 'dcd')\n",
    "            trajectory[0].save_pdb(NAME_TRAJFILE[:-5] + '_topo.pdb')\n",
    "        except:\n",
    "            print(SYSTEM_NAME, REPLICA)"
   ]
  },
  {
   "cell_type": "code",
   "execution_count": null,
   "id": "402624a0-4ad2-4a85-b37f-ba78e4ac5a38",
   "metadata": {},
   "outputs": [],
   "source": [
    "for SYSTEM_NAME in SYSTEMS_DATA:\n",
    "    for REPLICA in range(N_REPLICA):\n",
    "        for re in range(2, 3):\n",
    "            try:            \n",
    "                NAME_TRAJFILE = f'{FOLDER_PATH}{SYSTEM_NAME}/{SYSTEM_NAME}_{REPLICA}_re{re}.traj'\n",
    "                traj_ase = Trajectory(NAME_TRAJFILE)\n",
    "                NAME_PDBFILE = NAME_TRAJFILE[:-4] + 'pdb'\n",
    "                cells = []\n",
    "                try:\n",
    "                    os.remove(NAME_PDBFILE)\n",
    "                except:\n",
    "                    pass\n",
    "                for atoms in traj_ase:\n",
    "                    atoms.write(NAME_PDBFILE, append=True)\n",
    "                    cells.append(atoms.get_cell().array)\n",
    "                cells = np.array(cells)\n",
    "        \n",
    "                trajectory = md.load(NAME_PDBFILE)\n",
    "                trajectory.unitcell_vectors = 0.1 * cells\n",
    "                trajectory.save_dcd(NAME_TRAJFILE[:-4] + 'dcd')\n",
    "                trajectory[0].save_pdb(NAME_TRAJFILE[:-5] + '_topo.pdb')\n",
    "            except:\n",
    "                print(SYSTEM_NAME, REPLICA)"
   ]
  },
  {
   "cell_type": "code",
   "execution_count": null,
   "id": "15a6eaf0-7ed8-4733-9019-b9cfb88ae6e7",
   "metadata": {},
   "outputs": [],
   "source": [
    "TIME_OFFSET = 0\n",
    "DATA = {}"
   ]
  },
  {
   "cell_type": "code",
   "execution_count": null,
   "id": "88163116-6a14-4e33-b3f2-7c4925077e1c",
   "metadata": {
    "tags": []
   },
   "outputs": [],
   "source": [
    "for SYSTEM_NAME in SYSTEMS_DATA:\n",
    "    DATA[SYSTEM_NAME] = {}\n",
    "    DATA[SYSTEM_NAME]['density'] = []\n",
    "    DATA[SYSTEM_NAME]['kappa'] = []\n",
    "    DATA[SYSTEM_NAME]['alpha'] = []\n",
    "    DATA[SYSTEM_NAME]['V_pot_monomer'] = []\n",
    "    DATA[SYSTEM_NAME]['V_pot_liquid'] = []\n",
    "    DATA[SYSTEM_NAME]['T_monomer'] = []\n",
    "    DATA[SYSTEM_NAME]['T_system'] = []\n",
    "    T = SYSTEMS_DATA[SYSTEM_NAME]['T']\n",
    "    for REPLICA in range(N_REPLICA):        \n",
    "        NAME_LOGFILE = f'{FOLDER_PATH}{SYSTEM_NAME}/{SYSTEM_NAME}_{REPLICA}.log'\n",
    "        NAME_LOFGILE_MONOMER = f'data_ase_monomer/{SYSTEM_NAME}/{SYSTEM_NAME}_MONOMER{REPLICA}.log'\n",
    "        NAME_TRAJFILE_MONOMER = f'data_ase_monomer/{SYSTEM_NAME}/{SYSTEM_NAME}_MONOMER{REPLICA}.traj'\n",
    "        V_pot_system, T_system = np.loadtxt(NAME_LOGFILE, skiprows=1, usecols=[1, 4], unpack=True)        \n",
    "        V_pot_monomer, T_monomer = np.loadtxt(NAME_LOFGILE_MONOMER, skiprows=1, usecols=[1, 4], unpack=True)\n",
    "        for re in [1, 2]:\n",
    "            NAME_LOGFILE = f'{FOLDER_PATH}{SYSTEM_NAME}/{SYSTEM_NAME}_{REPLICA}_re{re}.log'\n",
    "            V_pot_system_, T_system_ = np.loadtxt(NAME_LOGFILE, skiprows=1, usecols=[1, 4], unpack=True)\n",
    "            V_pot_system = np.hstack((V_pot_system, V_pot_system_))\n",
    "            T_system = np.hstack((T_system, T_system_))\n",
    "        V_pot_system *= EV_TO_KJ\n",
    "        V_pot_monomer *= EV_TO_KJ\n",
    "        FILE_NAME = f'{FOLDER_PATH}{SYSTEM_NAME}/{SYSTEM_NAME}_{REPLICA}'\n",
    "        traj = md.load([f'{FILE_NAME}.dcd', f'{FILE_NAME}_re1.dcd', f'{FILE_NAME}_re2.dcd'], top=f'{FILE_NAME}_topo.pdb')    \n",
    "        n_molecules = traj.n_atoms // len(Trajectory(NAME_TRAJFILE_MONOMER)[0])\n",
    "        DATA[SYSTEM_NAME]['density'].append(md.density(traj))\n",
    "        DATA[SYSTEM_NAME]['kappa'].append(md.isothermal_compressability_kappa_T(traj[TIME_OFFSET:], T) / (10 ** -5))\n",
    "        index = min(len(traj), len(V_pot_system))\n",
    "        DATA[SYSTEM_NAME]['alpha'].append(thermal_expansion_alpha_P(traj[:index], T, V_pot_system[:index]) / 10**-4)\n",
    "        DATA[SYSTEM_NAME]['V_pot_liquid'].append(V_pot_system / n_molecules)\n",
    "        DATA[SYSTEM_NAME]['V_pot_monomer'].append(V_pot_monomer)\n",
    "        DATA[SYSTEM_NAME]['T_system'].append(T_system)\n",
    "        DATA[SYSTEM_NAME]['T_monomer'].append(T_monomer)  "
   ]
  },
  {
   "cell_type": "code",
   "execution_count": null,
   "id": "4b822077-21be-453e-8ffd-c888bea01fe2",
   "metadata": {
    "tags": []
   },
   "outputs": [],
   "source": [
    "names = []\n",
    "T_start, T_end = 2000, 4000\n",
    "exp_density, sim_density, std_density = [], [], []\n",
    "exp_temp, sim_temp, std_temp = [], [], []\n",
    "exp_kappa, sim_kappa, std_kappa = [], [], []\n",
    "exp_alpha, sim_alpha, std_alpha = [], [], []\n",
    "exp_H_vap, sim_H_vap, std_H_vap = [], [], []\n",
    "for SYSTEM_NAME in SYSTEMS_DATA:\n",
    "    if np.amax([x.size for x in DATA[SYSTEM_NAME]['density']]) >= T_end:\n",
    "        mean_density_ = np.array([np.mean(x[T_start:T_end]) for x in DATA[SYSTEM_NAME]['density'] if x[T_start:T_end].any()])\n",
    "        std_density_ = np.std(mean_density_)\n",
    "        mean_temp_ = np.mean(np.array([np.mean(x) for x in DATA[SYSTEM_NAME]['T_system'] if x[T_start:T_end].any()]))\n",
    "        std_temp_ = np.std(mean_temp_)\n",
    "        mean_kappa_, std_kappa_ = np.mean(DATA[SYSTEM_NAME]['kappa']), np.std(DATA[SYSTEM_NAME]['kappa'])\n",
    "        mean_alpha_, std_alpha_ = np.mean(DATA[SYSTEM_NAME]['alpha']), np.std(DATA[SYSTEM_NAME]['alpha'])\n",
    "        V_pot_monomer = np.array([np.mean(x) for x in DATA[SYSTEM_NAME]['V_pot_monomer']]) # [T_start:T_end]\n",
    "        V_pot_liquid = np.array([np.mean(x[T_start:T_end]) for x in DATA[SYSTEM_NAME]['V_pot_liquid'] if x[T_start:T_end].any()])\n",
    "        Hvaps = V_pot_monomer[:V_pot_liquid.shape[0]] + RT(T) - V_pot_liquid\n",
    "        V_pot_mono, V_pot_system = [], []\n",
    "        exp_H_vap.append(SYSTEMS_DATA[SYSTEM_NAME]['Hvap'])\n",
    "        sim_H_vap.append(np.mean(Hvaps))\n",
    "        std_H_vap.append(np.std(Hvaps))\n",
    "        exp_density.append(SYSTEMS_DATA[SYSTEM_NAME]['density'] * 1e3)\n",
    "        sim_density.append(np.mean(mean_density_))\n",
    "        std_density.append(std_density_)       \n",
    "        exp_temp.append(SYSTEMS_DATA[SYSTEM_NAME]['T'])\n",
    "        sim_temp.append(mean_temp_)\n",
    "        std_temp.append(std_temp_)\n",
    "        if SYSTEMS_DATA[SYSTEM_NAME]['kappa'] is not None:\n",
    "            exp_kappa.append(SYSTEMS_DATA[SYSTEM_NAME]['kappa'])\n",
    "            sim_kappa.append(mean_kappa_)\n",
    "            std_kappa.append(std_kappa_)\n",
    "        if SYSTEMS_DATA[SYSTEM_NAME]['alpha'] is not None:\n",
    "            exp_alpha.append(SYSTEMS_DATA[SYSTEM_NAME]['alpha'])\n",
    "            sim_alpha.append(mean_alpha_)\n",
    "            std_alpha.append(std_alpha_)\n",
    "        names.append(SYSTEM_NAME)\n",
    "        if False:\n",
    "            for x in range(N_REPLICA):\n",
    "                plt.plot(DATA[SYSTEM_NAME]['density'][x])\n",
    "            plt.hlines(SYSTEMS_DATA[SYSTEM_NAME]['density'] * 1e3, T_start, T_end, color='black')\n",
    "            plt.hlines(mean_density_, T_start, T_end, color='red')\n",
    "            ax = plt.gca()\n",
    "            ax.set_title(SYSTEM_NAME)\n",
    "            plt.show()\n",
    "        if False:\n",
    "            for x in range(N_REPLICA):\n",
    "                plt.plot(DATA[SYSTEM_NAME]['T_system'][x])\n",
    "            plt.hlines(SYSTEMS_DATA[SYSTEM_NAME]['T'], T_start, T_end, color='black')\n",
    "            plt.hlines(mean_temp_, T_start, T_end, color='red')\n",
    "            ax = plt.gca()\n",
    "            ax.set_title(SYSTEM_NAME)\n",
    "            ax.set_ylim(250, 350)\n",
    "            plt.show()\n",
    "            print(mean_temp_)\n",
    "    else:\n",
    "        print(SYSTEM_NAME)\n",
    "        print([x.size for x in DATA[SYSTEM_NAME]['density']])"
   ]
  },
  {
   "cell_type": "code",
   "execution_count": null,
   "id": "c7a3716c-5b79-4caa-b839-87ef1718f2c1",
   "metadata": {},
   "outputs": [],
   "source": [
    "exp_H_vap, sim_H_vap, std_H_vap = np.array(exp_H_vap), np.array(sim_H_vap), np.array(std_H_vap)\n",
    "exp_density, sim_density, std_density = np.array(exp_density), np.array(sim_density), np.array(std_density)\n",
    "exp_kappa, sim_kappa, std_kappa = np.array(exp_kappa), np.array(sim_kappa), np.array(std_kappa)\n",
    "exp_alpha, sim_alpha, std_alpha = np.array(exp_alpha), np.array(sim_alpha), np.array(std_alpha)\n",
    "exp_temp, sim_temp = np.array(exp_temp), np.array(sim_temp)"
   ]
  },
  {
   "cell_type": "code",
   "execution_count": null,
   "id": "49968736-ecee-4922-bac2-4bd0003e642a",
   "metadata": {},
   "outputs": [],
   "source": [
    "def print_out_results(target=None, prediction=None, stds=None, property_name='', unit='', n_digits=1):\n",
    "    std = np.round(np.mean(stds), n_digits)\n",
    "    mae = MAE(target, prediction, n_digits)\n",
    "    mare = MARE(target, prediction, n_digits)\n",
    "    rmse = RMSE(target, prediction, n_digits)\n",
    "    me = ME(target, prediction, n_digits)\n",
    "    max_abs = np.round(np.amax(np.abs(prediction - target)), n_digits)\n",
    "    r = np.round(pearsonr(exp_H_vap, sim_H_vap).statistic, 2)\n",
    "    print(f'{property_name} [{unit}]& {rmse:{4}.{n_digits}f} $\\pm$ {std:{4}.{n_digits}f}\\\\')\n",
    "    print(f'{property_name} [{unit}]& {mae:{4}.{n_digits}f} $\\pm$ {std:{4}.{n_digits}f} & {me:{4}.{n_digits}f} & {rmse:{4}.{n_digits}f} & {mare:{4}.{n_digits}f} & {max_abs:{4}.{n_digits}f} & {r:{4}.{2}f}\\\\')"
   ]
  },
  {
   "cell_type": "code",
   "execution_count": null,
   "id": "46c3bdc7-dc6f-4dad-9606-e39df83df8ee",
   "metadata": {},
   "outputs": [],
   "source": [
    "print_out_results(target=exp_H_vap, prediction=sim_H_vap, stds=std_H_vap, property_name=\"H$_{\\\\text{vap}}\", unit='kJ/mol', n_digits=1)\n",
    "print_out_results(target=exp_density, prediction=sim_density, stds=std_density, property_name=\"Density\", unit='kg\\\\cdot m$^{-3}$', n_digits=1)"
   ]
  },
  {
   "cell_type": "code",
   "execution_count": null,
   "id": "8be95f3b-445e-41d6-8df0-90e96eeb9a35",
   "metadata": {},
   "outputs": [],
   "source": [
    "np.mean(std_H_vap), np.mean(std_kappa), np.mean(std_alpha)"
   ]
  },
  {
   "cell_type": "code",
   "execution_count": null,
   "id": "8ab3a0bd-37c6-494d-b556-5072e72dd7da",
   "metadata": {
    "tags": []
   },
   "outputs": [],
   "source": [
    "show_results(exp_temp, sim_temp, names=names, dataset_name='Temperature', show_plot=True, show_mae=False, unit='K')"
   ]
  },
  {
   "cell_type": "code",
   "execution_count": null,
   "id": "f603459b-59cf-48be-8c5f-3a7dad4b27bf",
   "metadata": {
    "tags": []
   },
   "outputs": [],
   "source": [
    "show_results(exp_H_vap, sim_H_vap, names=None, dataset_name='Heat of Vaporization', show_plot=True, show_mae=False)"
   ]
  },
  {
   "cell_type": "code",
   "execution_count": null,
   "id": "bbf3d902-acc9-4d32-972c-4da31f47d253",
   "metadata": {},
   "outputs": [],
   "source": [
    "show_results(exp_density, sim_density, names=None, dataset_name='Density', show_plot=True, show_mae=False)"
   ]
  },
  {
   "cell_type": "code",
   "execution_count": null,
   "id": "61d41b52-37ef-406a-8fc5-51d9ef90a0aa",
   "metadata": {},
   "outputs": [],
   "source": [
    "subfig, axs = plt.subplots(1, 2, figsize=(9, 4), dpi=300)\n",
    "axs[0].scatter(exp_density, sim_density, s=35, color='#3E9BBD', edgecolors='black', linewidths=.1)\n",
    "axs[0].set_ylim(650, 1150)\n",
    "axs[0].set_xlim(650, 1150)\n",
    "axs[0].spines['top'].set_visible(False)\n",
    "axs[0].spines['right'].set_visible(False)\n",
    "axs[0].spines['bottom'].set_visible(False)\n",
    "axs[0].spines['left'].set_visible(False)\n",
    "xs = np.linspace(650, 1150)\n",
    "axs[0].plot(xs, xs, color='black', linewidth=1, zorder=-1)\n",
    "axs[0].plot(xs, xs + 50, linewidth=.4, color='grey', zorder=-1)\n",
    "axs[0].plot(xs, xs - 50, linewidth=.4, color='grey', zorder=-1)\n",
    "axs[0].set_xlabel('Experimental Density [kg$\\cdot$m$^{-3}$]')\n",
    "axs[0].set_ylabel('ANA2B$^1$ Density [kg$\\cdot$m$^{-3}$]')\n",
    "axs[0].set_title('Density')\n",
    "\n",
    "axs[1].scatter(exp_H_vap, sim_H_vap, s=35, color='#3E9BBD', edgecolors='black', linewidths=.1)\n",
    "axs[1].set_ylim(15, 80)\n",
    "axs[1].set_xlim(15, 80)\n",
    "axs[1].spines['top'].set_visible(False)\n",
    "axs[1].spines['right'].set_visible(False)\n",
    "axs[1].spines['bottom'].set_visible(False)\n",
    "axs[1].spines['left'].set_visible(False)\n",
    "xs = np.linspace(15, 80)\n",
    "axs[1].plot(xs, xs, color='black', linewidth=1, zorder=-1)\n",
    "axs[1].plot(xs, xs + 4.184, linewidth=.4, color='grey', zorder=-1)\n",
    "axs[1].plot(xs, xs - 4.184, linewidth=.4, color='grey', zorder=-1)\n",
    "axs[1].set_xlabel('Experimental H$_{Vap}$ [kJ/mol]')\n",
    "axs[1].set_ylabel('ANA2B$^1$ H$_{Vap}$ [kJ/mol]')\n",
    "axs[1].set_title('Heat of Vaporization')\n",
    "plt.savefig('figures/results_MD.pdf', bbox_inches='tight')"
   ]
  },
  {
   "cell_type": "code",
   "execution_count": null,
   "id": "7ed6d62f-9b6c-46df-b860-94e7923e240e",
   "metadata": {},
   "outputs": [],
   "source": [
    "show_results(exp_kappa, sim_kappa, dataset_name='Kappa', show_plot=True, show_mae=False)"
   ]
  },
  {
   "cell_type": "code",
   "execution_count": null,
   "id": "852e03b2-c4b0-4e27-9a47-000115e1ac9e",
   "metadata": {},
   "outputs": [],
   "source": [
    "show_results(exp_alpha, sim_alpha, dataset_name='Alpha', show_plot=True, show_mae=False)"
   ]
  },
  {
   "cell_type": "code",
   "execution_count": null,
   "id": "42dd8a7d-aec0-4c15-ad5d-e071a9199fb2",
   "metadata": {},
   "outputs": [],
   "source": [
    "tab_string = ''\n",
    "N_DIGITS = 2\n",
    "for name, hvap_exp, hvap_pred, hvap_std, rho_exp, rho_pred, rho_std, t_exp, t_sim  in zip(names, exp_H_vap, sim_H_vap, std_H_vap, exp_density, sim_density, std_density, exp_temp, sim_temp):\n",
    "    hvap_exp = np.round(hvap_exp, N_DIGITS)\n",
    "    hvap_pred = np.round(hvap_pred, N_DIGITS)\n",
    "    hvap_std = np.round(hvap_std, N_DIGITS)\n",
    "    rho_exp = np.round(rho_exp, N_DIGITS)\n",
    "    rho_pred = np.round(rho_pred, N_DIGITS)\n",
    "    rho_std = np.round(rho_std, N_DIGITS)\n",
    "    t_exp = np.round(t_exp, N_DIGITS)\n",
    "    t_sim = np.round(t_sim, N_DIGITS)\n",
    "    tab_string += f'{name} & {hvap_exp:{4}.{N_DIGITS}f} & {hvap_pred:{4}.{N_DIGITS}f}$\\pm${hvap_std:{4}.{N_DIGITS}f} & {rho_exp:{4}.{N_DIGITS}f}  & {rho_pred:{4}.{N_DIGITS}f}$\\pm${rho_std:{4}.{N_DIGITS}f} & {t_exp:{4}.{N_DIGITS}f}  & {t_sim:{4}.{N_DIGITS}f}\\\\\\\\\\n'\n",
    "print(tab_string)"
   ]
  },
  {
   "cell_type": "code",
   "execution_count": null,
   "id": "ff02218b-eab9-441c-ab1b-995285547adf",
   "metadata": {},
   "outputs": [],
   "source": [
    "np.where(np.array(names) == 'EDAN')"
   ]
  },
  {
   "cell_type": "code",
   "execution_count": null,
   "id": "372dcc5c-3103-4b94-add1-5f790dff549b",
   "metadata": {},
   "outputs": [],
   "source": [
    "\n",
    "sim_H_vap\n",
    "    "
   ]
  },
  {
   "cell_type": "code",
   "execution_count": null,
   "id": "16d743c3-b3d6-42f9-97bf-d795016c9c35",
   "metadata": {},
   "outputs": [],
   "source": [
    "exp_H_vap, sim_H_vap, std_H_vap = np.array(exp_H_vap), np.array(sim_H_vap), np.array(std_H_vap)\n",
    "exp_density, sim_density, std_density = np.array(exp_density), np.array(sim_density), np.array(std_density)\n",
    "exp_kappa, sim_kappa, std_kappa = np.array(exp_kappa), np.array(sim_kappa), np.array(std_kappa)\n",
    "exp_alpha, sim_alpha, std_alpha = np.array(exp_alpha), np.array(sim_alpha), np.array(std_alpha)\n",
    "exp_temp, sim_temp = np.array(exp_temp), np.array(sim_temp)"
   ]
  },
  {
   "cell_type": "code",
   "execution_count": null,
   "id": "e33013c2-809f-4645-be96-19538be34d8f",
   "metadata": {},
   "outputs": [],
   "source": [
    "SYSTEM_NAME = 'EDAN'\n",
    "mean_density_ = np.array([np.mean(x[T_start:T_end]) for x in DATA[SYSTEM_NAME]['density'] if x[T_start:T_end].any()])\n",
    "std_density_ = np.std(mean_density_)\n",
    "mean_temp_ = np.mean(np.array([np.mean(x) for x in DATA[SYSTEM_NAME]['T_system'] if x[T_start:T_end].any()]))\n",
    "std_temp_ = np.std(mean_temp_)\n",
    "mean_kappa_, std_kappa_ = np.mean(DATA[SYSTEM_NAME]['kappa']), np.std(DATA[SYSTEM_NAME]['kappa'])\n",
    "mean_alpha_, std_alpha_ = np.mean(DATA[SYSTEM_NAME]['alpha']), np.std(DATA[SYSTEM_NAME]['alpha'])\n",
    "V_pot_monomer = np.array([np.mean(x) for x in DATA[SYSTEM_NAME]['V_pot_monomer']]) # [T_start:T_end]\n",
    "V_pot_liquid = np.array([np.mean(x[T_start:T_end]) for x in DATA[SYSTEM_NAME]['V_pot_liquid'] if x[T_start:T_end].any()])\n",
    "Hvaps = V_pot_monomer[:V_pot_liquid.shape[0]] + RT(T) - V_pot_liquid\n",
    "V_pot_mono, V_pot_system = [], []\n"
   ]
  },
  {
   "cell_type": "code",
   "execution_count": null,
   "id": "ac0c26a0-ecdf-438e-9f93-14375b4cdfb0",
   "metadata": {},
   "outputs": [],
   "source": [
    "Hvaps"
   ]
  },
  {
   "cell_type": "code",
   "execution_count": null,
   "id": "8e02d46f-6e4e-49f6-8cec-95c016594819",
   "metadata": {},
   "outputs": [],
   "source": [
    "mean_density_"
   ]
  },
  {
   "cell_type": "code",
   "execution_count": null,
   "id": "0126ef2b-3bc5-44f2-89a4-36982f2f3b90",
   "metadata": {},
   "outputs": [],
   "source": [
    "DATA[SYSTEM_NAME]['density'][0][T_start:T_end]"
   ]
  },
  {
   "cell_type": "code",
   "execution_count": null,
   "id": "92d85230-1721-4f10-a12b-d3bb11a4df11",
   "metadata": {},
   "outputs": [],
   "source": [
    "Hvaps = V_pot_monomer[1:] + RT(T) - V_pot_liquid[1:]\n",
    "np.mean(Hvaps), np.std(Hvaps)"
   ]
  },
  {
   "cell_type": "code",
   "execution_count": null,
   "id": "1566e66d-42da-47d2-908e-c2260e19d3d2",
   "metadata": {},
   "outputs": [],
   "source": [
    "V_pot_monomer, V_pot_liquid"
   ]
  },
  {
   "cell_type": "code",
   "execution_count": null,
   "id": "794b7e77-4632-4cb1-8cee-c35c7db0bf12",
   "metadata": {},
   "outputs": [],
   "source": [
    "DATA['EDAN']['density']"
   ]
  },
  {
   "cell_type": "code",
   "execution_count": null,
   "id": "7bf0e319-998f-4b66-9bc1-62b275d56e81",
   "metadata": {},
   "outputs": [],
   "source": [
    "DATA['EDAN']['V_pot_liquid']"
   ]
  },
  {
   "cell_type": "code",
   "execution_count": null,
   "id": "a4538591-d4bc-4bc0-8b8a-1e2b4e0c594f",
   "metadata": {},
   "outputs": [],
   "source": [
    "DATA['EDAN']['V_pot_monomer']"
   ]
  },
  {
   "cell_type": "code",
   "execution_count": null,
   "id": "7ba72fed-d46c-4d17-9b4c-a4065e77b47f",
   "metadata": {},
   "outputs": [],
   "source": [
    "exp_H_vap.append(SYSTEMS_DATA[SYSTEM_NAME]['Hvap'])\n",
    "sim_H_vap.append(np.mean(Hvaps))\n",
    "std_H_vap.append(np.std(Hvaps))\n",
    "exp_density.append(SYSTEMS_DATA[SYSTEM_NAME]['density'] * 1e3)\n",
    "sim_density.append(np.mean(mean_density_))\n",
    "std_density.append(std_density_)       \n",
    "exp_temp.append(SYSTEMS_DATA[SYSTEM_NAME]['T'])\n",
    "sim_temp.append(mean_temp_)\n",
    "std_temp.append(std_temp_)"
   ]
  }
 ],
 "metadata": {
  "kernelspec": {
   "display_name": "TFGPU",
   "language": "python",
   "name": "tfgpu"
  },
  "language_info": {
   "codemirror_mode": {
    "name": "ipython",
    "version": 3
   },
   "file_extension": ".py",
   "mimetype": "text/x-python",
   "name": "python",
   "nbconvert_exporter": "python",
   "pygments_lexer": "ipython3",
   "version": "3.10.12"
  }
 },
 "nbformat": 4,
 "nbformat_minor": 5
}
