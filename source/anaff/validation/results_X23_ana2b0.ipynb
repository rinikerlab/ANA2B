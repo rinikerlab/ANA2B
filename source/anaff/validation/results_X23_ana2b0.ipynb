{
 "cells": [
  {
   "cell_type": "code",
   "execution_count": null,
   "id": "04ead714-bad9-45d4-9fb8-cce5ffe186d2",
   "metadata": {},
   "outputs": [],
   "source": [
    "import os\n",
    "import sys\n",
    "import shutil\n",
    "\n",
    "sys.path.append('../..')\n",
    "os.environ['CUDA_VISIBLE_DEVICES'] = '-1'\n",
    "\n",
    "import matplotlib.pyplot as plt\n",
    "import numpy as np\n",
    "import tensorflow as tf\n",
    "\n",
    "from ase import Atoms\n",
    "from ase.optimize import LBFGS\n",
    "from ase.vibrations import Vibrations\n",
    "from HybridFFGNNNOIND import HybridFF\n",
    "#from IntramolecularPotential import IntramolecularPotential\n",
    "from ANA2B_NOIND import ANA2B, validate\n",
    "from Utilities import show_results, write_xyz\n",
    "from Constants import EV_TO_KJ, H_TO_KJ, BOHR_TO_ANGSTROM\n",
    "\n",
    "from rdkit.Chem.rdmolfiles import MolFromXYZFile\n",
    "from scipy.stats import spearmanr"
   ]
  },
  {
   "cell_type": "code",
   "execution_count": null,
   "id": "6a22937a-be83-417d-8966-95a47794ffaf",
   "metadata": {},
   "outputs": [],
   "source": [
    "DATA_ICE13 = np.load('../../../data/test_sets/ICE13/ICE13.npy', allow_pickle=True).item()\n",
    "DATA_X23 = np.load('../../../data/test_sets/x23_mini.npy', allow_pickle=True).item()\n",
    "\n",
    "X23_reference = {\n",
    "    'CYTSIN01': -163.5,\n",
    "    'UREAXX12': -102.1,\n",
    "    'HXMTAM10': -84.1,\n",
    "    'PYRZOL05': -78.8,\n",
    "    'CYHEXO': -90.0,\n",
    "    'ACETAC07': -73.6,\n",
    "    'ADAMAN08': -71.8,\n",
    "    'nh3': -38.7,\n",
    "    'ANTCEN09': -110.4,\n",
    "    'BENZEN01': -54.8,\n",
    "    'co2': -29.4,\n",
    "    'CYANAM01': -81.5,\n",
    "    'ECARBM01': -88.2,\n",
    "    'FORMAM02': -81.1,\n",
    "    'IMAZOL04': -90.4,\n",
    "    'NAPHTA23': -81.3,\n",
    "    'OXALAC03': -98.8,\n",
    "    'OXALAC04': -96.8,\n",
    "    'PYRAZI01': -64.3,\n",
    "    'TRIZIN': -62.6,\n",
    "    'TROXAN11': -64.6,\n",
    "    'SUCACB03': -130.1,\n",
    "    'URACIL': -136.2,\n",
    "}\n",
    "\n",
    "for key in X23_reference:\n",
    "    DATA_X23[key]['ref'] = X23_reference[key]\n",
    "DATA = {**DATA_X23, **DATA_ICE13}"
   ]
  },
  {
   "cell_type": "code",
   "execution_count": null,
   "id": "e18573c0-1fe6-4b6d-8f06-799f238afd8d",
   "metadata": {},
   "outputs": [],
   "source": [
    "REF_DATA = np.load(f'../../../data/test_sets/BENCHMARK_DATA_NOIND_D3PBE0.npy', allow_pickle=True).item()"
   ]
  },
  {
   "cell_type": "code",
   "execution_count": null,
   "id": "6b135de4-7b60-4d0c-b1b3-687e9aed335c",
   "metadata": {
    "tags": []
   },
   "outputs": [],
   "source": [
    "CUTOFF = 5.5\n",
    "EPOCH = 350\n",
    "\n",
    "ANA = ANA2B(cutoff=CUTOFF, n_units=64, n_steps=1)\n",
    "FOLDER_PATH = f'../weights_noind/'\n",
    "MODEL_PATH = f'ANA2BGNN1_2_D3PBE0_FULLMSE_CUTOFF2B{CUTOFF}_NOIND_E{EPOCH}'\n",
    "ANA.load_weights(f'{FOLDER_PATH}{MODEL_PATH}')\n",
    "hybrid_ff = HybridFF(ana_model=ANA)"
   ]
  },
  {
   "cell_type": "code",
   "execution_count": null,
   "id": "97577c73-594e-48b5-9008-c175009ecd5f",
   "metadata": {
    "scrolled": true,
    "tags": []
   },
   "outputs": [],
   "source": [
    "ref_key = 'S66x8'\n",
    "energy_target, energy_predicted = validate(hybrid_ff.ANA, ref_key, REF_DATA)\n",
    "show_results(energy_target, energy_predicted, ref_key, show_plot=True)"
   ]
  },
  {
   "cell_type": "code",
   "execution_count": null,
   "id": "f9453552-81d9-4482-baa1-bbbf4fd1f8be",
   "metadata": {
    "scrolled": true,
    "tags": []
   },
   "outputs": [],
   "source": [
    "ref_key = 'S7L_CC'\n",
    "energy_target, energy_predicted = validate(hybrid_ff.ANA, ref_key, REF_DATA)\n",
    "show_results(energy_target, energy_predicted, ref_key, show_plot=True)"
   ]
  },
  {
   "cell_type": "code",
   "execution_count": null,
   "id": "c9a131b0-70de-4ec3-9cce-fbc78d19cd58",
   "metadata": {},
   "outputs": [],
   "source": [
    "RESULTS = {}\n",
    "MINIMIZED_STRUCTURES = np.load(f'data/MINIMIZED_STRUCTURES_NOIND.npy', allow_pickle=True).item()\n",
    "MONOMER_ENERGIES = np.load('data/MONOMER_ENERGIES.npy', allow_pickle=True).item()"
   ]
  },
  {
   "cell_type": "code",
   "execution_count": null,
   "id": "85296538-d399-4a8b-92aa-55fdf878c226",
   "metadata": {
    "tags": []
   },
   "outputs": [],
   "source": [
    "key = 'co2'\n",
    "RESULTS[key] = {}\n",
    "print(key, DATA[key]['ref'])\n",
    "elements_uc = DATA[key]['uc_symbols']\n",
    "coords_uc = DATA[key]['uc_coordinates'][None]\n",
    "lattice = DATA[key]['cell'][None]\n",
    "mol_size = len(DATA[key]['monomer_symbols'])\n",
    "hybrid_ff.initialize(elements_uc, coords_uc, lattice, mol_size)\n",
    "output = hybrid_ff.get_components(coords_uc, elements_uc, lattice)\n",
    "print(f'Total: {output[\"V_total\"][0].numpy()}')\n",
    "print(f'Intermolecular: {output[\"V_inter\"][0].numpy()}')\n",
    "\n",
    "RESULTS[key]['ref'] = DATA[key]['ref']\n",
    "RESULTS[key]['lat'] = output[\"V_inter\"][0].numpy()"
   ]
  },
  {
   "cell_type": "code",
   "execution_count": null,
   "id": "60224098-347b-4d5b-9991-4a7b863df76c",
   "metadata": {
    "scrolled": true,
    "tags": []
   },
   "outputs": [],
   "source": [
    "for key in X23_reference:    \n",
    "    if key not in ['co2']:\n",
    "        RESULTS[key] = {}\n",
    "        print(key, DATA[key]['ref'])\n",
    "        elements_uc = MINIMIZED_STRUCTURES[key]['elements_uc']\n",
    "        mol_size = len(DATA_X23[key]['monomer_symbols'])\n",
    "        coords_uc = MINIMIZED_STRUCTURES[key]['coords_uc']\n",
    "        lattice = MINIMIZED_STRUCTURES[key]['lattice']\n",
    "        atoms = hybrid_ff.initialize(elements_uc, coords_uc, lattice, mol_size)\n",
    "        optimizer = LBFGS(atoms) \n",
    "        optimizer.run(fmax=1 / EV_TO_KJ)       \n",
    "        coords_uc = atoms.get_positions()[None].astype(np.float32)\n",
    "        V_total = hybrid_ff(coords_uc, lattice, grad=False)\n",
    "        E_lat = V_total[0] /  hybrid_ff._n_molecules_uc - MONOMER_ENERGIES[key]       \n",
    "        print(f'Lattice Energy [kJ/mol]: {E_lat}')\n",
    "        RESULTS[key]['ref'] = DATA[key]['ref']\n",
    "        RESULTS[key]['lat'] = E_lat\n",
    "        RESULTS[key]['structure'] = coords_uc\n",
    "        RESULTS[key]['elements_uc'] = elements_uc\n",
    "        RESULTS[key]['lattice'] = lattice\n",
    "        MINIMIZED_STRUCTURES[key]['coords_uc'] = coords_uc"
   ]
  },
  {
   "cell_type": "code",
   "execution_count": null,
   "id": "7e4e4772-3f7c-4327-abfc-f81c369f224b",
   "metadata": {
    "scrolled": true,
    "tags": []
   },
   "outputs": [],
   "source": [
    "for key in DATA_ICE13:\n",
    "    print(key, DATA[key]['ref'])\n",
    "    RESULTS[key] = {}\n",
    "    elements_uc = MINIMIZED_STRUCTURES[key]['elements_uc']\n",
    "    mol_size = len(DATA[key]['monomer_symbols'])\n",
    "    coords_uc = MINIMIZED_STRUCTURES[key]['coords_uc']\n",
    "    lattice = MINIMIZED_STRUCTURES[key]['lattice']\n",
    "    atoms = hybrid_ff.initialize(elements_uc, coords_uc, lattice, mol_size)  \n",
    "    optimizer = LBFGS(atoms)\n",
    "    optimizer.run(fmax=1 / EV_TO_KJ)\n",
    "    coords_uc = atoms.get_positions()[None].astype(np.float32)\n",
    "    V_total, dV_total = hybrid_ff(coords_uc, lattice, grad=True)\n",
    "    E_lat = V_total[0] /  hybrid_ff._n_molecules_uc - MONOMER_ENERGIES['ICE']\n",
    "    print(f'Lattice Energy: {E_lat}')\n",
    "    print(f'Max Gradient: {tf.reduce_max(dV_total).numpy()}')    \n",
    "    RESULTS[key]['ref'] = DATA[key]['ref']\n",
    "    RESULTS[key]['lat'] = E_lat\n",
    "    RESULTS[key]['structure'] = coords_uc\n",
    "    RESULTS[key]['elements_uc'] = elements_uc\n",
    "    RESULTS[key]['lattice'] = lattice\n",
    "    MINIMIZED_STRUCTURES[key]['coords_uc'] = coords_uc"
   ]
  },
  {
   "cell_type": "code",
   "execution_count": null,
   "id": "cf9d7594-e82d-4341-a6bd-325006a4aef5",
   "metadata": {},
   "outputs": [],
   "source": [
    "np.save('RESULTS_NOIND', RESULTS)"
   ]
  },
  {
   "cell_type": "code",
   "execution_count": null,
   "id": "966c4019-8f5a-43da-8f8d-d68be93702d1",
   "metadata": {},
   "outputs": [],
   "source": [
    "references, predictions, names = [], [], []\n",
    "for key in X23_reference:\n",
    "    references.append(RESULTS[key]['ref'])\n",
    "    predictions.append(RESULTS[key]['lat'])\n",
    "    names.append(key)\n",
    "references, predictions = np.array(references), np.array(predictions)"
   ]
  },
  {
   "cell_type": "code",
   "execution_count": null,
   "id": "672bb02a-22ed-4bd5-86b7-3543a23b4a9a",
   "metadata": {},
   "outputs": [],
   "source": [
    "print(spearmanr(references, predictions).statistic)\n",
    "show_results(references, predictions, '',show_chem_acc=True, show_plot=True, show_mae=False)\n",
    "plt.show()\n",
    "show_results(references, predictions, '',show_chem_acc=True, names=names, show_plot=True, show_mae=False)\n",
    "plt.show()\n",
    "show_results(references, predictions, 'X23', names=names, show_chem_acc=True, show_plot=True)\n"
   ]
  },
  {
   "cell_type": "code",
   "execution_count": null,
   "id": "59b5a719-51bd-473e-a368-0984d122e399",
   "metadata": {},
   "outputs": [],
   "source": [
    "references, predictions, names = [], [], []\n",
    "for key in DATA_ICE13:\n",
    "    references.append(RESULTS[key]['ref'])\n",
    "    predictions.append(RESULTS[key]['lat'])\n",
    "    names.append(key)\n",
    "references, predictions = np.array(references), np.array(predictions)"
   ]
  },
  {
   "cell_type": "code",
   "execution_count": null,
   "id": "4a3565d5-d920-4143-990c-a678019cc0ee",
   "metadata": {},
   "outputs": [],
   "source": [
    "print(spearmanr(references, predictions).statistic)\n",
    "show_results(references, predictions, '',show_chem_acc=True, show_plot=True, show_mae=False)\n",
    "plt.show()\n",
    "show_results(references, predictions, '',show_chem_acc=True, names=names, show_plot=True, show_mae=False)\n",
    "plt.show()\n",
    "show_results(references, predictions, 'X23', names=names, show_chem_acc=True, show_plot=True)\n"
   ]
  },
  {
   "cell_type": "code",
   "execution_count": null,
   "id": "e80f9943-1d37-4335-9ff0-abbaee6952c3",
   "metadata": {},
   "outputs": [],
   "source": [
    "np.save('data/MINIMIZED_STRUCTURES_NOIND', MINIMIZED_STRUCTURES)"
   ]
  },
  {
   "cell_type": "code",
   "execution_count": null,
   "id": "a02e6b2a-29d8-4ac2-b317-962dad348c1a",
   "metadata": {},
   "outputs": [],
   "source": [
    "RESULTS = np.load('RESULTS_NOIND.npy', allow_pickle=True).item()"
   ]
  },
  {
   "cell_type": "code",
   "execution_count": null,
   "id": "5ab8dfbc-37c2-45bf-84c1-843e72f3ad50",
   "metadata": {},
   "outputs": [],
   "source": [
    "tab_string = ''\n",
    "N_DIGITS = 1\n",
    "for key in X23_reference:\n",
    "    ref = np.round(RESULTS[key]['ref'], N_DIGITS)\n",
    "    pred = np.round(np.array(RESULTS[key]['lat']), N_DIGITS)\n",
    "    delta = pred - ref\n",
    "    tab_string += f'{key.upper()} & {ref:{4}.{N_DIGITS}f} & {pred:{4}.{N_DIGITS}f} & {delta:{4}.{N_DIGITS}f}\\\\\\\\\\n'\n",
    "print(tab_string)"
   ]
  },
  {
   "cell_type": "code",
   "execution_count": null,
   "id": "160bde01-098c-4ac6-9113-039198f33a0f",
   "metadata": {},
   "outputs": [],
   "source": [
    "tab_string = ''\n",
    "N_DIGITS = 1\n",
    "keys = sorted(DATA_ICE13.keys())\n",
    "for key in keys:\n",
    "    ref = np.round(RESULTS[key]['ref'], N_DIGITS)\n",
    "    pred = np.round(np.array(RESULTS[key]['lat']), N_DIGITS)\n",
    "    delta = pred - ref\n",
    "    tab_string += f'{key} & {ref:{4}.{N_DIGITS}f} & {pred:{4}.{N_DIGITS}f} & {delta:{4}.{N_DIGITS}f}\\\\\\\\\\n'\n",
    "print(tab_string)"
   ]
  },
  {
   "cell_type": "code",
   "execution_count": null,
   "id": "9d8f9372-1683-4660-9c37-2718c148873b",
   "metadata": {},
   "outputs": [],
   "source": []
  }
 ],
 "metadata": {
  "kernelspec": {
   "display_name": "TFGPU",
   "language": "python",
   "name": "tfgpu"
  },
  "language_info": {
   "codemirror_mode": {
    "name": "ipython",
    "version": 3
   },
   "file_extension": ".py",
   "mimetype": "text/x-python",
   "name": "python",
   "nbconvert_exporter": "python",
   "pygments_lexer": "ipython3",
   "version": "3.10.12"
  }
 },
 "nbformat": 4,
 "nbformat_minor": 5
}
