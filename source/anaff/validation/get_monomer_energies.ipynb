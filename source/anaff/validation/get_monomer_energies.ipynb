{
 "cells": [
  {
   "cell_type": "code",
   "execution_count": null,
   "id": "04ead714-bad9-45d4-9fb8-cce5ffe186d2",
   "metadata": {},
   "outputs": [],
   "source": [
    "import os\n",
    "import sys\n",
    "import shutil\n",
    "\n",
    "sys.path.append('../..')\n",
    "os.environ['CUDA_VISIBLE_DEVICES'] = '-1'\n",
    "\n",
    "import matplotlib.pyplot as plt\n",
    "import numpy as np\n",
    "import tensorflow as tf\n",
    "\n",
    "from ase import Atoms\n",
    "from ase.optimize import BFGS\n",
    "from ase.vibrations import Vibrations\n",
    "from Intra import Intra\n",
    "from Utilities import show_results, write_xyz\n",
    "from Constants import EV_TO_KJ, H_TO_KJ, BOHR_TO_ANGSTROM\n",
    "\n",
    "from rdkit.Chem.rdmolfiles import MolFromXYZFile"
   ]
  },
  {
   "cell_type": "code",
   "execution_count": null,
   "id": "6a22937a-be83-417d-8966-95a47794ffaf",
   "metadata": {},
   "outputs": [],
   "source": [
    "DATA_ICE13 = np.load('../../../data/test_sets/ICE13/ICE13.npy', allow_pickle=True).item()\n",
    "DATA_X23 = np.load('../../../data/test_sets/x23_mini.npy', allow_pickle=True).item()\n",
    "KEYS = ['CYHEXO', 'ACETAC07', 'ADAMAN08', 'ANTCEN09', 'BENZEN01', 'CYANAM01', \n",
    "        'CYTSIN01', 'ECARBM01', 'FORMAM02', 'HXMTAM10', 'IMAZOL04', 'NAPHTA23', \n",
    "        'OXALAC03', 'OXALAC04', 'PYRAZI01', 'PYRZOL05', 'TRIZIN', 'TROXAN11', \n",
    "        'SUCACB03', 'URACIL', 'UREAXX12', 'nh3', 'co2']\n",
    "DATA = {**DATA_X23, **DATA_ICE13}"
   ]
  },
  {
   "cell_type": "code",
   "execution_count": null,
   "id": "65d06e15-b86d-4b2f-b615-0afa933a0404",
   "metadata": {},
   "outputs": [],
   "source": [
    "MONOMER_ENERGIES = {}\n",
    "Intra = Intra(use_D3=True)"
   ]
  },
  {
   "cell_type": "code",
   "execution_count": null,
   "id": "d1adb611-1521-42b1-a90c-f251e6b4aef2",
   "metadata": {
    "tags": []
   },
   "outputs": [],
   "source": [
    "for key in KEYS:\n",
    "    print(key)\n",
    "    if key not in ['co2', 'OXALAC03', 'OXALAC04']:\n",
    "        coords_monomer = DATA_X23[key]['monomer_coordinates'][None]\n",
    "        elements_monomer = DATA_X23[key]['monomer_symbols']\n",
    "        geometry = by.Geometry(elements_monomer, coords_monomer[0])\n",
    "        optimizer = by.Berny(geometry, debug=True, maxsteps=50, dihedral=True)\n",
    "        Intra.initialize(coords_monomer, elements_monomer)\n",
    "        for idg, geom in enumerate(optimizer):\n",
    "            coords = geom.coords[None].astype(np.float32)\n",
    "            V_intra, dV_intra, (monos, dipos, quads, ratio) = Intra(coords, grad=True)\n",
    "            debug = optimizer.send((V_intra.numpy()[0, 0] / H_TO_KJ, dV_intra.numpy()[0] / (H_TO_KJ / BOHR_TO_ANGSTROM)))\n",
    "            print(f'Step - {idg}')\n",
    "            print(V_intra.numpy()[0, 0])\n",
    "        MONOMER_ENERGIES[key] = V_intra.numpy()[0, 0]"
   ]
  },
  {
   "cell_type": "code",
   "execution_count": null,
   "id": "bbddaeaa-ca2f-49fb-a970-cb92a12fa598",
   "metadata": {
    "tags": []
   },
   "outputs": [],
   "source": [
    "rdkit_mol = MolFromXYZFile('data/oxalac_min.xyz')\n",
    "coords_monomer = rdkit_mol.GetConformer(0).GetPositions()[None]\n",
    "elements_monomer = [a.GetSymbol() for a in rdkit_mol.GetAtoms()]\n",
    "geometry = by.Geometry(elements_monomer, coords_monomer[0])\n",
    "optimizer = by.Berny(geometry, debug=True, maxsteps=50, dihedral=True)\n",
    "Intra.initialize(coords_monomer, elements_monomer)\n",
    "for idg, geom in enumerate(optimizer):\n",
    "    coords = geom.coords[None].astype(np.float32)\n",
    "    V_intra, dV_intra, (monos, dipos, quads, ratio) = Intra(coords, grad=True)\n",
    "    debug = optimizer.send((V_intra.numpy()[0, 0] / H_TO_KJ, dV_intra.numpy()[0] / (H_TO_KJ / BOHR_TO_ANGSTROM)))\n",
    "    print(f'Step - {idg}')\n",
    "    print(V_intra.numpy()[0, 0])\n",
    "MONOMER_ENERGIES['OXALAC03'] = V_intra.numpy()[0, 0]\n",
    "MONOMER_ENERGIES['OXALAC04'] = V_intra.numpy()[0, 0]"
   ]
  },
  {
   "cell_type": "code",
   "execution_count": null,
   "id": "e3cac526-c3bb-4e83-b58e-0e03f180d0db",
   "metadata": {
    "tags": []
   },
   "outputs": [],
   "source": [
    "key = 'Ih'\n",
    "coords_monomer = DATA_ICE13[key]['monomer_coordinates'][None]\n",
    "elements_monomer = DATA_ICE13[key]['monomer_symbols']\n",
    "geometry = by.Geometry(elements_monomer, coords_monomer[0])\n",
    "optimizer = by.Berny(geometry, debug=True, maxsteps=50, dihedral=True)\n",
    "Intra.initialize(coords_monomer, elements_monomer)\n",
    "for idg, geom in enumerate(optimizer):\n",
    "    coords = geom.coords[None].astype(np.float32)\n",
    "    V_intra, dV_intra, (monos, dipos, quads, ratio) = Intra(coords, grad=True)\n",
    "    debug = optimizer.send((V_intra.numpy()[0, 0] / H_TO_KJ, dV_intra.numpy()[0] / (H_TO_KJ / BOHR_TO_ANGSTROM)))\n",
    "    print(f'Step - {idg}')\n",
    "    print(V_intra.numpy()[0, 0])\n",
    "MONOMER_ENERGIES['ICE'] = V_intra.numpy()[0, 0]"
   ]
  },
  {
   "cell_type": "code",
   "execution_count": null,
   "id": "be886f3f-8e9f-4554-83b5-977755d99dfa",
   "metadata": {},
   "outputs": [],
   "source": [
    "key = 'co2'\n",
    "coords_monomer = DATA_X23[key]['monomer_coordinates'][None]\n",
    "elements_monomer = DATA_X23[key]['monomer_symbols']\n",
    "geometry = by.Geometry(elements_monomer, coords_monomer[0])\n",
    "Intra.initialize(coords_monomer, elements_monomer)\n",
    "\n",
    "V_intra, dV_intra, (monos, dipos, quads, ratio) = Intra(coords_monomer, grad=True)\n",
    "MONOMER_ENERGIES['co2'] = V_intra.numpy()[0, 0]"
   ]
  },
  {
   "cell_type": "code",
   "execution_count": null,
   "id": "3f54c8e3-c095-4f60-8fc5-48cb4bfbe7bf",
   "metadata": {},
   "outputs": [],
   "source": [
    "np.save('MONOMER_ENERGIES', MONOMER_ENERGIES)"
   ]
  },
  {
   "cell_type": "code",
   "execution_count": null,
   "id": "9cf0740b-a31a-494b-9eed-0e09e1c7ed78",
   "metadata": {},
   "outputs": [],
   "source": []
  }
 ],
 "metadata": {
  "kernelspec": {
   "display_name": "TFGPU",
   "language": "python",
   "name": "tfgpu"
  },
  "language_info": {
   "codemirror_mode": {
    "name": "ipython",
    "version": 3
   },
   "file_extension": ".py",
   "mimetype": "text/x-python",
   "name": "python",
   "nbconvert_exporter": "python",
   "pygments_lexer": "ipython3",
   "version": "3.10.12"
  }
 },
 "nbformat": 4,
 "nbformat_minor": 5
}
