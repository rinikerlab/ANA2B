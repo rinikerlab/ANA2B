{
 "cells": [
  {
   "cell_type": "code",
   "execution_count": null,
   "id": "bd7aaf37-cfef-48fc-9249-d71e5bf478ca",
   "metadata": {},
   "outputs": [],
   "source": [
    "import os\n",
    "import sys\n",
    "\n",
    "os.environ['CUDA_VISIBLE_DEVICES'] = '-1'\n",
    "\n",
    "import numpy as np\n",
    "import matplotlib.pyplot as plt"
   ]
  },
  {
   "cell_type": "code",
   "execution_count": null,
   "id": "d6c29285-da94-4f45-8939-1b47fd225878",
   "metadata": {},
   "outputs": [],
   "source": [
    "DATA_ICE13 = np.load('../../../data/test_sets/ICE13/ICE13.npy', allow_pickle=True).item()\n",
    "DATA_X23 = np.load('../../../data/test_sets/x23_mini.npy', allow_pickle=True).item()"
   ]
  },
  {
   "cell_type": "code",
   "execution_count": null,
   "id": "cfb29cfd-a60c-43df-bbbf-585e886ab895",
   "metadata": {},
   "outputs": [],
   "source": [
    "X23_reference = {\n",
    "    'CYTSIN01': -163.5,\n",
    "    'UREAXX12': -102.1,\n",
    "    'HXMTAM10': -84.1,\n",
    "    'PYRZOL05': -78.8,\n",
    "    'CYHEXO': -90.0,\n",
    "    'ACETAC07': -73.6,\n",
    "    'ADAMAN08': -71.8,\n",
    "    'nh3': -38.7,\n",
    "    'ANTCEN09': -110.4,\n",
    "    'BENZEN01': -54.8,\n",
    "    'co2': -29.4,\n",
    "    'CYANAM01': -81.5,\n",
    "    'ECARBM01': -88.2,\n",
    "    'FORMAM02': -81.1,\n",
    "    'IMAZOL04': -90.4,\n",
    "    'NAPHTA23': -81.3,\n",
    "    'OXALAC03': -98.8,\n",
    "    'OXALAC04': -96.8,\n",
    "    'PYRAZI01': -64.3,\n",
    "    'TRIZIN': -62.6,\n",
    "    'TROXAN11': -64.6,\n",
    "    'SUCACB03': -130.1,\n",
    "    'URACIL': -136.2,\n",
    "}\n",
    "\n",
    "for key in X23_reference:\n",
    "    DATA_X23[key]['ref'] = X23_reference[key]\n",
    "DATA = {**DATA_X23, **DATA_ICE13}"
   ]
  },
  {
   "cell_type": "code",
   "execution_count": null,
   "id": "00bcce6d-7fa8-45a2-97d0-044c7808fad7",
   "metadata": {},
   "outputs": [],
   "source": [
    "RESULTS_IND = np.load('RESULTS_IND.npy', allow_pickle=True).item()\n",
    "RESULTS_IND0 = np.load('RESULTS_IND0.npy', allow_pickle=True).item()\n",
    "RESULTS_NOIND = np.load('RESULTS_NOIND.npy', allow_pickle=True).item()"
   ]
  },
  {
   "cell_type": "code",
   "execution_count": null,
   "id": "f6c07a91-0657-4447-96dd-fe27dae80aa7",
   "metadata": {},
   "outputs": [],
   "source": [
    "references_x23, names_x23 = [], []\n",
    "predictions_ind_x23, predictions_ind0_x23, predictions_noind_x23 = [], [], []\n",
    "\n",
    "for key in X23_reference:\n",
    "    references_x23.append(RESULTS_IND[key]['ref'])\n",
    "    predictions_ind_x23.append(RESULTS_IND[key]['lat'])\n",
    "    predictions_ind0_x23.append(RESULTS_IND0[key]['lat'])\n",
    "    predictions_noind_x23.append(RESULTS_NOIND[key]['lat'])\n",
    "    names_x23.append(key)\n",
    "references_x23 = np.array(references_x23) \n",
    "predictions_ind_x23 =  np.array(predictions_ind_x23)\n",
    "predictions_ind0_x23 = np.array(predictions_ind0_x23)\n",
    "predictions_noind_x23 =  np.array(predictions_noind_x23)"
   ]
  },
  {
   "cell_type": "code",
   "execution_count": null,
   "id": "51d0361b-1b3e-40f9-877d-7e806e6a3763",
   "metadata": {},
   "outputs": [],
   "source": [
    "references_ICE, names_ICE = [], []\n",
    "predictions_ind_ICE, predictions_ind0_ICE, predictions_noind_ICE = [], [], []\n",
    "\n",
    "for key in DATA_ICE13:\n",
    "    references_ICE.append(RESULTS_IND[key]['ref'])\n",
    "    predictions_ind_ICE.append(RESULTS_IND[key]['lat'])\n",
    "    predictions_ind0_ICE.append(RESULTS_IND0[key]['lat'])\n",
    "    predictions_noind_ICE.append(RESULTS_NOIND[key]['lat'])\n",
    "    names_ICE.append(key)\n",
    "references_ICE = np.array(references_ICE) \n",
    "predictions_ind_ICE =  np.array(predictions_ind_ICE)\n",
    "predictions_ind0_ICE = np.array(predictions_ind0_ICE)\n",
    "predictions_noind_ICE =  np.array(predictions_noind_ICE)"
   ]
  },
  {
   "cell_type": "code",
   "execution_count": null,
   "id": "e670ff57-0ab4-4bfd-b518-d5bacfdff812",
   "metadata": {},
   "outputs": [],
   "source": [
    "main_fig = plt.figure(layout='constrained', figsize=(9, 5.5), dpi=300)\n",
    "\n",
    "subfig = main_fig.subfigures(2, 1, wspace=0.07)\n",
    "subfig[0].suptitle('X23')\n",
    "subfig1 = subfig[0].subfigures(1, 3, wspace=0.07, height_ratios=[1])\n",
    "for idf, (fig, pred) in enumerate(zip(subfig1, [predictions_noind_x23, predictions_ind0_x23, predictions_ind_x23])):\n",
    "    ax = fig.subplots(sharey=True, sharex=True)\n",
    "    xs = np.linspace(-170, -20)\n",
    "    ax.plot(xs, xs, color='black', linewidth=1, zorder=-1)\n",
    "    plt.plot(xs, xs + 4.184, linewidth=.4, color='grey', zorder=-1)\n",
    "    plt.plot(xs, xs - 4.184, linewidth=.4, color='grey', zorder=-1)\n",
    "    ax.scatter(references_x23, pred, s=25, color='#3E9BBD', edgecolors='black', linewidths=.1)\n",
    "    ax.set_yticks([-50, -100, -150])\n",
    "    ax.set_xticks([-50, -100, -150])\n",
    "    ax.set_ylim(-170, -20)\n",
    "    ax.set_xlim(-170, -20)\n",
    "    ax.spines['top'].set_visible(False)\n",
    "    ax.spines['right'].set_visible(False)\n",
    "    ax.spines['bottom'].set_visible(False)\n",
    "    ax.spines['left'].set_visible(False)\n",
    "    ax.set_xlabel('Reference [kJ/mol]', labelpad=5)\n",
    "    if idf == 0:\n",
    "        ax.set_ylabel('ANA2B$^0$ [kJ/mol]', labelpad=5)\n",
    "    if idf == 1:\n",
    "        ax.set_ylabel('ANA2B$^1$ [kJ/mol]', labelpad=5)\n",
    "    if idf == 2:\n",
    "        ax.set_ylabel('ANA2B$^\\infty$ [kJ/mol]', labelpad=5)\n",
    "subfig2 = subfig[1].subfigures(1, 3, wspace=0.07, height_ratios=[1])\n",
    "subfig[1].suptitle('ICE13')\n",
    "for idf, (fig, pred) in enumerate(zip(subfig2, [predictions_noind_ICE, predictions_ind0_ICE, predictions_ind_ICE])):\n",
    "    ax = fig.subplots(sharey=True, sharex=True)\n",
    "    xs = np.linspace(-64, -45)\n",
    "    ax.plot(xs, xs, color='black', linewidth=1, zorder=-1)\n",
    "    plt.plot(xs, xs + 4.184, linewidth=.4, color='grey', zorder=-1)\n",
    "    plt.plot(xs, xs - 4.184, linewidth=.4, color='grey', zorder=-1)\n",
    "    ax.scatter(references_ICE, pred, s=25, color='#3E9BBD', edgecolors='black', linewidths=.1)\n",
    "    ax.set_ylim(-63, -45)\n",
    "    ax.set_xlim(-63, -45)\n",
    "    ax.spines['top'].set_visible(False)\n",
    "    ax.spines['right'].set_visible(False)\n",
    "    ax.spines['bottom'].set_visible(False)\n",
    "    ax.spines['left'].set_visible(False)\n",
    "    ax.set_xlabel('Reference [kJ/mol]', labelpad=5)\n",
    "    if idf == 0:\n",
    "        ax.set_ylabel('ANA2B$^0$ [kJ/mol]', labelpad=5)\n",
    "    if idf == 1:\n",
    "        ax.set_ylabel('ANA2B$^1$ [kJ/mol]', labelpad=5)\n",
    "    if idf == 2:\n",
    "        ax.set_ylabel('ANA2B$^\\infty$ [kJ/mol]', labelpad=5)\n",
    "plt.savefig('figures/comparison_anas.pdf')"
   ]
  },
  {
   "cell_type": "code",
   "execution_count": null,
   "id": "4aaa2e1d-b81a-4684-92a5-55f99b29f989",
   "metadata": {},
   "outputs": [],
   "source": []
  }
 ],
 "metadata": {
  "kernelspec": {
   "display_name": "TFGPU",
   "language": "python",
   "name": "tfgpu"
  },
  "language_info": {
   "codemirror_mode": {
    "name": "ipython",
    "version": 3
   },
   "file_extension": ".py",
   "mimetype": "text/x-python",
   "name": "python",
   "nbconvert_exporter": "python",
   "pygments_lexer": "ipython3",
   "version": "3.10.12"
  }
 },
 "nbformat": 4,
 "nbformat_minor": 5
}
