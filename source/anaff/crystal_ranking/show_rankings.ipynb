{
 "cells": [
  {
   "cell_type": "code",
   "execution_count": null,
   "id": "901a8167-1571-49fa-8bc1-c9f95829b23a",
   "metadata": {},
   "outputs": [],
   "source": [
    "import os\n",
    "import sys\n",
    "import time\n",
    "\n",
    "sys.path.append('../..')\n",
    "os.environ['CUDA_VISIBLE_DEVICES'] = '-1'\n",
    "\n",
    "import matplotlib.pyplot as plt\n",
    "import mdtraj as md\n",
    "import numpy as np\n",
    "import tensorflow as tf\n",
    "\n",
    "from Constants import EV_TO_KJ, H_TO_KJ, BOHR_TO_ANGSTROM\n",
    "\n",
    "from ase import Atoms\n",
    "from ase.io import read\n",
    "from ase.io.trajectory import Trajectory\n",
    "from ase.thermochemistry import HarmonicThermo, CrystalThermo\n",
    "\n",
    "from scipy.constants import Boltzmann, Avogadro\n",
    "from scipy.stats import linregress\n",
    "from scipy.integrate import romb, simpson\n",
    "from ase.geometry.cell import cell_to_cellpar\n",
    "\n",
    "import mdtraj.utils.unit.unit_definitions as u"
   ]
  },
  {
   "cell_type": "code",
   "execution_count": null,
   "id": "825ec38f-4cd8-44ee-9805-54fc69fb6f09",
   "metadata": {
    "tags": []
   },
   "outputs": [],
   "source": [
    "SYSTEMS_DATA = np.load('../../../data/test_sets/DATA_CSP_ranking.npy', allow_pickle=True).item()\n",
    "\n",
    "\n",
    "RT = lambda T: (Boltzmann * Avogadro) * T / 1000\n",
    "\n",
    "RMSE = lambda x, y: np.round(np.sqrt(np.mean(np.square(np.subtract(x, y)))), 1)\n",
    "MAE = lambda x, y: np.round(np.mean(np.abs(np.subtract(x, y))), 1) \n",
    "ME = lambda x, y: np.round(np.mean(np.subtract(x, y)), 1)\n",
    "STD = lambda x, y: np.round(np.std(np.subtract(x, y)), 1)\n",
    "MAE = lambda x, y: np.round(np.mean(np.abs(np.subtract(x, y))), 1)"
   ]
  },
  {
   "cell_type": "code",
   "execution_count": null,
   "id": "5de327f8-55f1-45c1-8bdc-16bd594b4e89",
   "metadata": {
    "tags": []
   },
   "outputs": [],
   "source": [
    "SYSTEM_NAME = 'XXIII'\n",
    "FOLDER_PATH = 'data'\n",
    "\n",
    "if SYSTEM_NAME == 'XXII':\n",
    "    T = 150\n",
    "else:\n",
    "    T = 300\n",
    "N_REPLICA = 1\n",
    "T_offset = 200\n",
    "\n",
    "MOL_SIZE = len(SYSTEMS_DATA[SYSTEM_NAME]['N100']['monomer_symbols'])\n",
    "RESULTS = np.load(f'data/RESULTS_{SYSTEM_NAME}.npy', allow_pickle=True).item()\n",
    "MIN_CELLS = np.load(f'systems/MIN_CELLS_{SYSTEM_NAME}_IND0.npy', allow_pickle=True).item()\n",
    "MIN_STRUCTURES = np.load(f'data/STRUCTURES_{SYSTEM_NAME}.npy', allow_pickle=True).item()\n",
    "MD_TERMS = np.load(f'data/MD_TERMS_{SYSTEM_NAME}.npy', allow_pickle=True).item()"
   ]
  },
  {
   "cell_type": "code",
   "execution_count": null,
   "id": "8efebb04-0ae2-4c97-a1e4-99f9d5e99a9e",
   "metadata": {},
   "outputs": [],
   "source": [
    "DATA = {}"
   ]
  },
  {
   "cell_type": "code",
   "execution_count": null,
   "id": "1ee72130-9b2e-4ceb-842e-69949256fc4c",
   "metadata": {
    "scrolled": true,
    "tags": []
   },
   "outputs": [],
   "source": [
    "names, ana2b_E0, ana2b_ET, ana2b_dGh, ana2b_dAh, ana2b_gibbs_term, pbe_mbd, pbe0_mbd, pbe_ts, experimental = [], [], [], [], [], [], [], [], [], []\n",
    "Ns = []\n",
    "for poly_key in RESULTS[SYSTEM_NAME]:\n",
    "    if poly_key in MD_TERMS:\n",
    "        try:\n",
    "            N = len(SYSTEMS_DATA[SYSTEM_NAME][poly_key]['uc_symbols']) // len(SYSTEMS_DATA[SYSTEM_NAME][poly_key]['monomer_symbols']) \n",
    "            volume = np.linalg.det(MIN_CELLS[poly_key][0]) / N\n",
    "            E0 = RESULTS[SYSTEM_NAME][poly_key]['total']\n",
    "            phonon_results = np.load(f'vibdata_phonon/{SYSTEM_NAME}/phonons_{poly_key}.npy', allow_pickle=True).item()\n",
    "            thermo = CrystalThermo(phonon_energies=phonon_results['phonon_energies'],\n",
    "                               phonon_DOS=phonon_results['phonon_DOS'],\n",
    "                               potentialenergy=0,\n",
    "                               formula_units=N)\n",
    "            ediffs = np.load(os.path.join('data_ah/', f'{SYSTEM_NAME}/{SYSTEM_NAME}_{poly_key}_ediffs.npy'), allow_pickle=True).item()\n",
    "            lambdas = [key for key in ediffs]\n",
    "            ediffs = [ediffs[lamb] for lamb in lambdas]\n",
    "            dA = (np.trapz(ediffs, x=lambdas) * EV_TO_KJ) / N\n",
    "            plt.scatter(lambdas, ediffs)\n",
    "            plt.plot(lambdas, ediffs)\n",
    "            Ns.append(N)\n",
    "            dG = thermo.get_helmholtz_energy(T) * EV_TO_KJ\n",
    "            ana2b_E0.append(E0)\n",
    "            ana2b_dGh.append(dG)\n",
    "            ana2b_dAh.append(dA)\n",
    "            ana2b_ET.append(MD_TERMS[poly_key]['V_pot_mu'])\n",
    "            ana2b_gibbs_term.append(MD_TERMS[poly_key]['gibbs_term'])\n",
    "            pbe_ts.append(SYSTEMS_DATA[SYSTEM_NAME][poly_key]['PBE+TS'])\n",
    "            pbe_mbd.append(SYSTEMS_DATA[SYSTEM_NAME][poly_key]['PBE+MBD'])    \n",
    "            pbe0_mbd.append(SYSTEMS_DATA[SYSTEM_NAME][poly_key]['PBE0+MBD'])\n",
    "            experimental.append(SYSTEMS_DATA[SYSTEM_NAME][poly_key]['exp'])\n",
    "            names.append(poly_key)\n",
    "        except:\n",
    "            print(poly_key)\n",
    "            continue"
   ]
  },
  {
   "cell_type": "code",
   "execution_count": null,
   "id": "5d8d4d25-2bf2-4a78-a509-645d52eb288f",
   "metadata": {},
   "outputs": [],
   "source": [
    "[name for name in RESULTS[SYSTEM_NAME] if name not in names]"
   ]
  },
  {
   "cell_type": "code",
   "execution_count": null,
   "id": "c60a04de-a8b8-4e57-8ff8-3008db6e6e32",
   "metadata": {},
   "outputs": [],
   "source": [
    "# ['N100', 'N90'] # XXII\n",
    "# ['N43', 'N44', 'N70', 'N39']: XXIII\n",
    "# ['N59', 'N20', 'N35']: XXVI"
   ]
  },
  {
   "cell_type": "code",
   "execution_count": null,
   "id": "e4b7e60d-8364-4595-a531-e8239813e96a",
   "metadata": {
    "tags": []
   },
   "outputs": [],
   "source": [
    "names = np.array(names)\n",
    "ana2b_E0 = np.array(ana2b_E0)\n",
    "ana2b_dGh = np.array(ana2b_dGh)\n",
    "ana2b_ET = np.array(ana2b_ET)\n",
    "ana2b_dAh = np.array(ana2b_dAh)\n",
    "ana2b_gibbs_term = np.array(ana2b_gibbs_term)\n",
    "pbe_ts = np.array(pbe_ts)\n",
    "pbe_mbd = np.array(pbe_mbd)\n",
    "pbe0_mbd = np.array(pbe0_mbd)\n",
    "ana2b_Fh = ana2b_E0 + ana2b_dGh\n",
    "ana2b_Fa = ana2b_E0 + ana2b_dGh + ana2b_dAh\n",
    "ana2b_Ga = ana2b_E0 + ana2b_dGh + ana2b_dAh + ana2b_gibbs_term\n",
    "pbe0_mbd_Gh = [x + y for x, y in zip(pbe0_mbd, (ana2b_dGh + ana2b_dAh + ana2b_gibbs_term)) if x is not None]\n",
    "\n",
    "ana2b_E0 -= np.amin(ana2b_E0)\n",
    "ana2b_Fh -= np.amin(ana2b_Fh)\n",
    "ana2b_Fa -= np.amin(ana2b_Fa)\n",
    "ana2b_Ga -= np.amin(ana2b_Ga)\n",
    "ana2b_ET -= np.amin(ana2b_ET)\n",
    "pbe0_mbd_Gh -= np.amin(pbe0_mbd_Gh)\n",
    "pbe0_mbd_Gh = np.pad(pbe0_mbd_Gh, [0, len(pbe0_mbd) - len(pbe0_mbd_Gh)], constant_values=None)\n",
    "\n",
    "experimental = np.array(experimental)\n",
    "\n",
    "LINEWIDTH = 0.75\n",
    "LINEWIDTH_EXP = 2\n",
    "\n",
    "COLOR = '#383838'\n",
    "COLOR_EXP = '#B8170C'\n",
    "\n",
    "rankings = [ana2b_E0, ana2b_Fh, ana2b_Fa, ana2b_Ga, ana2b_ET, pbe_ts, pbe_mbd, pbe0_mbd] \n",
    "methods = [f'ANA2B$^\\infty$ E({0}K)', f'ANA2B$^\\infty$ F$_H$({T}K)', \n",
    "           f'ANA2B$^\\infty$ F$_A$({T}K)', f'ANA2B$^\\infty$ G$_A$({T}K)', \n",
    "           f'ANA2B$^\\infty$ E({T}K)', f'PBE+TS E({0}K)', f'PBE+MBD E({0}K)', f'PBE0+MBD E({0}K)']\n",
    "offsets = []\n",
    "if SYSTEM_NAME == 'XXVI':\n",
    "    for x in range(0, len(rankings)-3):\n",
    "        if x == len(rankings) - 3:\n",
    "            i_ = min(np.where(np.isnan(rankings[-1]))[0])\n",
    "            offsets.append(rankings[x+1][:i_] - rankings[x][:i_])\n",
    "        else:\n",
    "            offsets.append(rankings[x+1] - rankings[x])\n",
    "else:\n",
    "    for x in range(0, len(rankings)-1):\n",
    "        offsets.append(rankings[x+1] - rankings[x])\n"
   ]
  },
  {
   "cell_type": "code",
   "execution_count": null,
   "id": "a2b18be9-b4d1-4c49-be78-b5ab4444ed21",
   "metadata": {},
   "outputs": [],
   "source": [
    "plt.figure(0, figsize=(8, 4), dpi=500)\n",
    "for idr, ranking in enumerate(rankings):\n",
    "    for name, total, exp in zip(names, ranking, experimental):\n",
    "        if exp:\n",
    "            plt.plot([idr + 0.1, (idr + 1) - 0.1], [total, total], color=COLOR_EXP, linewidth=LINEWIDTH_EXP, zorder=100)\n",
    "        else:\n",
    "            plt.plot([idr + 0.1, (idr + 1) - 0.1], [total, total], color=COLOR, linewidth=LINEWIDTH)\n",
    "\n",
    "for ido, offset in enumerate(offsets):\n",
    "    if ido in [0, 1, 2, 3, 5, 6, 7, 8]:\n",
    "        for E, dE in zip(rankings[ido], offset):\n",
    "            plt.plot([ido+1 - 0.1, ido + 1 + 0.1], [E, E+dE], color=COLOR, linewidth=0.1)\n",
    "\n",
    "ax = plt.gca()\n",
    "ax.set_xlabel('Method')\n",
    "ax.set_ylabel('Relative Stability [kJ/mol]', labelpad=20)\n",
    "ax.spines['left'].set_visible(False)\n",
    "ax.spines['top'].set_visible(False)\n",
    "ax.spines['right'].set_visible(False)\n",
    "ax.spines['bottom'].set_visible(False) \n",
    "plt.xticks(np.arange(0.5, len(methods)), methods, rotation=45)\n",
    "ax.set_ylim(-0.5)\n",
    "plt.savefig(f'figures/ranking_{SYSTEM_NAME}.pdf', bbox_inches='tight')"
   ]
  },
  {
   "cell_type": "code",
   "execution_count": null,
   "id": "d7a64f7d-5aea-4522-a905-f1709a959533",
   "metadata": {
    "tags": []
   },
   "outputs": [],
   "source": [
    "plt.figure(0, figsize=(8, 4), dpi=500)\n",
    "for idr, ranking in enumerate(rankings):\n",
    "    for name, total, exp in zip(names, ranking, experimental):\n",
    "        if name in ['N85', 'N4', 'N6', 'N39', 'E']:\n",
    "            if idr == 0:\n",
    "                if name == 'E':\n",
    "                    plt.plot([idr + 0.1, (idr + 1) - 0.1], [total, total], color='lightgreen', linewidth=LINEWIDTH_EXP, label='E', zorder=100)\n",
    "                if name == 'N6':\n",
    "                    plt.plot([idr + 0.1, (idr + 1) - 0.1], [total, total], color='darkorange', linewidth=LINEWIDTH_EXP, label='C', zorder=100)\n",
    "                if name == 'N4':\n",
    "                    plt.plot([idr + 0.1, (idr + 1) - 0.1], [total, total], color='darkblue', linewidth=LINEWIDTH_EXP, label='B', zorder=100)\n",
    "                if name == 'N85':\n",
    "                    plt.plot([idr + 0.1, (idr + 1) - 0.1], [total, total], color='red', linewidth=LINEWIDTH_EXP, label='A', zorder=100)\n",
    "                if name == 'N39':\n",
    "                    plt.plot([idr + 0.1, (idr + 1) - 0.1], [total, total], color='darkgreen', linewidth=LINEWIDTH_EXP, label='D', zorder=100)\n",
    "            else:\n",
    "                if name == 'N85':\n",
    "                    plt.plot([idr + 0.1, (idr + 1) - 0.1], [total, total], color='red', linewidth=LINEWIDTH_EXP, zorder=100)\n",
    "                if name == 'N4':\n",
    "                    plt.plot([idr + 0.1, (idr + 1) - 0.1], [total, total], color='darkblue', linewidth=LINEWIDTH_EXP, zorder=100)\n",
    "                if name == 'N6':\n",
    "                    plt.plot([idr + 0.1, (idr + 1) - 0.1], [total, total], color='darkorange', linewidth=LINEWIDTH_EXP, zorder=100)\n",
    "                if name == 'N39':\n",
    "                    plt.plot([idr + 0.1, (idr + 1) - 0.1], [total, total], color='darkgreen', linewidth=LINEWIDTH_EXP, zorder=100)\n",
    "                if name == 'E':\n",
    "                    plt.plot([idr + 0.1, (idr + 1) - 0.1], [total, total], color='lightgreen', linewidth=LINEWIDTH_EXP, zorder=100)  \n",
    "        else:\n",
    "            plt.plot([idr + 0.1, (idr + 1) - 0.1], [total, total], color=COLOR, linewidth=LINEWIDTH)\n",
    "for ido, offset in enumerate(offsets):\n",
    "    if ido in [0, 1, 2, 3, 5, 6, 7, 8]:\n",
    "        for E, dE in zip(rankings[ido], offset):\n",
    "            plt.plot([ido+1 - 0.1, ido + 1 + 0.1], [E, E+dE], color=COLOR, linewidth=0.1)\n",
    "\n",
    "ax = plt.gca()\n",
    "ax.set_xlabel('Method')\n",
    "ax.set_ylabel('Relative Stability [kJ/mol]', labelpad=20)\n",
    "ax.spines['left'].set_visible(False)\n",
    "ax.spines['top'].set_visible(False)\n",
    "ax.spines['right'].set_visible(False)\n",
    "ax.spines['bottom'].set_visible(False) \n",
    "plt.xticks(np.arange(0.5, len(methods)), methods, rotation=45)\n",
    "ax.set_ylim(-0.5)\n",
    "#plt.title(SYSTEM_NAME)\n",
    "plt.legend(frameon=False)\n",
    "plt.savefig(f'figures/ranking_{SYSTEM_NAME}.pdf', bbox_inches='tight')"
   ]
  },
  {
   "cell_type": "code",
   "execution_count": null,
   "id": "0474c93a-bdb5-4692-ad6f-c540b2b4f6ba",
   "metadata": {},
   "outputs": [],
   "source": [
    "plt.figure(0, figsize=(8, 4), dpi=500)\n",
    "for idr, ranking in enumerate(rankings):\n",
    "    for name, total, exp in zip(names, ranking, experimental):\n",
    "        if exp:\n",
    "            plt.plot([idr + 0.1, (idr + 1) - 0.1], [total, total], color=COLOR_EXP, linewidth=LINEWIDTH_EXP, zorder=100)\n",
    "        else:\n",
    "            plt.plot([idr + 0.1, (idr + 1) - 0.1], [total, total], color=COLOR, linewidth=LINEWIDTH)\n",
    "for ido, offset in enumerate(offsets):\n",
    "    if ido in [0, 1, 2, 3, 5, 6, 7, 8]:\n",
    "        for E, dE in zip(rankings[ido], offset):\n",
    "            plt.plot([ido+1 - 0.1, ido + 1 + 0.1], [E, E+dE], color=COLOR, alpha=0.5, linewidth=0.1)\n",
    "\n",
    "ax = plt.gca()\n",
    "ax.set_xlabel('Method')\n",
    "ax.set_ylabel('Relative Stability [kJ/mol]', labelpad=20)\n",
    "ax.spines['left'].set_visible(False)\n",
    "ax.spines['top'].set_visible(False)\n",
    "ax.spines['right'].set_visible(False)\n",
    "ax.spines['bottom'].set_visible(False) \n",
    "plt.xticks(np.arange(0.5, len(methods)), methods, rotation=60)\n",
    "ax.set_ylim(-0.5)\n",
    "plt.savefig(f'figures/ranking_{SYSTEM_NAME}.pdf', bbox_inches='tight')"
   ]
  },
  {
   "cell_type": "code",
   "execution_count": null,
   "id": "8e3a8fe6-81be-45b1-bf8b-632761281222",
   "metadata": {},
   "outputs": [],
   "source": [
    "Atoms(symbols=SYSTEMS_DATA['XXII']['N2']['monomer_symbols'], positions=SYSTEMS_DATA['XXII']['N2']['monomer_coordinates']).write('figures/XXII.xyz')"
   ]
  },
  {
   "cell_type": "code",
   "execution_count": null,
   "id": "67ce4dc3-df55-48cd-8e5b-b6100c6abf4a",
   "metadata": {},
   "outputs": [],
   "source": [
    "Atoms(symbols=SYSTEMS_DATA['XXVI']['N1']['monomer_symbols'], positions=SYSTEMS_DATA['XXVI']['N1']['monomer_coordinates']).write('figures/XXVI.xyz')"
   ]
  },
  {
   "cell_type": "code",
   "execution_count": null,
   "id": "2f88fdd8-d303-41f2-983b-fd3264160143",
   "metadata": {},
   "outputs": [],
   "source": [
    "Atoms(symbols=SYSTEMS_DATA['XXIII']['N85']['monomer_symbols'], positions=SYSTEMS_DATA['XXIII']['N85']['monomer_coordinates']).write('figures/XXIII.xyz')"
   ]
  },
  {
   "cell_type": "code",
   "execution_count": null,
   "id": "68255956-1d8d-4c97-8deb-cf393fb21738",
   "metadata": {},
   "outputs": [],
   "source": []
  }
 ],
 "metadata": {
  "kernelspec": {
   "display_name": "TFGPU",
   "language": "python",
   "name": "tfgpu"
  },
  "language_info": {
   "codemirror_mode": {
    "name": "ipython",
    "version": 3
   },
   "file_extension": ".py",
   "mimetype": "text/x-python",
   "name": "python",
   "nbconvert_exporter": "python",
   "pygments_lexer": "ipython3",
   "version": "3.10.12"
  }
 },
 "nbformat": 4,
 "nbformat_minor": 5
}
