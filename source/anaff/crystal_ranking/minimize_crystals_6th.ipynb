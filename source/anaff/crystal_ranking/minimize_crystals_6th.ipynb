{
 "cells": [
  {
   "cell_type": "code",
   "execution_count": null,
   "id": "42ef40c3-6a96-41a6-8f66-5e16bed72542",
   "metadata": {
    "tags": []
   },
   "outputs": [],
   "source": [
    "import os\n",
    "import sys\n",
    "\n",
    "sys.path.append('../..')\n",
    "os.environ['CUDA_VISIBLE_DEVICES'] = '-1'\n",
    "\n",
    "import matplotlib.pyplot as plt\n",
    "import numpy as np\n",
    "import tensorflow as tf\n",
    "\n",
    "from ase.build import make_supercell\n",
    "from ase import Atoms\n",
    "from ase.optimize import BFGS, LBFGS\n",
    "from HybridFF import HybridFF\n",
    "from Utilities import show_results, write_xyz, validate\n",
    "from Constants import EV_TO_KJ, H_TO_KJ, BOHR_TO_ANGSTROM"
   ]
  },
  {
   "cell_type": "code",
   "execution_count": null,
   "id": "96fb0306-1a91-4424-ad99-fc196b17c72b",
   "metadata": {},
   "outputs": [],
   "source": [
    "DATA = np.load('../../../data/test_sets/DATA_CSP_ranking.npy', allow_pickle=True).item()"
   ]
  },
  {
   "cell_type": "code",
   "execution_count": null,
   "id": "35fe4ea4-7278-4e45-8cb5-b26ec35f961a",
   "metadata": {
    "tags": []
   },
   "outputs": [],
   "source": [
    "hybrid_ff = HybridFF(debug=True, pol0=False)"
   ]
  },
  {
   "cell_type": "code",
   "execution_count": null,
   "id": "78102a95-df1c-4724-b851-cd61726dc3fa",
   "metadata": {},
   "outputs": [],
   "source": [
    "SYSTEM = 'XXIII'\n",
    "RESULTS = {}\n",
    "RESULTS[SYSTEM] = {}\n",
    "MIN_STRUCTURES = {}\n",
    "MIN_STRUCTURES = np.load(f'data/STRUCTURES_{SYSTEM}.npy', allow_pickle=True).item()\n",
    "MIN_CELLS =  np.load(f'data/MIN_CELLS_{SYSTEM}.npy', allow_pickle=True).item()\n",
    "RESULTS = np.load(f'data/RESULTS_{SYSTEM}.npy', allow_pickle=True).item()"
   ]
  },
  {
   "cell_type": "code",
   "execution_count": null,
   "id": "964fa3ac-0312-4592-a116-87a0b1c82f0a",
   "metadata": {},
   "outputs": [],
   "source": [
    "for poly_key in DATA[SYSTEM]:\n",
    "    if poly_key not in RESULTS[SYSTEM]:\n",
    "        print(poly_key)"
   ]
  },
  {
   "cell_type": "code",
   "execution_count": null,
   "id": "f6da4942-96a4-4f52-9a23-c3191a9946dc",
   "metadata": {
    "tags": []
   },
   "outputs": [],
   "source": [
    "for poly_key in DATA[SYSTEM]:\n",
    "    if poly_key not in RESULTS[SYSTEM]:\n",
    "        try:\n",
    "            RESULTS[SYSTEM][poly_key] = {}\n",
    "            MIN_STRUCTURES[poly_key] = {}\n",
    "            print(poly_key, DATA[SYSTEM][poly_key]['PBE+MBD'])\n",
    "            mol_size = len(DATA[SYSTEM][poly_key]['monomer_symbols'])\n",
    "            elements_uc = DATA[SYSTEM][poly_key]['uc_symbols']\n",
    "            coords_uc = MIN_CELLS[poly_key]['coords']\n",
    "            cells = MIN_CELLS[poly_key]['cell']\n",
    "            \n",
    "            #if poly_key in MIN_CELLS:\n",
    "            #    #MIN_STRUCTURES[poly_key]['coordinates']\n",
    "            #else:\n",
    "            #    MIN_STRUCTURES[poly_key] = {}\n",
    "            #    coords_uc = DATA[SYSTEM][poly_key]['uc_coordinates'][None]\n",
    "            \n",
    "            atoms = hybrid_ff.initialize(elements_uc, coords_uc, cells, mol_size)    \n",
    "            optimizer = LBFGS(atoms) # BFGS\n",
    "            optimizer.run(fmax=1 / EV_TO_KJ)\n",
    "            RESULTS[SYSTEM][poly_key]['total'] = atoms.get_potential_energy() * EV_TO_KJ / hybrid_ff._n_molecules_uc\n",
    "            MIN_STRUCTURES[poly_key]['coordinates'] = atoms.get_positions()[None]    \n",
    "            MIN_STRUCTURES[poly_key]['cell'] = cells\n",
    "            MIN_STRUCTURES[poly_key]['uc_symbols'] = elements_uc\n",
    "            np.save(f'data/STRUCTURES_{SYSTEM}.npy', MIN_STRUCTURES)\n",
    "            np.save(f'data/RESULTS_{SYSTEM}.npy', RESULTS)\n",
    "        except:\n",
    "            del RESULTS[SYSTEM][poly_key]\n",
    "            del MIN_STRUCTURES[poly_key]\n",
    "            continue\n",
    "      "
   ]
  },
  {
   "cell_type": "code",
   "execution_count": null,
   "id": "0cd5e920-2f28-4380-b1a8-44634d7ffc7d",
   "metadata": {},
   "outputs": [],
   "source": []
  }
 ],
 "metadata": {
  "kernelspec": {
   "display_name": "TFGPU",
   "language": "python",
   "name": "tfgpu"
  },
  "language_info": {
   "codemirror_mode": {
    "name": "ipython",
    "version": 3
   },
   "file_extension": ".py",
   "mimetype": "text/x-python",
   "name": "python",
   "nbconvert_exporter": "python",
   "pygments_lexer": "ipython3",
   "version": "3.10.12"
  }
 },
 "nbformat": 4,
 "nbformat_minor": 5
}
