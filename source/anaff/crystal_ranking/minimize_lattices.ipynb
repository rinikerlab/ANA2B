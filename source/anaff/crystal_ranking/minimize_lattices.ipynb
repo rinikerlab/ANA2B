{
 "cells": [
  {
   "cell_type": "code",
   "execution_count": null,
   "id": "42ef40c3-6a96-41a6-8f66-5e16bed72542",
   "metadata": {
    "tags": []
   },
   "outputs": [],
   "source": [
    "import os\n",
    "import sys\n",
    "\n",
    "sys.path.append('../..')\n",
    "os.environ['CUDA_VISIBLE_DEVICES'] = '-1'\n",
    "\n",
    "import matplotlib.pyplot as plt\n",
    "import numpy as np\n",
    "import tensorflow as tf\n",
    "\n",
    "from ase.build import make_supercell\n",
    "from ase import Atoms\n",
    "from ase.optimize import BFGS, LBFGS\n",
    "from HybridFF import HybridFF\n",
    "from Utilities import show_results, write_xyz, validate\n",
    "from Constants import EV_TO_KJ, H_TO_KJ, BOHR_TO_ANGSTROM\n",
    "from Barostat import MonteCarloBarostat"
   ]
  },
  {
   "cell_type": "code",
   "execution_count": null,
   "id": "96fb0306-1a91-4424-ad99-fc196b17c72b",
   "metadata": {},
   "outputs": [],
   "source": [
    "DATA = np.load('../../../data/test_sets/DATA_CSP_ranking.npy', allow_pickle=True).item()"
   ]
  },
  {
   "cell_type": "code",
   "execution_count": null,
   "id": "35fe4ea4-7278-4e45-8cb5-b26ec35f961a",
   "metadata": {
    "tags": []
   },
   "outputs": [],
   "source": [
    "hybrid_ff = HybridFF(pol0=False) \n",
    "barostat = MonteCarloBarostat(T=0, P=100000, ds=1e-3, aniso=True)"
   ]
  },
  {
   "cell_type": "code",
   "execution_count": null,
   "id": "78102a95-df1c-4724-b851-cd61726dc3fa",
   "metadata": {},
   "outputs": [],
   "source": [
    "SYSTEM = 'XXVI'\n",
    "RESULTS = {}\n",
    "RESULTS[SYSTEM] = {}\n",
    "MIN_CELLS = {}\n",
    "MIN_CELLS = np.load(f'data/MIN_CELLS_{SYSTEM}.npy', allow_pickle=True).item()"
   ]
  },
  {
   "cell_type": "code",
   "execution_count": null,
   "id": "f6da4942-96a4-4f52-9a23-c3191a9946dc",
   "metadata": {
    "tags": []
   },
   "outputs": [],
   "source": [
    "for poly_key in DATA[SYSTEM]:\n",
    "    if poly_key not in MIN_CELLS:\n",
    "        try:\n",
    "            RESULTS[SYSTEM][poly_key] = {}  \n",
    "            MIN_CELLS[poly_key] = {}\n",
    "            print(poly_key, DATA[SYSTEM][poly_key]['PBE+MBD'])\n",
    "            mol_size = len(DATA[SYSTEM][poly_key]['monomer_symbols'])\n",
    "            elements_uc = DATA[SYSTEM][poly_key]['uc_symbols']\n",
    "            coords_uc = DATA[SYSTEM][poly_key]['uc_coordinates'][None]\n",
    "            cells = DATA[SYSTEM][poly_key]['cell'][None]    \n",
    "            atoms = hybrid_ff.initialize(elements_uc, coords_uc, cells, mol_size) \n",
    "            atoms = barostat.minimize(atoms, n_steps=200)\n",
    "            MIN_CELLS[poly_key]['cell'] = np.array(atoms.get_cell()).astype(np.float32)[None]\n",
    "            MIN_CELLS[poly_key]['coords'] = np.array(atoms.get_positions()).astype(np.float32)[None]\n",
    "            np.save(f'data/MIN_CELLS_{SYSTEM}.npy', MIN_CELLS)\n",
    "        except:\n",
    "            continue"
   ]
  },
  {
   "cell_type": "code",
   "execution_count": null,
   "id": "5401edb9-9549-4742-866f-dec99ac03ae3",
   "metadata": {},
   "outputs": [],
   "source": []
  }
 ],
 "metadata": {
  "kernelspec": {
   "display_name": "TFGPU",
   "language": "python",
   "name": "tfgpu"
  },
  "language_info": {
   "codemirror_mode": {
    "name": "ipython",
    "version": 3
   },
   "file_extension": ".py",
   "mimetype": "text/x-python",
   "name": "python",
   "nbconvert_exporter": "python",
   "pygments_lexer": "ipython3",
   "version": "3.10.12"
  }
 },
 "nbformat": 4,
 "nbformat_minor": 5
}
