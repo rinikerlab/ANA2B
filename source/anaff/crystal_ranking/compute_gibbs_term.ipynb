{
 "cells": [
  {
   "cell_type": "code",
   "execution_count": null,
   "id": "8ce4d0c2-09f8-47f9-8984-0a771156389a",
   "metadata": {},
   "outputs": [],
   "source": [
    "import matplotlib.pyplot as plt\n",
    "import numpy as np\n",
    "\n",
    "from sklearn.neighbors import KernelDensity\n",
    "from scipy.constants import Boltzmann, Avogadro\n",
    "from ase.geometry.cell import cell_to_cellpar"
   ]
  },
  {
   "cell_type": "code",
   "execution_count": null,
   "id": "39fbfd7d-37fb-4e7c-b1a6-55122517baaf",
   "metadata": {
    "scrolled": true
   },
   "outputs": [],
   "source": [
    "for SYSTEM_NAME in ['XXII', 'XXIII', 'XXVI']:\n",
    "    if SYSTEM_NAME == 'XXII':\n",
    "        T = 150\n",
    "    else:\n",
    "        T = 300\n",
    "    PREFACTOR_P = 1e5 * Avogadro * 1e-33 \n",
    "    kbT = (Boltzmann * Avogadro * T * 1e-3)\n",
    "    DATA = np.load(f'data/MD_DATA_{SYSTEM_NAME}.npy', allow_pickle=True).item()\n",
    "    energies, names = [], []\n",
    "    MD_TERMS = {}\n",
    "    for id_key, POLY_KEY in enumerate(DATA):\n",
    "        \n",
    "        norm = np.power(DATA[POLY_KEY]['n_molecules'], 1/3)\n",
    "        cells = DATA[POLY_KEY]['cells'][0] / norm\n",
    "        cell_lengths = np.linalg.norm(cells , axis=-1)\n",
    "        cellparams = np.array([cell_to_cellpar(x, radians=True) for x in cells])\n",
    "        nonzero_indices = np.nonzero(DATA[POLY_KEY]['cells'][0, 0] != 0)  \n",
    "        kde = KernelDensity(kernel='gaussian', bandwidth=0.1).fit(cellparams)\n",
    "        log_dens = kde.score_samples(cellparams)\n",
    "        max_index = np.argmax(log_dens)\n",
    "        ll_vol = log_dens[max_index]\n",
    "        mean_volume = np.linalg.det(DATA[POLY_KEY]['cells'][0][max_index] / norm)\n",
    "        gibbs_term = PREFACTOR_P * mean_volume + kbT * ll_vol#np.log(p_vol) \n",
    "        print(POLY_KEY, mean_volume, gibbs_term, DATA[POLY_KEY]['V_pot_mu'])\n",
    "    \n",
    "        energies.append(DATA[POLY_KEY]['V_pot_mu'])\n",
    "        names.append(POLY_KEY)\n",
    "        MD_TERMS[POLY_KEY] = {}\n",
    "        MD_TERMS[POLY_KEY]['gibbs_term'] = gibbs_term\n",
    "        MD_TERMS[POLY_KEY]['V_pot_mu'] = DATA[POLY_KEY]['V_pot_mu']\n",
    "        MD_TERMS[POLY_KEY]['cell'] = DATA[POLY_KEY]['cells'][0][max_index]\n",
    "        #if id_key > 0:\n",
    "        #    break\n",
    "    np.save(f'data/MD_TERMS_{SYSTEM_NAME}.npy', MD_TERMS)"
   ]
  },
  {
   "cell_type": "code",
   "execution_count": null,
   "id": "af7f03f4-ecb7-4d96-9949-5d4a98f9aff5",
   "metadata": {},
   "outputs": [],
   "source": [
    "xs = np.linspace(1, 1.2, 1000)\n",
    "sample = cellparams[max_index]\n",
    "ll = kde.score_samples(np.concatenate((np.tile(sample[None, :-1], [1000, 1]), xs[:, None]), axis=-1))\n",
    "sample"
   ]
  },
  {
   "cell_type": "code",
   "execution_count": null,
   "id": "e5a213c2-d444-41c8-90fe-1b1b9b7f44fc",
   "metadata": {},
   "outputs": [],
   "source": [
    "plt.scatter(xs, ll)"
   ]
  },
  {
   "cell_type": "code",
   "execution_count": null,
   "id": "b5a2911a-0f96-42b5-a4e3-68ac0423f322",
   "metadata": {},
   "outputs": [],
   "source": []
  }
 ],
 "metadata": {
  "kernelspec": {
   "display_name": "TFGPU",
   "language": "python",
   "name": "tfgpu"
  },
  "language_info": {
   "codemirror_mode": {
    "name": "ipython",
    "version": 3
   },
   "file_extension": ".py",
   "mimetype": "text/x-python",
   "name": "python",
   "nbconvert_exporter": "python",
   "pygments_lexer": "ipython3",
   "version": "3.10.12"
  }
 },
 "nbformat": 4,
 "nbformat_minor": 5
}
