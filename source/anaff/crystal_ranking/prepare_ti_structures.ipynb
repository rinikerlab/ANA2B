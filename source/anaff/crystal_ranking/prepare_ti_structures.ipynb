{
 "cells": [
  {
   "cell_type": "code",
   "execution_count": null,
   "id": "27214ff6-bb2d-4a5a-aeba-b8295e40cea1",
   "metadata": {},
   "outputs": [],
   "source": [
    "import os\n",
    "import sys\n",
    "\n",
    "sys.path.append('../..')\n",
    "os.environ['CUDA_VISIBLE_DEVICES'] = '-1'\n",
    "\n",
    "import matplotlib.pyplot as plt\n",
    "import mdtraj as md\n",
    "import numpy as np\n",
    "import tensorflow as tf\n",
    "\n",
    "from ase import Atoms\n",
    "from ase.build import make_supercell\n",
    "from ase.optimize import BFGS, LBFGS\n",
    "from ase.vibrations import Vibrations\n",
    "from ase.md import MDLogger\n",
    "from ase.md.velocitydistribution import (MaxwellBoltzmannDistribution,Stationary, ZeroRotation)\n",
    "from ase.md.langevin import Langevin\n",
    "from ase.md.andersen import Andersen\n",
    "from ase.units import fs\n",
    "from ase.io import read\n",
    "from ase.io.trajectory import Trajectory\n",
    "from Barostat import MonteCarloBarostat\n",
    "\n",
    "from HybridFF import HybridFF\n",
    "from Utilities import show_results, write_xyz, validate\n",
    "from Constants import EV_TO_KJ, H_TO_KJ, BOHR_TO_ANGSTROM\n"
   ]
  },
  {
   "cell_type": "code",
   "execution_count": null,
   "id": "9dcdacca-ace9-407f-8198-7d3b8ff43ae0",
   "metadata": {},
   "outputs": [],
   "source": [
    "SYSTEM = 'XXVI'\n",
    "\n",
    "DATA = np.load('../../../data/test_sets/DATA_CSP_ranking.npy', allow_pickle=True).item()\n",
    "MIN_STRUCTURES = np.load(f'data/STRUCTURES_{SYSTEM}.npy', allow_pickle=True).item()\n",
    "MIN_CELLS =  np.load(f'data/MIN_CELLS_{SYSTEM}.npy', allow_pickle=True).item()\n",
    "MD_DATA = np.load(f'data/MD_TERMS_{SYSTEM}.npy', allow_pickle=True).item()\n",
    "barostat = MonteCarloBarostat()"
   ]
  },
  {
   "cell_type": "code",
   "execution_count": null,
   "id": "5055fed9-a01d-4ce0-a787-a34ea6383d41",
   "metadata": {},
   "outputs": [],
   "source": [
    "THERMAL_CELLS = {}\n",
    "for POLY_KEY in MD_DATA:\n",
    "    mol_size = len(DATA[SYSTEM][POLY_KEY]['monomer_symbols'])\n",
    "    elements_uc = DATA[SYSTEM][POLY_KEY]['uc_symbols']\n",
    "    coords_uc = MIN_STRUCTURES[POLY_KEY]['coordinates']\n",
    "    cell = MIN_STRUCTURES[POLY_KEY]['cell'][0]\n",
    "    cell_md = MD_DATA[POLY_KEY]['cell']\n",
    "    n_molecules = len(elements_uc) // mol_size\n",
    "    length_scale = np.diag((cell_md / cell)).reshape(1, 1, 3)\n",
    "    coords_scaled = barostat._scale_coordinates(coords_uc, length_scale, n_molecules)\n",
    "    THERMAL_CELLS[POLY_KEY] = {}\n",
    "    THERMAL_CELLS[POLY_KEY]['coords'] = coords_scaled\n",
    "    THERMAL_CELLS[POLY_KEY]['cells'] = cell_md[None]"
   ]
  },
  {
   "cell_type": "code",
   "execution_count": null,
   "id": "a72bda11-33d0-49a8-81c9-371d2ebe19ab",
   "metadata": {},
   "outputs": [],
   "source": [
    "np.save(f'data/THERMAL_CELLS_{SYSTEM}', THERMAL_CELLS)"
   ]
  }
 ],
 "metadata": {
  "kernelspec": {
   "display_name": "TFGPU",
   "language": "python",
   "name": "tfgpu"
  },
  "language_info": {
   "codemirror_mode": {
    "name": "ipython",
    "version": 3
   },
   "file_extension": ".py",
   "mimetype": "text/x-python",
   "name": "python",
   "nbconvert_exporter": "python",
   "pygments_lexer": "ipython3",
   "version": "3.10.12"
  }
 },
 "nbformat": 4,
 "nbformat_minor": 5
}
