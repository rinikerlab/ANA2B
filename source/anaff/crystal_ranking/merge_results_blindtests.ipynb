{
 "cells": [
  {
   "cell_type": "code",
   "execution_count": null,
   "id": "149f397d-05bd-462b-9076-e11028c64bc7",
   "metadata": {},
   "outputs": [],
   "source": [
    "import os\n",
    "\n",
    "import matplotlib.pyplot as plt\n",
    "import numpy as np"
   ]
  },
  {
   "cell_type": "code",
   "execution_count": null,
   "id": "33559816-b762-4270-88bc-650aab766ecc",
   "metadata": {},
   "outputs": [],
   "source": [
    "DATA_FOLDER = 'data'"
   ]
  },
  {
   "cell_type": "code",
   "execution_count": null,
   "id": "c582a2f2-5f59-438d-a20c-ef9817bce3bb",
   "metadata": {},
   "outputs": [],
   "source": [
    "RESULTS_MERGED = {}"
   ]
  },
  {
   "cell_type": "code",
   "execution_count": null,
   "id": "6b90a92b-64da-4906-b1ff-640a7514c348",
   "metadata": {},
   "outputs": [],
   "source": [
    "for SYSTEM in ['VIII', 'X', 'XI', 'xvi', 'xvii', 'xviii']: # \n",
    "    RESULTS_MERGED[SYSTEM] = {}\n",
    "    RESULTS = np.load(os.path.join(DATA_FOLDER, f'RESULTS_{SYSTEM}.npy'), allow_pickle=True).item()\n",
    "    for POLY_KEY in RESULTS:\n",
    "        RESULTS_MERGED[SYSTEM][POLY_KEY] = {}\n",
    "        RESULTS_MERGED[SYSTEM][POLY_KEY]['energy'] = RESULTS[POLY_KEY]['total']\n",
    "        RESULTS_MERGED[SYSTEM][POLY_KEY]['exp'] = False\n",
    "        RESULTS_MERGED[SYSTEM][POLY_KEY]['pred'] = False\n",
    "        if SYSTEM == 'VIII':\n",
    "            if POLY_KEY == '0001':\n",
    "                RESULTS_MERGED[SYSTEM][POLY_KEY]['pred'] = True\n",
    "        if SYSTEM == 'X':\n",
    "            if POLY_KEY == '0135':\n",
    "                RESULTS_MERGED[SYSTEM][POLY_KEY]['pred'] = True\n",
    "        if SYSTEM == 'XI':\n",
    "            if POLY_KEY == '0030':\n",
    "                RESULTS_MERGED[SYSTEM][POLY_KEY]['pred'] = True      \n",
    "        if SYSTEM == 'xvi':\n",
    "            if POLY_KEY == 1:\n",
    "                RESULTS_MERGED[SYSTEM][POLY_KEY]['pred'] = True\n",
    "        if SYSTEM == 'xvii':\n",
    "            if POLY_KEY == 1:\n",
    "                RESULTS_MERGED[SYSTEM][POLY_KEY]['pred'] = True\n",
    "        if SYSTEM == 'xviii':\n",
    "            if POLY_KEY == 1:\n",
    "                RESULTS_MERGED[SYSTEM][POLY_KEY]['pred'] = True"
   ]
  },
  {
   "cell_type": "code",
   "execution_count": null,
   "id": "a16d79eb-4406-4494-8717-524dcac316ca",
   "metadata": {},
   "outputs": [],
   "source": [
    "np.save('RESULTS_CSPs', RESULTS_MERGED)"
   ]
  },
  {
   "cell_type": "code",
   "execution_count": null,
   "id": "62bf4b32-c470-4607-8331-099161e77172",
   "metadata": {},
   "outputs": [],
   "source": [
    "LINEWIDTH = 0.75\n",
    "LINEWIDTH_EXP = 2\n",
    "\n",
    "COLOR = '#383838'\n",
    "COLOR_EXP = '#B8170C'\n",
    "COLOR_PRED = '#2E0EF5'"
   ]
  },
  {
   "cell_type": "code",
   "execution_count": null,
   "id": "bc14ca98-46b3-4c23-82a4-3f83bac0da50",
   "metadata": {},
   "outputs": [],
   "source": [
    "plt.figure(0, figsize=(8, 4), dpi=500)\n",
    "SYSTEMS = [x for x in RESULTS_MERGED]\n",
    "SYSTEMS = sorted(SYSTEMS)\n",
    "for ids, SYSTEM in enumerate(SYSTEMS):\n",
    "    energies, names, exps, preds = [], [], [], []\n",
    "    for POLY_KEY, item in RESULTS_MERGED[SYSTEM].items():\n",
    "        energies.append(item['energy'])\n",
    "        names.append(POLY_KEY)\n",
    "        exps.append(item['exp'])\n",
    "        preds.append(item['pred'])\n",
    "    energies = np.array(energies)\n",
    "    energies -= np.amin(energies)\n",
    "    print(energies[1] - energies[0])\n",
    "    for name, energy, exp, pred in zip(names, energies, exps, preds):\n",
    "        if exp:\n",
    "            plt.plot([ids + 0.1, (ids + 1) - 0.1], [energy, energy], color=COLOR_EXP, linewidth=LINEWIDTH_EXP, zorder=100)\n",
    "        elif pred:\n",
    "            plt.plot([ids + 0.1, (ids + 1) - 0.1], [energy, energy], color=COLOR_EXP, linewidth=LINEWIDTH_EXP, zorder=100)\n",
    "        else:\n",
    "            plt.plot([ids + 0.1, (ids + 1) - 0.1], [energy, energy], color=COLOR, linewidth=LINEWIDTH)\n",
    "            \n",
    "ax = plt.gca()\n",
    "ax.set_xlabel('System')\n",
    "ax.set_ylabel('Relative Stability [kJ/mol]', labelpad=20)\n",
    "ax.spines['left'].set_visible(False)\n",
    "ax.spines['top'].set_visible(False)\n",
    "ax.spines['right'].set_visible(False)\n",
    "ax.spines['bottom'].set_visible(False) \n",
    "plt.xticks(np.arange(0.5, len(SYSTEMS)), [x.upper() for x in SYSTEMS], rotation=0)\n",
    "ax.set_ylim(-0.5, 20)\n",
    "plt.savefig(f'figures/ranking_CSPS35.pdf', bbox_inches='tight')"
   ]
  },
  {
   "cell_type": "code",
   "execution_count": null,
   "id": "6a644854-4091-4c8e-a2cc-e31478537810",
   "metadata": {},
   "outputs": [],
   "source": []
  }
 ],
 "metadata": {
  "kernelspec": {
   "display_name": "TFGPU",
   "language": "python",
   "name": "tfgpu"
  },
  "language_info": {
   "codemirror_mode": {
    "name": "ipython",
    "version": 3
   },
   "file_extension": ".py",
   "mimetype": "text/x-python",
   "name": "python",
   "nbconvert_exporter": "python",
   "pygments_lexer": "ipython3",
   "version": "3.10.12"
  }
 },
 "nbformat": 4,
 "nbformat_minor": 5
}
