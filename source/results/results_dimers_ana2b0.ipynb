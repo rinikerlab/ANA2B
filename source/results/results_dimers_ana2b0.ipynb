{
 "cells": [
  {
   "cell_type": "code",
   "execution_count": null,
   "id": "efdbd43b-acd4-4f53-8894-ef76c4a38416",
   "metadata": {},
   "outputs": [],
   "source": [
    "import os\n",
    "import sys\n",
    "import time\n",
    "\n",
    "sys.path.append('../anaff')\n",
    "sys.path.append('..')\n",
    "os.environ['CUDA_VISIBLE_DEVICES'] = '-1'\n",
    "\n",
    "import matplotlib.pyplot as plt\n",
    "import numpy as np\n",
    "import tensorflow as tf\n",
    "\n",
    "from scipy.stats import pearsonr\n",
    "\n",
    "from ANA2B_NOIND import ANA2B, validate\n",
    "from Utilities import plot_progress, MARE, loss_weight, show_results\n",
    "\n",
    "RMSE = lambda x, y: np.sqrt(np.mean(np.square(x - y)))"
   ]
  },
  {
   "cell_type": "code",
   "execution_count": null,
   "id": "6241148f-3fa0-475b-98f2-43e216f56f4d",
   "metadata": {
    "tags": []
   },
   "outputs": [],
   "source": [
    "CUTOFF = 5.5\n",
    "EPOCH = 350\n",
    "N_DIGITS = 1\n",
    "ANA = ANA2B(cutoff=CUTOFF, n_units=64, n_steps=1)\n",
    "FOLDER_PATH = f'../source/anaff/weights_noind/'\n",
    "MODEL_PATH = f'ANA2BGNN1_2_D3PBE0_FULLMSE_CUTOFF2B{CUTOFF}_NOIND_E{EPOCH}'\n",
    "ANA.load_weights(f'{FOLDER_PATH}{MODEL_PATH}')\n",
    "REF_DATA = np.load(f'../../../data/test_sets/BENCHMARK_DATA_NOIND_D3PBE0.npy', allow_pickle=True).item()"
   ]
  },
  {
   "cell_type": "code",
   "execution_count": null,
   "id": "0d063f2f-9ccf-464a-b53f-a97ad1041d53",
   "metadata": {
    "tags": []
   },
   "outputs": [],
   "source": [
    "RESULTS = {}\n",
    "for db_key in REF_DATA:\n",
    "    energy_target, energy_predicted = validate(ANA, db_key, REF_DATA)\n",
    "    mae, me, rmse, fig = show_results(energy_target, energy_predicted, db_key, show_plot=True, n_digits=N_DIGITS, s=8)\n",
    "    RESULTS[db_key] = (mae, me, rmse, energy_predicted, energy_target, REF_DATA[db_key].keys())\n",
    "    plt.show()\n",
    "    fig.savefig(f'figures/nopol/{db_key}.pdf', bbox_inches='tight')"
   ]
  },
  {
   "cell_type": "code",
   "execution_count": null,
   "id": "08ec4c39-ffaa-4d89-a1f4-85f30b5b4a24",
   "metadata": {
    "tags": []
   },
   "outputs": [],
   "source": [
    "RESULTS = {}\n",
    "for db_key in ['S66x8', 'D1200', 'D442x10', 'R739x5', 'HB300SPXx10', 'HB375x10', 'ACHC', 'BBI', 'HBC1', 'HSG', 'JSCH', 'S22', 'S22by7', 'S66', 'SSI', 'UBQ', 'S7L_CC']:\n",
    "    energy_target, energy_predicted = validate(hybrid_ff.ANA, db_key, REF_DATA)\n",
    "    mae, me, rmse = show_results(energy_target, energy_predicted, db_key, show_plot=True, n_digits=N_DIGITS)\n",
    "    RESULTS[db_key] = (mae, me, rmse, energy_predicted, energy_target, REF_DATA[db_key].keys())"
   ]
  },
  {
   "cell_type": "code",
   "execution_count": null,
   "id": "360806fa-5f8a-47d8-a4ea-e68094cf9918",
   "metadata": {},
   "outputs": [],
   "source": [
    "# Results Validation (Main)\n",
    "base_string = ''\n",
    "for db_key in ['S66x8', 'S7L_CC']:\n",
    "    name = db_key.split('_')[0]\n",
    "    mae, me, rmse, energy_predicted, energy_target, _ = RESULTS[db_key]\n",
    "    N = len(energy_predicted)\n",
    "    tab_line = f'{name} & {N} & Validation & {mae:{4}.{N_DIGITS}f}\\\\\\\\\\hline\\n'\n",
    "    base_string += tab_line\n",
    "print(base_string)"
   ]
  },
  {
   "cell_type": "code",
   "execution_count": null,
   "id": "e85b65fe-2ba6-4c80-b63e-f0d4fe1db43e",
   "metadata": {},
   "outputs": [],
   "source": [
    "# Results Validation (SI)\n",
    "base_string = ''\n",
    "for db_key in ['S66x8', 'S7L_CC']:\n",
    "    name = db_key.split('_')[0]\n",
    "    mae, me, rmse, energy_predicted, energy_target, _ = RESULTS[db_key]\n",
    "    N = len(energy_predicted)\n",
    "    # MAE - RMSE - \n",
    "    r = np.round(pearsonr(energy_predicted, energy_target).statistic, 2)\n",
    "    tab_line = f'{name} & {N} & Validation & {mae:{4}.{N_DIGITS}f} & {me:{4}.{N_DIGITS}f} & {rmse:{4}.{N_DIGITS}f} & {r:{4}.{N_DIGITS+1}f}\\\\\\\\\\hline\\n'\n",
    "    base_string += tab_line\n",
    "print(base_string)"
   ]
  },
  {
   "cell_type": "code",
   "execution_count": null,
   "id": "2ecc15eb-1a12-4715-baa7-fc8dbb3f3ea4",
   "metadata": {
    "tags": []
   },
   "outputs": [],
   "source": [
    "# Results Test (Main)\n",
    "base_string = ''\n",
    "\n",
    "for db_key in ['D1200', 'D442x10', 'R739x5', 'HB300SPXx10', 'HB375x10', 'ACHC', 'BBI', 'HBC1', 'HSG', 'JSCH', 'S22', 'S22by7', 'SSI', 'UBQ']:\n",
    "    name = db_key.split('_')[0]\n",
    "    if 'by' in name:\n",
    "        name = name.replace('by', 'x')\n",
    "    mae, me, rmse, energy_predicted, energy_target, _ = RESULTS[db_key]\n",
    "    N = len(energy_predicted)\n",
    "    tab_line = f'{name} & {N} & Test & {mae:{4}.{N_DIGITS}f}\\\\\\\\\\hline\\n'\n",
    "    base_string += tab_line \n",
    "print(base_string)"
   ]
  },
  {
   "cell_type": "code",
   "execution_count": null,
   "id": "fb64d0d0-420c-45ed-9b44-63c14d7368bd",
   "metadata": {},
   "outputs": [],
   "source": [
    "# Results Test (SI)\n",
    "base_string = ''\n",
    "for db_key in ['D1200', 'D442x10', 'R739x5', 'HB300SPXx10', 'HB375x10', 'ACHC', 'BBI', 'HBC1', 'HSG', 'JSCH', 'S22', 'S22by7', 'SSI', 'UBQ']:\n",
    "    name = db_key.split('_')[0]\n",
    "    if 'by' in name:\n",
    "        name = name.replace('by', 'x')\n",
    "    mae, me, rmse, energy_predicted, energy_target, _ = RESULTS[db_key]\n",
    "    N = len(energy_predicted)\n",
    "    # MAE - RMSE - \n",
    "    r = np.round(pearsonr(energy_predicted, energy_target).statistic, 2)\n",
    "    tab_line = f'{name} & {N} & Test & {mae:{4}.{N_DIGITS}f} & {me:{4}.{N_DIGITS}f} & {rmse:{4}.{N_DIGITS}f} & {r:{4}.{2}f}\\\\\\\\\\hline\\n'\n",
    "    base_string += tab_line\n",
    "print(base_string)"
   ]
  },
  {
   "cell_type": "code",
   "execution_count": null,
   "id": "42b6c8f8-6992-497b-928e-8cb5995c7cfb",
   "metadata": {
    "tags": []
   },
   "outputs": [],
   "source": [
    "FUNCTIONAL = 'PBE0'\n",
    "FOLDER = '../../data/'\n",
    "\n",
    "DATA = np.load(f'{FOLDER}DES5M.npy', allow_pickle=True).item()\n",
    "D3_TERMS = np.load(f'{FOLDER}DES5M_D3_{FUNCTIONAL}.npy', allow_pickle=True).item()\n",
    "LR_TERMS = np.load(f'{FOLDER}LR_TERMS_NOIND.npy', allow_pickle=True).item()\n",
    "MULTIPOLES = np.load(f'{FOLDER}MULTIPOLES_DES5M.npy', allow_pickle=True).item()\n",
    "\n",
    "def get_batch(key):\n",
    "    targets = DATA[key]['energies']\n",
    "    distance_matrices = DATA[key]['distance_matrices']\n",
    "    elements_1, elements_2 = DATA[key]['elements']\n",
    "    coords_1, coords_2 = DATA[key]['coordinates']\n",
    "    graph_1, graph_2 = DATA[key]['graphs']\n",
    "    multipoles = MULTIPOLES[key]\n",
    "    die_term = LR_TERMS[key] + D3_TERMS[key] \n",
    "    return targets, distance_matrices, coords_1, coords_2, multipoles, die_term, graph_1, graph_2 "
   ]
  },
  {
   "cell_type": "code",
   "execution_count": null,
   "id": "188720a7-b338-4b52-9376-f9cf70ef25fb",
   "metadata": {
    "tags": []
   },
   "outputs": [],
   "source": [
    "energy_predicted, energy_target = [], []\n",
    "for key in DATA:\n",
    "    targets, distance_matrices, coords_1, coords_2, multipoles, die_term, graph_1, graph_2 = get_batch(key)    \n",
    "    V_terms = ANA(graph_1, graph_2, coords_1, coords_2, distance_matrices, multipoles, coords_1.shape[0])\n",
    "    V_terms += die_term\n",
    "    energy_predicted.append(V_terms)\n",
    "    energy_target.append(targets)\n",
    "energy_predicted, energy_target = np.hstack(energy_predicted), np.hstack(energy_target)"
   ]
  },
  {
   "cell_type": "code",
   "execution_count": null,
   "id": "89e4428d-5e77-4c16-ad33-4b4d013403c6",
   "metadata": {},
   "outputs": [],
   "source": [
    "# Results Test (SI)\n",
    "base_string = ''\n",
    "\n",
    "name = 'DES5M'\n",
    "N = len(energy_predicted)\n",
    "# MAE - RMSE - \n",
    "rmse = np.round(RMSE(energy_predicted, energy_target), N_DIGITS)\n",
    "r = np.round(pearsonr(energy_predicted, energy_target).statistic, 2)\n",
    "mae = np.mean(np.abs(energy_predicted - energy_target))\n",
    "me = np.mean(energy_predicted - energy_target)\n",
    "\n",
    "tab_line = f'{name} & {N} & Test & {mae:{4}.{N_DIGITS}f}\\\\\\\\\\hline\\n'\n",
    "base_string += tab_line\n",
    "print(base_string)\n",
    "\n",
    "tab_line = f'{name} & {N} & Test & {mae:{4}.{N_DIGITS}f} & {me:{4}.{N_DIGITS}f} & {rmse:{4}.{N_DIGITS}f} & {r:{4}.{2}f}\\\\\\\\\\hline\\n'\n",
    "base_string += tab_line\n",
    "print(base_string)"
   ]
  },
  {
   "cell_type": "code",
   "execution_count": null,
   "id": "f1eee0a2-6d78-4847-a58a-9b02ae0a61aa",
   "metadata": {},
   "outputs": [],
   "source": [
    "mae = np.mean(np.abs(energy_predicted[np.where(energy_target < 10)] - energy_target[np.where(energy_target < 10)]))\n",
    "mae, np.where(energy_target < 10)[0].shape"
   ]
  },
  {
   "cell_type": "code",
   "execution_count": null,
   "id": "3816994c-cb77-4b9d-9841-d5a0e4e4b3c1",
   "metadata": {},
   "outputs": [],
   "source": [
    "FUNCTIONAL = 'PBE0'\n",
    "FOLDER = '../../data/'\n",
    "\n",
    "DATA = np.load(f'{FOLDER}DES370K.npy', allow_pickle=True).item()\n",
    "D3_TERMS = np.load(f'{FOLDER}DES370K_D3_{FUNCTIONAL}.npy', allow_pickle=True).item()\n",
    "LR_TERMS = np.load(f'{FOLDER}DES370K_LR_TERMS_IND0.npy', allow_pickle=True).item()\n",
    "MULTIPOLES = np.load(f'{FOLDER}MULTIPOLES_DES370K.npy', allow_pickle=True).item()"
   ]
  },
  {
   "cell_type": "code",
   "execution_count": null,
   "id": "c685d243-c45c-4d41-8a28-e1a584f02ef4",
   "metadata": {},
   "outputs": [],
   "source": [
    "def get_batch(key):\n",
    "    targets = DATA[key]['energies_cc']\n",
    "    distance_matrices = DATA[key]['distance_matrices']\n",
    "    elements_1, elements_2 = DATA[key]['elements']\n",
    "    coords_1, coords_2 = DATA[key]['coordinates']\n",
    "    graph_1, graph_2 = DATA[key]['graphs']\n",
    "    multipoles = MULTIPOLES[key]\n",
    "    die_term = LR_TERMS[key][0] + D3_TERMS[key]\n",
    "    return targets, distance_matrices, coords_1, coords_2, multipoles, die_term, graph_1, graph_2 "
   ]
  },
  {
   "cell_type": "code",
   "execution_count": null,
   "id": "3e5be177-3984-4b5c-955f-0a40293bcb0b",
   "metadata": {},
   "outputs": [],
   "source": [
    "energy_predicted, energy_target = [], []\n",
    "for key in DATA:\n",
    "    targets, distance_matrices, coords_1, coords_2, multipoles, die_term, graph_1, graph_2 = get_batch(key)    \n",
    "    V_terms = ANA(graph_1, graph_2, coords_1, coords_2, distance_matrices, multipoles, coords_1.shape[0])\n",
    "    V_terms += die_term\n",
    "    energy_predicted.append(V_terms)\n",
    "    energy_target.append(targets)\n",
    "energy_predicted, energy_target = np.hstack(energy_predicted), np.hstack(energy_target)"
   ]
  },
  {
   "cell_type": "code",
   "execution_count": null,
   "id": "9d985a5d-6206-4606-a405-7c7ef5848ebf",
   "metadata": {},
   "outputs": [],
   "source": [
    "# Results Test (SI)\n",
    "base_string = ''\n",
    "\n",
    "name = 'DES370K'\n",
    "N = len(energy_predicted)\n",
    "# MAE - RMSE - \n",
    "rmse = np.round(RMSE(energy_predicted, energy_target), N_DIGITS)\n",
    "r = np.round(pearsonr(energy_predicted, energy_target).statistic, 2)\n",
    "mae = np.round(np.mean(np.abs(energy_predicted - energy_target)), N_DIGITS)\n",
    "me = np.round(np.mean(energy_predicted - energy_target), N_DIGITS)\n",
    "\n",
    "tab_line = f'{name} & {N} & Test & {mae:{4}.{N_DIGITS}f}\\\\\\\\\\hline\\n'\n",
    "base_string += tab_line\n",
    "print(base_string)\n",
    "\n",
    "tab_line = f'{name} & {N} & Test & {mae:{4}.{N_DIGITS}f} & {me:{4}.{N_DIGITS}f} & {rmse:{4}.{N_DIGITS}f} & {r:{4}.{2}f}\\\\\\\\\\hline\\n'\n",
    "base_string += tab_line\n",
    "print(base_string)"
   ]
  },
  {
   "cell_type": "code",
   "execution_count": null,
   "id": "15455252-0139-470a-83a7-f933467c793e",
   "metadata": {},
   "outputs": [],
   "source": [
    "mae = np.mean(np.abs(energy_predicted[np.where(energy_target < 10)] - energy_target[np.where(energy_target < 10)]))\n",
    "mae, np.where(energy_target < 5)[0].shape"
   ]
  },
  {
   "cell_type": "code",
   "execution_count": null,
   "id": "24590925-d002-427a-80dd-7d030c2395d9",
   "metadata": {},
   "outputs": [],
   "source": []
  }
 ],
 "metadata": {
  "kernelspec": {
   "display_name": "TFGPU",
   "language": "python",
   "name": "tfgpu"
  },
  "language_info": {
   "codemirror_mode": {
    "name": "ipython",
    "version": 3
   },
   "file_extension": ".py",
   "mimetype": "text/x-python",
   "name": "python",
   "nbconvert_exporter": "python",
   "pygments_lexer": "ipython3",
   "version": "3.10.12"
  }
 },
 "nbformat": 4,
 "nbformat_minor": 5
}
