{
 "cells": [
  {
   "cell_type": "code",
   "execution_count": null,
   "id": "a3958980-b944-4f4e-b199-91e7f0ae66f4",
   "metadata": {},
   "outputs": [],
   "source": [
    "import os\n",
    "import sys\n",
    "\n",
    "sys.path.append('..')\n",
    "os.environ['CUDA_VISIBLE_DEVICES'] = '-1'\n",
    "\n",
    "from AlphaGNN import Alpha\n",
    "from AMPParams import AMPParams\n",
    "from GraphBuilder import GraphBuilder\n",
    "from HybridFF import HybridFF\n",
    "from Constants import H_TO_KJ, BOHR_TO_ANGSTROM, KC\n",
    "from Utilities import calculate_d3_dimer, show_results\n",
    "\n",
    "import Electrostatics\n",
    "import Polarization\n",
    "\n",
    "import numpy as np\n",
    "import tensorflow as tf\n",
    "from scipy.spatial.distance import cdist"
   ]
  },
  {
   "cell_type": "code",
   "execution_count": null,
   "id": "dd633c8b-d43b-49f1-a664-f77279017dcc",
   "metadata": {},
   "outputs": [],
   "source": [
    "builder = GraphBuilder()\n",
    "model_params = AMPParams()\n",
    "hybrid_ff = HybridFF(pol0=False)"
   ]
  },
  {
   "cell_type": "code",
   "execution_count": null,
   "id": "a453067f-5d6f-4c18-bd60-0e5142f6ef49",
   "metadata": {},
   "outputs": [],
   "source": [
    "DATA = np.load('data_S66x8.npy', allow_pickle=True).item()"
   ]
  },
  {
   "cell_type": "code",
   "execution_count": null,
   "id": "d3dc74bc-a2a8-4df9-b436-fe68e6b521b0",
   "metadata": {},
   "outputs": [],
   "source": [
    "predictions, references = [], []\n",
    "for SYSTEM in DATA:\n",
    "    elements_1, elements_2 = DATA[SYSTEM]['elements_monomer_1'], DATA[SYSTEM]['elements_monomer_2']\n",
    "    coords_1, coords_2 = DATA[SYSTEM]['coordinates_monomer_1'], DATA[SYSTEM]['coordinates_monomer_2']\n",
    "    distance_matrix = cdist(coords_1, coords_2).astype(np.float32)[None]\n",
    "    # Construct molecular graphs (can be constructed once for each molecular topology)\n",
    "    graph_1 = builder.from_coords(coords_1, elements_1)\n",
    "    graph_2 = builder.from_coords(coords_2, elements_2)  \n",
    "    coords_1, coords_2 = coords_1[None], coords_2[None]\n",
    "    # Predict atomic multipoles (geometric graphs)\n",
    "    graph, _ = model_params.predict(coords_1, elements_1)\n",
    "    monos_1, dipos_1, quads_1, ratios_1 = graph.monos, graph.dipos, graph.quads, graph.ratios\n",
    "    graph, _ = model_params.predict(coords_2, elements_2)\n",
    "    monos_2, dipos_2, quads_2, ratios_2 = graph.monos, graph.dipos, graph.quads, graph.ratios\n",
    "    multipoles = (monos_1, monos_2, dipos_1, dipos_2, quads_1, quads_2)\n",
    "    alpha_coeffs_1, alpha_coeffs_2 = hybrid_ff.Alpha(graph_1, 1)[None], hybrid_ff.Alpha(graph_2, 1)[None]\n",
    "    alphas_1, alphas_2 = alpha_coeffs_1 * ratios_1, alpha_coeffs_2 * ratios_2\n",
    "    # Calculate interaction terms\n",
    "    V_esp, F1, F2 = Electrostatics.esp_dimer(coords_1, coords_2, distance_matrix, multipoles, with_field=True)    \n",
    "    V_pol, mu_ind_1, mu_ind_2 = Polarization.ind_dimer(coords_1, coords_2, alphas_1, alphas_2, F1, F2)\n",
    "    V_D3 = calculate_d3_dimer(coords_1, coords_2, elements_1, elements_2)\n",
    "    V_ana = hybrid_ff.ANA(graph_1, graph_2, coords_1, coords_2, distance_matrix, multipoles, (mu_ind_1, mu_ind_2), coords_1.shape[0])\n",
    "    V_total = V_esp + V_pol + V_D3 + V_ana\n",
    "    V_ref = DATA[SYSTEM]['ref_energy']\n",
    "    predictions.append(V_total)\n",
    "    references.append(V_ref)\n",
    "references, predictions = np.hstack(references), np.hstack(predictions)"
   ]
  },
  {
   "cell_type": "code",
   "execution_count": null,
   "id": "34a62779-2470-42d9-8884-47a9ede291c5",
   "metadata": {},
   "outputs": [],
   "source": [
    "show_results(references, predictions, show_plot=True)"
   ]
  },
  {
   "cell_type": "code",
   "execution_count": null,
   "id": "2618974b-a574-4626-9c49-fb44062b0d86",
   "metadata": {},
   "outputs": [],
   "source": []
  }
 ],
 "metadata": {
  "kernelspec": {
   "display_name": "TFGPU",
   "language": "python",
   "name": "tfgpu"
  },
  "language_info": {
   "codemirror_mode": {
    "name": "ipython",
    "version": 3
   },
   "file_extension": ".py",
   "mimetype": "text/x-python",
   "name": "python",
   "nbconvert_exporter": "python",
   "pygments_lexer": "ipython3",
   "version": "3.10.12"
  }
 },
 "nbformat": 4,
 "nbformat_minor": 5
}
