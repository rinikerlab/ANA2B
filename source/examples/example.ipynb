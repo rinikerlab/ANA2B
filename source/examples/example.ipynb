{
 "cells": [
  {
   "cell_type": "code",
   "execution_count": null,
   "id": "7aad4f2b-87e9-44b7-b9bd-7d42374f5690",
   "metadata": {},
   "outputs": [],
   "source": [
    "import os\n",
    "import sys\n",
    "\n",
    "sys.path.append('..')\n",
    "os.environ['CUDA_VISIBLE_DEVICES'] = '-1'\n",
    "\n",
    "import matplotlib.pyplot as plt\n",
    "import numpy as np\n",
    "import tensorflow as tf\n",
    "\n",
    "from ase import Atoms\n",
    "from HybridFF import HybridFF\n",
    "from Constants import EV_TO_KJ"
   ]
  },
  {
   "cell_type": "markdown",
   "id": "d666f4ce-165e-486f-a548-71c07a3b0288",
   "metadata": {},
   "source": [
    "Load model with (pol0=False uses the ANA2Binf model, i.e. including mutual polarization; pol=True include only direct polarization):"
   ]
  },
  {
   "cell_type": "code",
   "execution_count": null,
   "id": "4a68dbdf-9943-44ad-94ed-ede09bcd7bd2",
   "metadata": {},
   "outputs": [],
   "source": [
    "hybrid_ff = HybridFF(debug=True, pol0=False)"
   ]
  },
  {
   "cell_type": "markdown",
   "id": "9d6ca474-99bf-4b9f-bb0c-def0c75962a6",
   "metadata": {},
   "source": [
    "Preparation of a structure, e.g. acetic acid (CSD code: ACETAC07)"
   ]
  },
  {
   "cell_type": "code",
   "execution_count": null,
   "id": "32a31b69-2296-45ee-ac66-6f343ba7e4c7",
   "metadata": {},
   "outputs": [],
   "source": [
    "elements_uc = np.array(['O', 'H', 'O', 'C', 'C', 'H', 'H', 'H', 'O', 'H', 'O', 'C', \n",
    "                     'C', 'H', 'H', 'H', 'O', 'H', 'O', 'C', 'C', 'H', 'H', 'H', \n",
    "                     'O', 'H', 'O', 'C', 'C', 'H', 'H', 'H'])\n",
    "coords_uc = np.array([[[ 4.9121614e+00,  3.4855855e+00,  0.0000000e+00],\n",
    "                       [ 4.2477732e+00,  3.6915431e+00, -4.5519799e-01],\n",
    "                       [ 3.2475080e+00,  2.3965607e+00,  9.8069239e-01],\n",
    "                       [ 4.4093986e+00,  2.7539461e+00,  9.7781140e-01],\n",
    "                       [ 5.4008527e+00,  2.4165680e+00,  2.0380194e+00],\n",
    "                       [ 4.9579272e+00,  1.9732690e+00,  2.7772839e+00],\n",
    "                       [ 6.1152148e+00,  1.9693460e+00,  1.7170759e+00],\n",
    "                       [ 5.8127422e+00,  3.2286291e+00,  2.4258020e+00],\n",
    "                       [ 8.2388382e+00,  4.3741450e-01,  2.8810000e+00],\n",
    "                       [ 8.9032269e+00,  2.3145700e-01,  2.4258020e+00],\n",
    "                       [ 9.9034920e+00,  1.5264393e+00,  3.8616924e+00],\n",
    "                       [ 8.7416010e+00,  1.1690540e+00,  3.8588114e+00],\n",
    "                       [ 7.7501473e+00,  1.5064321e+00,  4.9190192e+00],\n",
    "                       [ 8.1930733e+00,  1.9497310e+00,  5.6582842e+00],\n",
    "                       [ 7.0357852e+00,  1.9536541e+00,  4.5980759e+00],\n",
    "                       [ 7.3382578e+00,  6.9437099e-01,  5.3068018e+00],\n",
    "                       [ 1.1487661e+01,  2.3989146e+00,  0.0000000e+00],\n",
    "                       [ 1.0823273e+01,  2.1929569e+00, -4.5519799e-01],\n",
    "                       [ 9.8230076e+00,  3.4879394e+00,  9.8069239e-01],\n",
    "                       [ 1.0984899e+01,  3.1305540e+00,  9.7781140e-01],\n",
    "                       [ 1.1976353e+01,  3.4679320e+00,  2.0380194e+00],\n",
    "                       [ 1.1533427e+01,  3.9112310e+00,  2.7772839e+00],\n",
    "                       [ 1.2690715e+01,  3.9151540e+00,  1.7170759e+00],\n",
    "                       [ 1.2388242e+01,  2.6558709e+00,  2.4258020e+00],\n",
    "                       [ 1.6633384e+00,  1.5240855e+00,  2.8810000e+00],\n",
    "                       [ 2.3277271e+00,  1.7300431e+00,  2.4258020e+00],\n",
    "                       [ 3.3279920e+00,  4.3506071e-01,  3.8616924e+00],\n",
    "                       [ 2.1661012e+00,  7.9244602e-01,  3.8588114e+00],\n",
    "                       [ 1.1746473e+00,  4.5506799e-01,  4.9190192e+00],\n",
    "                       [ 1.6175730e+00,  1.1769000e-02,  5.6582842e+00],\n",
    "                       [ 4.6028501e-01,  7.8459997e-03,  4.5980759e+00],\n",
    "                       [ 7.6275802e-01,  1.2671289e+00,  5.3068018e+00]]], dtype=np.float32)\n",
    "lattice = np.array([[[13.151,  0.   ,  0.   ],\n",
    "                      [ 0.   ,  3.923,  0.   ],\n",
    "                     [ 0.   ,  0.   ,  5.762]]])\n",
    "mol_size = 8"
   ]
  },
  {
   "cell_type": "markdown",
   "id": "d05a1fe1-f004-4a94-855a-5ab829e628ca",
   "metadata": {},
   "source": [
    "Coords must be shape 1xNx3 and lattice must be shape 1x3x3.\n",
    "Elements should be a list/array of str and mol_size an int.\n",
    "The following function will create an ase atoms object and assing the ANA2B/HybridFF model as a calculator."
   ]
  },
  {
   "cell_type": "code",
   "execution_count": null,
   "id": "83966ca1-3330-4248-befd-9f3a29d6da29",
   "metadata": {},
   "outputs": [],
   "source": [
    "atoms = hybrid_ff.initialize(elements_uc, coords_uc, lattice, mol_size)    "
   ]
  },
  {
   "cell_type": "markdown",
   "id": "40202dfc-3e74-4372-9070-71283029b780",
   "metadata": {},
   "source": [
    "You can work now with the atoms object."
   ]
  },
  {
   "cell_type": "code",
   "execution_count": null,
   "id": "6c9f3056-54c9-45f9-8e16-1429d3df2a95",
   "metadata": {},
   "outputs": [],
   "source": [
    "atoms.get_potential_energy() # units in eV and eV/A"
   ]
  },
  {
   "cell_type": "code",
   "execution_count": null,
   "id": "71a0e10b-c668-4a75-aa7a-150910bf372f",
   "metadata": {},
   "outputs": [],
   "source": []
  }
 ],
 "metadata": {
  "kernelspec": {
   "display_name": "TFGPU",
   "language": "python",
   "name": "tfgpu"
  },
  "language_info": {
   "codemirror_mode": {
    "name": "ipython",
    "version": 3
   },
   "file_extension": ".py",
   "mimetype": "text/x-python",
   "name": "python",
   "nbconvert_exporter": "python",
   "pygments_lexer": "ipython3",
   "version": "3.10.12"
  }
 },
 "nbformat": 4,
 "nbformat_minor": 5
}
