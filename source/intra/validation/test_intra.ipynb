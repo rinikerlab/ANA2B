{
 "cells": [
  {
   "cell_type": "code",
   "execution_count": null,
   "id": "d2cff198-102e-41a7-8f1f-ddcefa3a991d",
   "metadata": {},
   "outputs": [],
   "source": [
    "import os\n",
    "import sys\n",
    "\n",
    "sys.path.append('../..')\n",
    "os.environ['CUDA_VISIBLE_DEVICES'] = '-1'\n",
    "\n",
    "import matplotlib.pyplot as plt\n",
    "import numpy as np\n",
    "\n",
    "from Intra import Intra\n",
    "from Utilities import show_results"
   ]
  },
  {
   "cell_type": "code",
   "execution_count": null,
   "id": "d1ab40da-a4ef-463a-a5b2-b67d3eb43411",
   "metadata": {},
   "outputs": [],
   "source": [
    "V_intra = Intra(use_D3=True)\n",
    "\n",
    "RT = lambda T: (Boltzmann * Avogadro) * T / 1000\n",
    "RMSE = lambda x, y, n=1: np.round(np.sqrt(np.mean(np.square(np.subtract(x, y)))), n)\n",
    "MAE =  lambda x, y, n=1: np.round(np.mean(np.abs(np.subtract(x, y))), n) \n",
    "MARE =  lambda x, y, n=1: np.round(np.mean(np.abs(np.subtract(x, y)) / x), n) \n",
    "ME =  lambda x, y, n=1: np.round(np.mean(np.subtract(x, y)), n)\n",
    "STD =  lambda x, y, n=1: np.round(np.std(np.subtract(x, y)), n)\n",
    "MAE =  lambda x, y, n=1: np.round(np.mean(np.abs(np.subtract(x, y))), n)\n",
    "from scipy.stats import pearsonr\n",
    "def print_out_results(target=None, prediction=None, stds=None, property_name='', unit='', n_digits=1):\n",
    "    mae = MAE(target, prediction, n_digits)\n",
    "    mare = MARE(target, prediction, n_digits)\n",
    "    rmse = RMSE(target, prediction, n_digits)\n",
    "    me = ME(target, prediction, n_digits)\n",
    "    max_abs = np.round(np.amax(np.abs(prediction - target)), n_digits)\n",
    "    r = np.round(pearsonr(np.array(target).squeeze().flatten(), np.array(prediction).squeeze().flatten()).statistic, 2)\n",
    "    print(f'{property_name} [{unit}]& {rmse:{4}.{n_digits}f}\\\\')\n",
    "    print(f'{property_name} [{unit}]& {len(target)} & {mae:{4}.{n_digits}f} & {me:{4}.{n_digits}f} & {rmse:{4}.{n_digits}f} & {r:{4}.{2}f}\\\\')"
   ]
  },
  {
   "cell_type": "code",
   "execution_count": null,
   "id": "8547560f-24ab-4c2a-b1cc-4f82a1ab9001",
   "metadata": {
    "tags": []
   },
   "outputs": [],
   "source": [
    "system_key = 'glucose'\n",
    "data = np.load(f'../../../data/test_sets/{system_key}.npy', allow_pickle=True).item()\n",
    "references, coordinates = [], []\n",
    "pred_alpha, ref_alpha = [], []\n",
    "pred_beta, ref_beta = [], []\n",
    "pred_oc, ref_oc = [], []\n",
    "for index in data:    \n",
    "    anomer = data[index]['anomer']\n",
    "    coords = data[index]['coordinates'][None]\n",
    "    ref = data[index]['ref']\n",
    "    references.append(ref)\n",
    "    elements = data[index]['elements']\n",
    "    V_intra.initialize(coords, elements)\n",
    "    V_total, _ = V_intra(coords)\n",
    "    if anomer == 'alpha':        \n",
    "        ref_alpha.append(data[index]['ref'])\n",
    "        pred_alpha.append(V_total)        \n",
    "    if anomer == 'beta':        \n",
    "        ref_beta.append(data[index]['ref'])\n",
    "        pred_beta.append(V_total)\n",
    "    if anomer == 'oc':        \n",
    "        ref_oc.append(data[index]['ref'])\n",
    "        pred_oc.append(V_total)\n",
    "\n",
    "ref_alpha, pred_alpha = np.hstack(ref_alpha), np.hstack(pred_alpha)[0]\n",
    "ref_beta, pred_beta = np.hstack(ref_beta), np.hstack(pred_beta)[0]\n",
    "ref_oc, pred_oc = np.hstack(ref_oc), np.hstack(pred_oc)[0]\n",
    "pred_alpha -= pred_alpha[np.argmin(ref_alpha)]\n",
    "pred_beta -= pred_beta[np.argmin(ref_beta)]                               \n",
    "pred_oc -= pred_oc[np.argmin(ref_oc)]\n",
    "ref_alpha -= ref_alpha[np.argmin(ref_alpha)]\n",
    "ref_beta -= ref_beta[np.argmin(ref_beta)]\n",
    "ref_oc -= ref_oc[np.argmin(ref_oc)]\n",
    "references = np.hstack((ref_alpha, ref_beta, ref_oc))\n",
    "predictions = np.hstack((pred_alpha, pred_beta, pred_oc))"
   ]
  },
  {
   "cell_type": "code",
   "execution_count": null,
   "id": "967f6eb6-8fdd-40c2-8b8f-b770096b0d75",
   "metadata": {},
   "outputs": [],
   "source": [
    "print_out_results(references, predictions, property_name='Glucose', unit='kJ/mol')"
   ]
  },
  {
   "cell_type": "code",
   "execution_count": null,
   "id": "420da095-900d-45e7-8101-a90cc53a9115",
   "metadata": {
    "tags": []
   },
   "outputs": [],
   "source": [
    "show_results(ref_alpha, pred_alpha, show_plot=True, show_chem_acc=True)"
   ]
  },
  {
   "cell_type": "code",
   "execution_count": null,
   "id": "d3023d83-61c8-4b41-99ad-92a14f5af901",
   "metadata": {
    "tags": []
   },
   "outputs": [],
   "source": [
    "show_results(ref_oc, pred_oc, show_plot=True, show_chem_acc=True)"
   ]
  },
  {
   "cell_type": "code",
   "execution_count": null,
   "id": "f60758fe-a603-42fc-9a60-e721d7e69f7d",
   "metadata": {
    "tags": []
   },
   "outputs": [],
   "source": [
    "show_results(ref_beta, pred_beta, show_plot=True, show_chem_acc=True)"
   ]
  },
  {
   "cell_type": "code",
   "execution_count": null,
   "id": "e60dcfff-a90c-435e-9936-e04cdd75afb2",
   "metadata": {
    "tags": []
   },
   "outputs": [],
   "source": [
    "show_results(references, predictions, show_plot=True, show_chem_acc=True)"
   ]
  },
  {
   "cell_type": "code",
   "execution_count": null,
   "id": "b171b320-a8bb-42c4-9b6a-9838a075b375",
   "metadata": {},
   "outputs": [],
   "source": [
    "system_key = 'maltose'\n",
    "data = np.load(f'../../../data/test_sets/{system_key}.npy', allow_pickle=True).item()\n",
    "references, coordinates = [], []\n",
    "for index in data:    \n",
    "    coordinates.append(data[index]['coordinates'])\n",
    "    references.append(data[index]['ref'])\n",
    "elements = data[index]['elements']\n",
    "references = np.hstack(references)[:, None]\n",
    "coordinates = np.array(coordinates)\n",
    "V_intra.initialize(coordinates, elements)\n",
    "predictions, _ = V_intra(coordinates)\n",
    "predictions -= predictions[np.argmin(references)]\n",
    "references -= references[np.argmin(references)]"
   ]
  },
  {
   "cell_type": "code",
   "execution_count": null,
   "id": "349c46dc-69a5-44eb-8e33-d130e9c4b965",
   "metadata": {},
   "outputs": [],
   "source": [
    "show_results(references, predictions, show_plot=True, show_chem_acc=True)"
   ]
  },
  {
   "cell_type": "code",
   "execution_count": null,
   "id": "6bc5495c-45ad-4256-917d-40ee15603a90",
   "metadata": {},
   "outputs": [],
   "source": [
    "print_out_results(references, predictions, property_name='Maltose', unit='kJ/mol')"
   ]
  },
  {
   "cell_type": "code",
   "execution_count": null,
   "id": "9841d8ec-fb18-4b48-bd52-933c4d43551d",
   "metadata": {
    "tags": []
   },
   "outputs": [],
   "source": [
    "for key in ['SCONF',  'PCONF', 'ACONF', 'CYCONF']: \n",
    "    data = np.load(f'../../../data/test_sets/data_{key}.npy', allow_pickle=True, encoding='bytes').item()\n",
    "    predictions, references = [], []\n",
    "    for system_name in data:        \n",
    "        coords_1 = data[system_name][b'coordinates_1'][None]     \n",
    "        coords_2 = data[system_name][b'coordinates_2'][None]         \n",
    "        elements_1 = data[system_name][b'elements_1'].astype(str)        \n",
    "        elements_2 = data[system_name][b'elements_2'].astype(str)   \n",
    "        V_intra.initialize(coords_1, elements_1)\n",
    "        V1, _ = V_intra(coords_1)\n",
    "        V_intra.initialize(coords_2, elements_2)\n",
    "        V2, _ = V_intra(coords_2)\n",
    "        predictions.append(V2 - V1)\n",
    "        references.append(data[system_name][b'ref_energy'] )\n",
    "    predictions, references = np.hstack(predictions)[0], np.hstack(references)\n",
    "    show_results(references, predictions, dataset_name=key, show_plot=False, show_chem_acc=True)\n",
    "    #plt.show()\n",
    "    print_out_results(references, predictions, property_name=key, unit='kJ/mol')"
   ]
  },
  {
   "cell_type": "code",
   "execution_count": null,
   "id": "c10c0ecf-c6b5-49e4-b2f0-81d760aafb83",
   "metadata": {},
   "outputs": [],
   "source": []
  }
 ],
 "metadata": {
  "kernelspec": {
   "display_name": "TFGPU",
   "language": "python",
   "name": "tfgpu"
  },
  "language_info": {
   "codemirror_mode": {
    "name": "ipython",
    "version": 3
   },
   "file_extension": ".py",
   "mimetype": "text/x-python",
   "name": "python",
   "nbconvert_exporter": "python",
   "pygments_lexer": "ipython3",
   "version": "3.10.12"
  }
 },
 "nbformat": 4,
 "nbformat_minor": 5
}
