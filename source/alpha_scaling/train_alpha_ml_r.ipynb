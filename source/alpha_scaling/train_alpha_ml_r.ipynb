{
 "cells": [
  {
   "cell_type": "code",
   "execution_count": null,
   "id": "39ccee5e-8cd0-4d7a-a9c9-0efbcb138c6d",
   "metadata": {},
   "outputs": [],
   "source": [
    "import os\n",
    "import sys\n",
    "import time \n",
    "\n",
    "sys.path.append('..')\n",
    "os.environ['CUDA_VISIBLE_DEVICES'] = '-1'\n",
    "\n",
    "import matplotlib.pyplot as plt\n",
    "import numpy as np\n",
    "import tensorflow as tf\n",
    "\n",
    "from AlphaGNN import Alpha, ALPHA0"
   ]
  },
  {
   "cell_type": "code",
   "execution_count": null,
   "id": "db458dbe-d1a8-48c3-a28d-69b5e83faf14",
   "metadata": {},
   "outputs": [],
   "source": [
    "DATA = np.load('data/DATA_ALPHA.npy', allow_pickle=True).item()\n",
    "DATA_SHOWCASE = np.load('data/DATA_ALPHA_SHOWCASE.npy', allow_pickle=True).item()\n",
    "DATA_EXP = np.load('data/DATA_ALPHA_EXP.npy', allow_pickle=True).item()\n",
    "KEYS = list(DATA.keys())"
   ]
  },
  {
   "cell_type": "code",
   "execution_count": null,
   "id": "00847a32-3ad5-41aa-89b3-8a5c0b252cea",
   "metadata": {},
   "outputs": [],
   "source": [
    "N_SAMPLES = 512 \n",
    "N_EPOCHS = 512\n",
    "N_STEPS = 2\n",
    "\n",
    "lr_fn = tf.optimizers.schedules.ExponentialDecay(5e-4, int(N_SAMPLES *  N_EPOCHS), 2e-2) # 4e-4, 1e-2\n",
    "optimizer = tf.keras.optimizers.Adam(lr_fn)\n",
    "mae_alpha = tf.keras.metrics.MeanAbsoluteError()\n",
    "alpha_scaler = Alpha(n_steps=N_STEPS)"
   ]
  },
  {
   "cell_type": "code",
   "execution_count": null,
   "id": "ff9bf531-1695-4003-a620-78457f9bfbc2",
   "metadata": {
    "tags": []
   },
   "outputs": [],
   "source": [
    "for epoch in range(N_EPOCHS):    \n",
    "    start = time.time()\n",
    "    sampled_keys = np.random.choice(KEYS, N_SAMPLES, replace=False)\n",
    "    for key in sampled_keys:   \n",
    "        target = DATA[key]['pol_ccsd']\n",
    "        graph = DATA[key]['graph']\n",
    "        elements = DATA[key]['elements']\n",
    "        ratios = DATA[key]['ratios'][None]\n",
    "        with tf.GradientTape() as tape:\n",
    "            prediction = tf.reduce_sum(alpha_scaler(graph, ratios, elements))\n",
    "            loss = tf.math.squared_difference(target, prediction)            \n",
    "        gradients = tape.gradient(loss, alpha_scaler.trainable_variables)        \n",
    "        optimizer.apply_gradients(zip(gradients, alpha_scaler.trainable_variables))\n",
    "        #optimizer.apply_gradients((grad, var) for (grad, var) in zip(gradients, model.trainable_variables) if grad is not None and not tf.math.is_nan(grad).numpy().any())\n",
    "        mae_alpha.update_state([target], [prediction])\n",
    "    print('Epoch {}'.format(epoch))\n",
    "    print(time.time() - start)\n",
    "    print('MAE [A3]: {}'.format(mae_alpha.result()))\n",
    "    print('LR ', optimizer.lr.numpy())    \n",
    "    mae_alpha.reset_states()      "
   ]
  },
  {
   "cell_type": "code",
   "execution_count": null,
   "id": "8faffdf2-3e76-4d3a-951c-1b9552bedc3d",
   "metadata": {},
   "outputs": [],
   "source": [
    "alpha_scaler.save_weights(f'weights/ALPHAR{N_STEPS}')"
   ]
  },
  {
   "cell_type": "code",
   "execution_count": null,
   "id": "6f19f624-04e5-4130-9421-4a3afe5d2331",
   "metadata": {},
   "outputs": [],
   "source": [
    "targets, predictions = [], []\n",
    "for key in DATA:\n",
    "    target = DATA[key]['pol_ccsd']\n",
    "    graph = DATA[key]['graph']\n",
    "    elements = DATA[key]['elements']\n",
    "    ratios = DATA[key]['ratios'][None]\n",
    "    prediction = tf.reduce_sum(alpha_scaler(graph, ratios, elements))\n",
    "    targets.append(target)\n",
    "    predictions.append(prediction)"
   ]
  },
  {
   "cell_type": "code",
   "execution_count": null,
   "id": "f07fd3d4-7595-4172-ab96-176d0eb2b48f",
   "metadata": {},
   "outputs": [],
   "source": [
    "targets_showcase, predictions_showcase = [], []\n",
    "for key in DATA_SHOWCASE:\n",
    "    target = DATA_SHOWCASE[key]['pol_ccsd']\n",
    "    graph = DATA_SHOWCASE[key]['graph']\n",
    "    elements = DATA_SHOWCASE[key]['elements']\n",
    "    ratios = DATA_SHOWCASE[key]['ratios'][None]\n",
    "    prediction = tf.reduce_sum(alpha_scaler(graph, ratios, elements))\n",
    "    targets_showcase.append(target)\n",
    "    predictions_showcase.append(prediction)"
   ]
  },
  {
   "cell_type": "code",
   "execution_count": null,
   "id": "df17fc3b-0e2d-4c60-8ac3-5301f2146bb5",
   "metadata": {},
   "outputs": [],
   "source": [
    "targets_exp, predictions_exp = [], []\n",
    "for key in DATA_EXP:#\n",
    "    target = DATA_EXP[key]['pol']\n",
    "    prediction = tf.reduce_sum(alpha_scaler(DATA_EXP[key]['graph'], DATA_EXP[key]['ratios'][None], DATA_EXP[key]['elements']))\n",
    "    targets_exp.append(target)\n",
    "    predictions_exp.append(prediction)"
   ]
  },
  {
   "cell_type": "code",
   "execution_count": null,
   "id": "c36f6268-1241-45c8-a807-1ada9849f4ea",
   "metadata": {},
   "outputs": [],
   "source": [
    "targets, predictions = np.array(targets), np.array(predictions)\n",
    "targets_showcase, predictions_showcase = np.array(targets_showcase), np.array(predictions_showcase)\n",
    "targets_exp, predictions_exp = np.array(targets_exp), np.array(predictions_exp)"
   ]
  },
  {
   "cell_type": "code",
   "execution_count": null,
   "id": "f6084504-7d63-404c-a5b4-bbb4641fed24",
   "metadata": {},
   "outputs": [],
   "source": [
    "np.mean(np.abs(targets - predictions)), np.mean(np.abs(targets_showcase - predictions_showcase)), np.mean(np.abs(targets_exp - predictions_exp)) # N2: (0.09475004, 0.4558718)"
   ]
  },
  {
   "cell_type": "code",
   "execution_count": null,
   "id": "58702211-44bb-4318-8104-d7e52a9869c2",
   "metadata": {},
   "outputs": [],
   "source": [
    "plt.figure(0, figsize=(8, 8), dpi=200)\n",
    "\n",
    "plt.scatter(predictions_exp, targets_exp, s=0.5, label='Train')\n",
    "plt.plot(range(2, 25), range(2, 25), color='red')\n",
    "ax = plt.gca()\n",
    "ax.set_ylabel('Polarizability (Reference) [A^3]')\n",
    "ax.set_xlabel('Polarizability (ML) [A^3]')"
   ]
  },
  {
   "cell_type": "code",
   "execution_count": null,
   "id": "3a574fb2-d5ae-44d5-8290-8ea32bf441e2",
   "metadata": {},
   "outputs": [],
   "source": [
    "plt.figure(0, figsize=(8, 8), dpi=200)\n",
    "\n",
    "plt.scatter(predictions, targets, s=0.5, label='Train')\n",
    "plt.scatter(predictions_showcase, targets_showcase, s=0.5, label='Showcase')\n",
    "plt.plot(range(2, 25), range(2, 25), color='red')\n",
    "ax = plt.gca()\n",
    "ax.set_ylabel('Polarizability (Reference) [A^3]')\n",
    "ax.set_xlabel('Polarizability (ML) [A^3]')\n",
    "plt.legend(frameon=False)"
   ]
  },
  {
   "cell_type": "code",
   "execution_count": null,
   "id": "5bae0161-03f2-42f1-a17c-fa3dfde61c3f",
   "metadata": {},
   "outputs": [],
   "source": [
    "#N2\n",
    "plt.figure(0, figsize=(8, 8), dpi=200)\n",
    "\n",
    "plt.scatter(predictions, targets, s=0.5, label='Train')\n",
    "plt.scatter(predictions_showcase, targets_showcase, s=0.5, label='Showcase')\n",
    "plt.plot(range(2, 25), range(2, 25), color='red')\n",
    "ax = plt.gca()\n",
    "ax.set_ylabel('Polarizability (Reference) [A^3]')\n",
    "ax.set_xlabel('Polarizability (ML) [A^3]')\n",
    "plt.legend(frameon=False)"
   ]
  },
  {
   "cell_type": "code",
   "execution_count": null,
   "id": "11302300-0171-4a1f-b4bf-708ff0478c8d",
   "metadata": {},
   "outputs": [],
   "source": []
  }
 ],
 "metadata": {
  "kernelspec": {
   "display_name": "TFGPU",
   "language": "python",
   "name": "tfgpu"
  },
  "language_info": {
   "codemirror_mode": {
    "name": "ipython",
    "version": 3
   },
   "file_extension": ".py",
   "mimetype": "text/x-python",
   "name": "python",
   "nbconvert_exporter": "python",
   "pygments_lexer": "ipython3",
   "version": "3.10.12"
  }
 },
 "nbformat": 4,
 "nbformat_minor": 5
}
