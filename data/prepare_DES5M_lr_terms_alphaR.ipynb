{
 "cells": [
  {
   "cell_type": "code",
   "execution_count": null,
   "id": "6dfd86ca-37a3-480d-9133-0b4a72975a4d",
   "metadata": {
    "tags": []
   },
   "outputs": [],
   "source": [
    "import os\n",
    "import sys\n",
    "sys.path.append('..')\n",
    "sys.path.append('../source')\n",
    "\n",
    "os.environ['CUDA_VISIBLE_DEVICES'] = '-1'\n",
    "\n",
    "import matplotlib.pyplot as plt\n",
    "import numpy as np\n",
    "import tensorflow as tf\n",
    "\n",
    "import Electrostatics\n",
    "import Polarization\n",
    "\n",
    "from Utilities import write_xyz, KC\n",
    "from AlphaGNN import Alpha"
   ]
  },
  {
   "cell_type": "code",
   "execution_count": null,
   "id": "1149d312-47ed-45ec-8997-8f9058513735",
   "metadata": {},
   "outputs": [],
   "source": [
    "def get_batch(key):\n",
    "    multipoles = MULTIPOLES[key]\n",
    "    elements_1, elements_2 = DATA[key]['elements']\n",
    "    distance_matrices = DATA[key]['distance_matrices']\n",
    "    coords_1, coords_2 = DATA[key]['coordinates']\n",
    "    graph_1, graph_2 = DATA[key]['graphs']\n",
    "    ratios_1, ratios_2 = RATIOS[key]\n",
    "    return coords_1, coords_2, distance_matrices, elements_1, elements_2, graph_1, graph_2, ratios_1, ratios_2, multipoles"
   ]
  },
  {
   "cell_type": "code",
   "execution_count": null,
   "id": "6b86ffa5-5f6f-40d2-afd9-8f17294b0fd8",
   "metadata": {},
   "outputs": [],
   "source": [
    "RATIOS = np.load('RATIOS_DES5M.npy', allow_pickle=True).item()\n",
    "MULTIPOLES = np.load('MULTIPOLES_DES5M.npy', allow_pickle=True).item()\n",
    "DATA = np.load('DES5M.npy', allow_pickle=True).item()"
   ]
  },
  {
   "cell_type": "code",
   "execution_count": null,
   "id": "67b3105c-3358-4667-9b2b-721d9c8953f4",
   "metadata": {
    "tags": []
   },
   "outputs": [],
   "source": [
    "N_STEPS = 2\n",
    "alpha_scaler = Alpha(n_steps=N_STEPS, load_weights=True)\n",
    "FOLDER = ''"
   ]
  },
  {
   "cell_type": "code",
   "execution_count": null,
   "id": "36f75ec5-b509-4492-84c3-5e7a53bf9cd1",
   "metadata": {
    "tags": []
   },
   "outputs": [],
   "source": [
    "for SMEAR in [-0.3, -0.35, -0.39]:\n",
    "    ALPHAS, LR_TERMS, FIELDS, MU_IND, POL_TERMS = {}, {}, {}, {}, {}\n",
    "    for idk, key in enumerate(DATA):\n",
    "        coords_1, coords_2, distance_matrices, elements_1, elements_2, graph_1, graph_2, ratios_1, ratios_2, multipoles = get_batch(key)\n",
    "        V_esp, F1, F2 = Electrostatics.esp_dimer(coords_1, coords_2, distance_matrices, multipoles, with_field=True)    \n",
    "        alpha_coeffs_1, alpha_coeffs_2 = alpha_scaler(graph_1, 1)[None], alpha_scaler(graph_2, 1)[None]\n",
    "        alphas_1, alphas_2 = alpha_coeffs_1 * ratios_1, alpha_coeffs_2 * ratios_2\n",
    "        V_pol, mu_ind_1, mu_ind_2 = Polarization.ind_dimer(coords_1, coords_2, alphas_1, alphas_2, F1, F2, smear=SMEAR)\n",
    "        ALPHAS[key] = (alphas_1, alphas_2)\n",
    "        MU_IND[key] = (mu_ind_1, mu_ind_2)\n",
    "        LR_TERMS[key] = (V_esp, V_pol)\n",
    "    np.save(f'{FOLDER}ALPHAS_{N_STEPS}R', ALPHAS)\n",
    "    np.save(f'{FOLDER}MU_IND_S{int(-SMEAR * 100)}{N_STEPS}R', MU_IND)\n",
    "    np.save(f'{FOLDER}LR_TERMS_S{int(-SMEAR * 100)}{N_STEPS}R', LR_TERMS)\n",
    "    "
   ]
  }
 ],
 "metadata": {
  "kernelspec": {
   "display_name": "TFGPU",
   "language": "python",
   "name": "tfgpu"
  },
  "language_info": {
   "codemirror_mode": {
    "name": "ipython",
    "version": 3
   },
   "file_extension": ".py",
   "mimetype": "text/x-python",
   "name": "python",
   "nbconvert_exporter": "python",
   "pygments_lexer": "ipython3",
   "version": "3.10.12"
  }
 },
 "nbformat": 4,
 "nbformat_minor": 5
}
