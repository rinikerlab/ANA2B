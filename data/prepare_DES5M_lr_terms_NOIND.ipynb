{
 "cells": [
  {
   "cell_type": "code",
   "execution_count": 1,
   "id": "6dfd86ca-37a3-480d-9133-0b4a72975a4d",
   "metadata": {},
   "outputs": [
    {
     "name": "stderr",
     "output_type": "stream",
     "text": [
      "2023-04-24 08:24:37.481595: I tensorflow/core/platform/cpu_feature_guard.cc:193] This TensorFlow binary is optimized with oneAPI Deep Neural Network Library (oneDNN) to use the following CPU instructions in performance-critical operations:  SSE4.1 SSE4.2 AVX AVX2 FMA\n",
      "To enable them in other operations, rebuild TensorFlow with the appropriate compiler flags.\n",
      "2023-04-24 08:24:47.482714: W tensorflow/compiler/xla/stream_executor/platform/default/dso_loader.cc:64] Could not load dynamic library 'libcuda.so.1'; dlerror: libcuda.so.1: cannot open shared object file: No such file or directory; LD_LIBRARY_PATH: /home/moritzt/miniconda3/lib\n",
      "2023-04-24 08:24:47.482755: W tensorflow/compiler/xla/stream_executor/cuda/cuda_driver.cc:265] failed call to cuInit: UNKNOWN ERROR (303)\n",
      "2023-04-24 08:24:47.482788: I tensorflow/compiler/xla/stream_executor/cuda/cuda_diagnostics.cc:156] kernel driver does not appear to be running on this host (angola.ethz.ch): /proc/driver/nvidia/version does not exist\n",
      "2023-04-24 08:24:47.483249: I tensorflow/core/platform/cpu_feature_guard.cc:193] This TensorFlow binary is optimized with oneAPI Deep Neural Network Library (oneDNN) to use the following CPU instructions in performance-critical operations:  SSE4.1 SSE4.2 AVX AVX2 FMA\n",
      "To enable them in other operations, rebuild TensorFlow with the appropriate compiler flags.\n"
     ]
    }
   ],
   "source": [
    "import os\n",
    "import sys\n",
    "sys.path.append('../source')\n",
    "\n",
    "os.environ['CUDA_VISIBLE_DEVICES'] = '-1'\n",
    "\n",
    "import numpy as np\n",
    "import tensorflow as tf\n",
    "\n",
    "import Electrostatics\n",
    "import Polarization\n",
    "\n",
    "from Utilities import write_xyz, KC"
   ]
  },
  {
   "cell_type": "code",
   "execution_count": 2,
   "id": "1149d312-47ed-45ec-8997-8f9058513735",
   "metadata": {},
   "outputs": [],
   "source": [
    "def get_batch(key):\n",
    "    multipoles = MULTIPOLES[key]\n",
    "    elements_1, elements_2 = DATA[key]['elements']\n",
    "    distance_matrices = DATA[key]['distance_matrices']\n",
    "    coords_1, coords_2 = DATA[key]['coordinates']\n",
    "    graph_1, graph_2 = DATA[key]['graphs']\n",
    "    return coords_1, coords_2, distance_matrices, elements_1, elements_2, graph_1, graph_2, multipoles"
   ]
  },
  {
   "cell_type": "code",
   "execution_count": 3,
   "id": "6b86ffa5-5f6f-40d2-afd9-8f17294b0fd8",
   "metadata": {},
   "outputs": [],
   "source": [
    "MULTIPOLES = np.load('MULTIPOLES_DES5M.npy', allow_pickle=True).item()\n",
    "DATA = np.load('DES5M.npy', allow_pickle=True).item()"
   ]
  },
  {
   "cell_type": "code",
   "execution_count": 8,
   "id": "36f75ec5-b509-4492-84c3-5e7a53bf9cd1",
   "metadata": {
    "tags": []
   },
   "outputs": [],
   "source": [
    "ALPHAS, LR_TERMS, FIELDS, MU_IND, POL_TERMS = {}, {}, {}, {}, {}\n",
    "for idk, key in enumerate(DATA):\n",
    "    coords_1, coords_2, distance_matrices, elements_1, elements_2, graph_1, graph_2, multipoles = get_batch(key)\n",
    "    V_esp, F1, F2 = Electrostatics.esp_dimer(coords_1, coords_2, distance_matrices, multipoles, with_field=True)    \n",
    "    LR_TERMS[key] = (V_esp)\n",
    "np.save(f'LR_TERMS_NOIND', LR_TERMS)\n"
   ]
  },
  {
   "cell_type": "code",
   "execution_count": null,
   "id": "45ef73c4-ddaa-4288-8390-9628e63e9331",
   "metadata": {},
   "outputs": [],
   "source": []
  }
 ],
 "metadata": {
  "kernelspec": {
   "display_name": "TFGPU",
   "language": "python",
   "name": "tfgpu"
  },
  "language_info": {
   "codemirror_mode": {
    "name": "ipython",
    "version": 3
   },
   "file_extension": ".py",
   "mimetype": "text/x-python",
   "name": "python",
   "nbconvert_exporter": "python",
   "pygments_lexer": "ipython3",
   "version": "3.10.12"
  }
 },
 "nbformat": 4,
 "nbformat_minor": 5
}
