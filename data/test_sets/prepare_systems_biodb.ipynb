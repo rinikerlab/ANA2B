{
 "cells": [
  {
   "cell_type": "code",
   "execution_count": 5,
   "id": "74c7d4b9-35df-432d-8797-0bf0f6288a38",
   "metadata": {},
   "outputs": [],
   "source": [
    "import os\n",
    "\n",
    "import qcdb\n",
    "import openbabel\n",
    "import pybel\n",
    "\n",
    "import numpy as np"
   ]
  },
  {
   "cell_type": "code",
   "execution_count": 6,
   "id": "7b0e56da-c778-48a1-b2ee-ff116b9479fc",
   "metadata": {},
   "outputs": [],
   "source": [
    "Z_to_E = {\n",
    "    1: 'H',\n",
    "    6: 'C',\n",
    "    7: 'N',\n",
    "    8: 'O',\n",
    "    9: 'F',\n",
    "    16: 'S',\n",
    "    17: 'Cl',\n",
    "}\n",
    "\n",
    "obConversion = openbabel.OBConversion()\n",
    "obConversion.SetInAndOutFormats(\"xyz\", \"pdb\")\n",
    "dtype = np.float32"
   ]
  },
  {
   "cell_type": "code",
   "execution_count": null,
   "id": "9c399bac-d1ca-4f3a-b1fc-a7f71a708266",
   "metadata": {
    "tags": []
   },
   "outputs": [],
   "source": [
    "for key in ['HBC6', 'S22', 'S22by7', 'S66', 'UBQ', 'SSI', 'HSG', 'BBI', 'ACHC', 'JSCH',  ]: # ,, 'HBC1', 'NBC1', \n",
    "    db = qcdb.Database(key)\n",
    "    key = db.dbse\n",
    "    db.write_xyz_files()\n",
    "    pd_db = db.export_pandas()\n",
    "    data = {}\n",
    "    for system_name, size_a, geometry, energy, description, sapt_disp, sapt_es, sapt_ex, sapt_ind in \\\n",
    "        zip(pd_db.QcdbSys, pd_db.MonA, pd_db.Geometry, pd_db.Benchmark, pd_db.System, \\\n",
    "            pd_db['SAPT DISP ENERGY'], pd_db['SAPT ELST ENERGY'], pd_db['SAPT EXCH ENERGY'], pd_db['SAPT IND ENERGY']):\n",
    "        try:\n",
    "            with open(key + '_xyzfiles/{}-monoA-unCP.xyz'.format(system_name), 'r') as file:\n",
    "                line = next(file)\n",
    "                line = next(file)\n",
    "                charge_a = int(line.split()[0])            \n",
    "            with open(key + '_xyzfiles/{}-monoB-unCP.xyz'.format(system_name), 'r') as file:\n",
    "                line = next(file)\n",
    "                line = next(file)\n",
    "                charge_b = int(line.split()[0])\n",
    "            if charge_a == 0 and charge_b == 0:\n",
    "                data[system_name] = {}\n",
    "                data[system_name]['ref_energy'] = dtype(energy * 4.184) # in kJ/mol!\n",
    "                data[system_name]['description'] = system_name\n",
    "                data[system_name]['coordinates_dimer'] = geometry.astype(dtype)#[:, 1:]\n",
    "                data[system_name]['coordinates_monomer_1'] = geometry[:size_a, 1:].astype(dtype)\n",
    "                data[system_name]['coordinates_monomer_2'] = geometry[size_a:, 1:].astype(dtype)\n",
    "                Z = np.array(geometry[..., 0], dtype=np.int32)\n",
    "                eles = np.array([Z_to_E[e] for e in Z], dtype='<U1')    \n",
    "                #eles = np.array([str(e).decode() for e in eles], dtype=str)\n",
    "                data[system_name]['elements_monomer_1'] = eles[:size_a]\n",
    "                data[system_name]['elements_monomer_2'] = eles[size_a:]\n",
    "                try:\n",
    "                    data[system_name]['sapt_es'] = dtype(sapt_es * 4.184)\n",
    "                    data[system_name]['sapt_ex'] = dtype(sapt_ex * 4.184)\n",
    "                    data[system_name]['sapt_ind'] = dtype(sapt_ind * 4.184)\n",
    "                    data[system_name]['sapt_disp'] = dtype(sapt_disp * 4.184)\n",
    "                except:\n",
    "                    pass\n",
    "        except:\n",
    "            continue\n",
    "\n",
    "        \n",
    "    np.save('data_' + key, data)\n",
    "    print(len(data))"
   ]
  },
  {
   "cell_type": "code",
   "execution_count": null,
   "id": "6d758ba7-a9e3-4d4f-a462-a1534afb132a",
   "metadata": {},
   "outputs": [],
   "source": []
  }
 ],
 "metadata": {
  "kernelspec": {
   "display_name": "QCDB",
   "language": "python",
   "name": "bfdbenv"
  },
  "language_info": {
   "codemirror_mode": {
    "name": "ipython",
    "version": 2
   },
   "file_extension": ".py",
   "mimetype": "text/x-python",
   "name": "python",
   "nbconvert_exporter": "python",
   "pygments_lexer": "ipython2",
   "version": "2.7.15"
  }
 },
 "nbformat": 4,
 "nbformat_minor": 5
}
