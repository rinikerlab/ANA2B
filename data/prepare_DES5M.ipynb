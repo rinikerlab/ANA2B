{
 "cells": [
  {
   "cell_type": "code",
   "execution_count": 2,
   "id": "532a24d7-9785-4e6a-babf-000f3212dedc",
   "metadata": {},
   "outputs": [],
   "source": [
    "import os\n",
    "import sys\n",
    "import time\n",
    "\n",
    "os.environ['CUDA_VISIBLE_DEVICES'] = '-1'\n",
    "sys.path.append('../source')\n",
    "from scipy.spatial.distance import cdist\n",
    "from rdkit.Chem.rdmolfiles import MolFromSmiles\n",
    "from rdkit.Chem.rdmolops import AddHs\n",
    "\n",
    "import graph_nets as gn\n",
    "import matplotlib.pyplot as plt\n",
    "import numpy as np\n",
    "import tensorflow as tf\n",
    "\n",
    "import GraphBuilder"
   ]
  },
  {
   "cell_type": "code",
   "execution_count": 5,
   "id": "e7222e13-59a8-45ae-96f6-9e5c60d92651",
   "metadata": {},
   "outputs": [],
   "source": [
    "builder = GraphBuilder.GraphBuilder()\n",
    "ALLOWED_ELEMENTS = set(['H', 'C', 'N', 'O', 'F', 'S', 'Cl'])\n",
    "MIN_SIZE = 2"
   ]
  },
  {
   "cell_type": "code",
   "execution_count": 6,
   "id": "c1b4701d-e5bc-4f62-a4ba-60ea929e2c98",
   "metadata": {},
   "outputs": [
    {
     "name": "stderr",
     "output_type": "stream",
     "text": [
      "2023-01-16 09:49:10.785956: E tensorflow/stream_executor/cuda/cuda_driver.cc:265] failed call to cuInit: CUDA_ERROR_NO_DEVICE: no CUDA-capable device is detected\n",
      "2023-01-16 09:49:10.785999: I tensorflow/stream_executor/cuda/cuda_diagnostics.cc:169] retrieving CUDA diagnostic information for host: usa.ethz.ch\n",
      "2023-01-16 09:49:10.786010: I tensorflow/stream_executor/cuda/cuda_diagnostics.cc:176] hostname: usa.ethz.ch\n",
      "2023-01-16 09:49:10.786079: I tensorflow/stream_executor/cuda/cuda_diagnostics.cc:200] libcuda reported version is: 510.39.1\n",
      "2023-01-16 09:49:10.786118: I tensorflow/stream_executor/cuda/cuda_diagnostics.cc:204] kernel reported version is: 510.39.1\n",
      "2023-01-16 09:49:10.786126: I tensorflow/stream_executor/cuda/cuda_diagnostics.cc:310] kernel version seems to match DSO: 510.39.1\n",
      "2023-01-16 09:49:10.786394: I tensorflow/core/platform/cpu_feature_guard.cc:193] This TensorFlow binary is optimized with oneAPI Deep Neural Network Library (oneDNN) to use the following CPU instructions in performance-critical operations:  SSE4.1 SSE4.2 AVX AVX2 FMA\n",
      "To enable them in other operations, rebuild TensorFlow with the appropriate compiler flags.\n"
     ]
    }
   ],
   "source": [
    "dimer_coordinates, dimer_smiles, dimer_elements, dimer_energies_sns, dimer_energies_sapt = [], [], [], [], []\n",
    "geometry_indices, k_indices, group_ids, system_ids = [], [], [], []\n",
    "\n",
    "with open('24853016', 'r') as file:\n",
    "    next(file)\n",
    "    for idl, line in enumerate(file):\n",
    "        smile_0, smile_1, charge_0, charge_1, n_atoms_0, n_atoms_1, system_id, group_orig, group_id, \\\n",
    "        k_index, geom_id, qz_HF, qz_MP2_os, qz_MP2_ss, qz_MP2_all, tz_HF, tz_MP2_os, tz_MP2_ss, \\\n",
    "        tz_MP2_all, cbs_MP2_os, cbs_MP2_ss, cbs_MP2_all, espx_HF_es, espx_HF_hl, espx_HF_ovl, espx_MP2_es,\\\n",
    "        espx_MP2_ovl, sapt_es, sapt_ex, sapt_exs2, sapt_ind, sapt_exind, sapt_disp, sapt_exdisp_os, sapt_exdisp_ss, \\\n",
    "        sapt_delta_HF, sapt_all, nn_CCSDT_all, nn_CCSDT_all_05, nn_CCSDT_all_95, xyz, elements = line.split(',')\n",
    "        charge_0, charge_1 = int(charge_0), int(charge_1)\n",
    "        n_atoms_0, n_atoms_1 = int(n_atoms_0), int(n_atoms_1)        \n",
    "        if charge_0 == 0 and charge_1 == 0 and n_atoms_0 >= MIN_SIZE and n_atoms_1 >= MIN_SIZE:\n",
    "            sns_cc_potential = float(nn_CCSDT_all)\n",
    "            sapt_potentials = (float(sapt_all), float(sapt_es), float(sapt_ind), float(sapt_exind), float(sapt_delta_HF), float(sapt_ex), float(sapt_exs2), float(sapt_disp), float(sapt_exdisp_os), float(sapt_exdisp_ss))\n",
    "            coordinates = np.array([float(c) for c in xyz.split()]).reshape((-1, 3))\n",
    "            elements = elements.split()\n",
    "            if not (set(elements) - ALLOWED_ELEMENTS):\n",
    "                coordinates_0, coordinates_1 = tf.split(coordinates.astype(np.float32), [n_atoms_0, n_atoms_1], axis=0)\n",
    "                coordinates_0, coordinates_1 = coordinates_0.numpy(), coordinates_1.numpy()\n",
    "                elements_0, elements_1 = tf.split(elements, [n_atoms_0, n_atoms_1], axis=0)\n",
    "                elements_0, elements_1 = elements_0.numpy().astype(str), elements_1.numpy().astype(str)\n",
    "                dimer_coordinates.append((coordinates_0, coordinates_1))\n",
    "                dimer_smiles.append((smile_0, smile_1))\n",
    "                dimer_elements.append((elements_0, elements_1))\n",
    "                dimer_energies_sns.append(sns_cc_potential)\n",
    "                dimer_energies_sapt.append(sapt_potentials)\n",
    "                geometry_indices.append(int(geom_id))\n",
    "                k_indices.append(int(k_index))\n",
    "                group_ids.append(group_id)\n",
    "                system_ids.append(system_id)\n",
    "dimer_energies_sapt = np.array(dimer_energies_sapt) * 4.184\n",
    "dimer_energies_sns = np.array(dimer_energies_sns) * 4.184\n",
    "group_ids = np.array(group_ids, dtype=np.int32)\n",
    "system_ids = np.array(system_ids, dtype=np.int32)\n",
    "k_indices = np.array(k_indices, dtype=np.int32)"
   ]
  },
  {
   "cell_type": "code",
   "execution_count": 7,
   "id": "44d2b232-aa2f-40dd-b783-8df94343ed4a",
   "metadata": {
    "tags": []
   },
   "outputs": [],
   "source": [
    "dissociation_curves_temp = {}\n",
    "for index, (coordinates, smile, elements, energy_sns, energy_sapt, k_index, group_id) in \\\n",
    "    enumerate(zip(dimer_coordinates, dimer_smiles, dimer_elements, dimer_energies_sns, dimer_energies_sapt, k_indices, group_ids)):\n",
    "    smile_1, smile_2 = smile\n",
    "    if not set(np.hstack(elements)) - ALLOWED_ELEMENTS:\n",
    "        if group_id not in dissociation_curves_temp:\n",
    "            bonds_1, bonds_2 = AddHs(MolFromSmiles(smile_1)).GetNumBonds(), AddHs(MolFromSmiles(smile_2)).GetNumBonds()\n",
    "            graph_1, graph_2 = builder.from_coords(coordinates[0], elements[0]), builder.from_coords(coordinates[1], elements[1])\n",
    "            edges_1, edges_2 = graph_1.n_edge // 2, graph_2.n_edge // 2\n",
    "            if bonds_1 != edges_1 or bonds_2 != edges_2:\n",
    "                print(smile, elements)\n",
    "                continue\n",
    "            dissociation_curves_temp[group_id] = {}\n",
    "            dissociation_curves_temp[group_id]['energies'] = {}\n",
    "            dissociation_curves_temp[group_id]['sapt'] = {}\n",
    "            dissociation_curves_temp[group_id]['coordinates'] = {}\n",
    "            dissociation_curves_temp[group_id]['smiles'] = smile\n",
    "            dissociation_curves_temp[group_id]['elements'] = elements\n",
    "            dissociation_curves_temp[group_id]['graphs'] = (graph_1, graph_2)\n",
    "            #dissociation_curves_temp[group_id]['charges'] = (charges_1, charges_2)\n",
    "        dissociation_curves_temp[group_id]['energies'][k_index] = energy_sns\n",
    "        dissociation_curves_temp[group_id]['sapt'][k_index] = energy_sapt\n",
    "        dissociation_curves_temp[group_id]['coordinates'][k_index] = coordinates"
   ]
  },
  {
   "cell_type": "code",
   "execution_count": 8,
   "id": "6642ba54-6ee2-4683-9615-1637abcc2961",
   "metadata": {},
   "outputs": [],
   "source": [
    "dissociation_curves = {}\n",
    "for idk, key in enumerate(dissociation_curves_temp):\n",
    "    k_indices = np.sort(list(dissociation_curves_temp[key]['energies'].keys()))\n",
    "    curve, dmats, coords, sapt = [], [], [], []\n",
    "    for k_index in k_indices:\n",
    "        curve.append(dissociation_curves_temp[key]['energies'][k_index])\n",
    "        dmats.append(cdist(*dissociation_curves_temp[key]['coordinates'][k_index]).astype(np.float32))\n",
    "        coords.append(dissociation_curves_temp[key]['coordinates'][k_index])\n",
    "        sapt.append(dissociation_curves_temp[key]['sapt'][k_index])\n",
    "    coords_1, coords_2 = [x[0] for x in coords], [x[1] for x in coords]\n",
    "    coords_1, coords_2 = np.array(coords_1, dtype=np.float32), np.array(coords_2, dtype=np.float32)\n",
    "    dissociation_curves[key] = {}\n",
    "    dissociation_curves[key]['energies'] = np.array(curve, dtype=np.float32)\n",
    "    dissociation_curves[key]['sapt'] = np.array(sapt, dtype=np.float32)\n",
    "    dissociation_curves[key]['distance_matrices'] = np.array(dmats, dtype=np.float32)\n",
    "    dissociation_curves[key]['coordinates'] = (coords_1, coords_2)\n",
    "    dissociation_curves[key]['smiles'] = dissociation_curves_temp[key]['smiles']\n",
    "    dissociation_curves[key]['elements'] = dissociation_curves_temp[key]['elements']    \n",
    "    dissociation_curves[key]['graphs'] = dissociation_curves_temp[key]['graphs']\n",
    "    dissociation_curves[key]['k_indices'] = k_indices"
   ]
  },
  {
   "cell_type": "code",
   "execution_count": 9,
   "id": "18d7412d-57aa-4136-8d92-825091a6ff8d",
   "metadata": {},
   "outputs": [],
   "source": [
    "np.save('DES5M', dissociation_curves)"
   ]
  },
  {
   "cell_type": "code",
   "execution_count": null,
   "id": "91d0e1ab-5353-409f-a2a4-962d49598fae",
   "metadata": {},
   "outputs": [],
   "source": []
  }
 ],
 "metadata": {
  "kernelspec": {
   "display_name": "TFGPU",
   "language": "python",
   "name": "tfgpu"
  },
  "language_info": {
   "codemirror_mode": {
    "name": "ipython",
    "version": 3
   },
   "file_extension": ".py",
   "mimetype": "text/x-python",
   "name": "python",
   "nbconvert_exporter": "python",
   "pygments_lexer": "ipython3",
   "version": "3.10.12"
  }
 },
 "nbformat": 4,
 "nbformat_minor": 5
}
