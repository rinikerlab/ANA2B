{
 "cells": [
  {
   "cell_type": "code",
   "execution_count": 1,
   "id": "6dfd86ca-37a3-480d-9133-0b4a72975a4d",
   "metadata": {},
   "outputs": [
    {
     "name": "stderr",
     "output_type": "stream",
     "text": [
      "2023-06-30 08:51:37.866165: I tensorflow/core/platform/cpu_feature_guard.cc:193] This TensorFlow binary is optimized with oneAPI Deep Neural Network Library (oneDNN) to use the following CPU instructions in performance-critical operations:  SSE4.1 SSE4.2 AVX AVX2 FMA\n",
      "To enable them in other operations, rebuild TensorFlow with the appropriate compiler flags.\n",
      "2023-06-30 08:51:39.715740: E tensorflow/compiler/xla/stream_executor/cuda/cuda_driver.cc:267] failed call to cuInit: CUDA_ERROR_NO_DEVICE: no CUDA-capable device is detected\n"
     ]
    }
   ],
   "source": [
    "import os\n",
    "import sys\n",
    "sys.path.append('..')\n",
    "sys.path.append('../source')\n",
    "sys.path.append('../source/alpha_scaling')\n",
    "\n",
    "os.environ['CUDA_VISIBLE_DEVICES'] = '-1'\n",
    "\n",
    "import matplotlib.pyplot as plt\n",
    "import numpy as np\n",
    "import tensorflow as tf\n",
    "\n",
    "import Electrostatics\n",
    "import Polarization\n",
    "\n",
    "from Utilities import write_xyz\n",
    "from Constants import KC\n",
    "from AlphaHR import Alpha\n",
    "#from AlphaR import Alpha"
   ]
  },
  {
   "cell_type": "code",
   "execution_count": 2,
   "id": "1149d312-47ed-45ec-8997-8f9058513735",
   "metadata": {},
   "outputs": [],
   "source": [
    "def get_batch(key):\n",
    "    multipoles = MULTIPOLES[key]\n",
    "    elements_1, elements_2 = DATA[key]['elements']\n",
    "    distance_matrices = DATA[key]['distance_matrices']\n",
    "    coords_1, coords_2 = DATA[key]['coordinates']\n",
    "    graph_1, graph_2 = DATA[key]['graphs']\n",
    "    alphas_1, alphas_2 = ALPHAS[key]\n",
    "    return coords_1, coords_2, distance_matrices, elements_1, elements_2, graph_1, graph_2, alphas_1, alphas_2, multipoles"
   ]
  },
  {
   "cell_type": "code",
   "execution_count": 3,
   "id": "6b86ffa5-5f6f-40d2-afd9-8f17294b0fd8",
   "metadata": {},
   "outputs": [],
   "source": [
    "RATIOS = np.load('RATIOS_DES5M.npy', allow_pickle=True).item()\n",
    "MULTIPOLES = np.load('MULTIPOLES_DES5M.npy', allow_pickle=True).item()\n",
    "DATA = np.load('DES5M.npy', allow_pickle=True).item()"
   ]
  },
  {
   "cell_type": "code",
   "execution_count": 5,
   "id": "67b3105c-3358-4667-9b2b-721d9c8953f4",
   "metadata": {
    "tags": []
   },
   "outputs": [],
   "source": [
    "alpha_scaler = Alpha(n_steps=2, load_weights=False)\n",
    "alpha_scaler.load_weights('../source/weights_models/ALPHA2R')\n",
    "ALPHAS = np.load('ALPHAS_2R.npy', allow_pickle=True).item()\n",
    "FOLDER = ''"
   ]
  },
  {
   "cell_type": "code",
   "execution_count": 6,
   "id": "36f75ec5-b509-4492-84c3-5e7a53bf9cd1",
   "metadata": {
    "tags": []
   },
   "outputs": [
    {
     "name": "stdout",
     "output_type": "stream",
     "text": [
      "WARNING:tensorflow:From /home/moritzt/miniconda3/envs/TFGPU/lib/python3.9/site-packages/tensorflow/python/autograph/pyct/static_analysis/liveness.py:83: Analyzer.lamba_check (from tensorflow.python.autograph.pyct.static_analysis.liveness) is deprecated and will be removed after 2023-09-23.\n",
      "Instructions for updating:\n",
      "Lambda fuctions will be no more assumed to be used in the statement where they are used, or at least in the same block. https://github.com/tensorflow/tensorflow/issues/56089\n"
     ]
    }
   ],
   "source": [
    "LR_TERMS, FIELDS, MU_IND, POL_TERMS = {}, {}, {}, {}\n",
    "for idk, key in enumerate(DATA):\n",
    "    coords_1, coords_2, distance_matrices, elements_1, elements_2, graph_1, graph_2, alphas_1, alphas_2, multipoles = get_batch(key)\n",
    "    V_esp, F1, F2 = Electrostatics.esp_dimer(coords_1, coords_2, distance_matrices, multipoles, with_field=True)   \n",
    "    V_pol, mu_ind_1, mu_ind_2 = Polarization.ind_dimer0(alphas_1, alphas_2, F1, F2)\n",
    "    MU_IND[key] = (mu_ind_1, mu_ind_2)\n",
    "    LR_TERMS[key] = (V_esp, V_pol)\n",
    "np.save(f'{FOLDER}MU_IND0', MU_IND)\n",
    "np.save(f'{FOLDER}LR_TERMS_IND0', LR_TERMS)\n"
   ]
  },
  {
   "cell_type": "code",
   "execution_count": 7,
   "id": "dd99dbe1-8979-4f87-b466-a76f3dfb23a9",
   "metadata": {},
   "outputs": [
    {
     "data": {
      "text/plain": [
       "(118939, 118939)"
      ]
     },
     "execution_count": 7,
     "metadata": {},
     "output_type": "execute_result"
    }
   ],
   "source": [
    "len(MU_IND), len(LR_TERMS)"
   ]
  }
 ],
 "metadata": {
  "kernelspec": {
   "display_name": "TFGPU",
   "language": "python",
   "name": "tfgpu"
  },
  "language_info": {
   "codemirror_mode": {
    "name": "ipython",
    "version": 3
   },
   "file_extension": ".py",
   "mimetype": "text/x-python",
   "name": "python",
   "nbconvert_exporter": "python",
   "pygments_lexer": "ipython3",
   "version": "3.10.12"
  }
 },
 "nbformat": 4,
 "nbformat_minor": 5
}
