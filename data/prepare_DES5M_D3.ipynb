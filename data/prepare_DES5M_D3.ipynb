{
 "cells": [
  {
   "cell_type": "code",
   "execution_count": null,
   "id": "945a3921-4c31-4b2b-a7e4-bfe5ec1d6bd9",
   "metadata": {},
   "outputs": [],
   "source": [
    "import os\n",
    "import sys\n",
    "\n",
    "sys.path.append('../source')\n",
    "os.environ['CUDA_VISIBLE_DEVICES'] = '-1'\n",
    "\n",
    "import numpy as np\n",
    "\n",
    "from dftd3.interface import Structure, RationalDampingParam, DispersionModel\n",
    "from Utilities import H_TO_KJ, BOHR_TO_ANGSTROM, to_Z"
   ]
  },
  {
   "cell_type": "code",
   "execution_count": null,
   "id": "37c23053-d784-41e0-93a5-0be6aecdc995",
   "metadata": {},
   "outputs": [],
   "source": [
    "def calculate_d3_dimer(coords_1, coords_2, elements_1, elements_2, functional='pbe0', damping_params=None):\n",
    "    elements_1, elements_2 = to_Z(elements_1), to_Z(elements_2)\n",
    "    energy_monomer_1, energy_monomer_2, energy_dimer = [], [], []\n",
    "    if damping_params is None:\n",
    "        damping_params = RationalDampingParam(method=functional)\n",
    "    for monomer_1 in coords_1:\n",
    "        model = DispersionModel(elements_1, monomer_1 / BOHR_TO_ANGSTROM)\n",
    "        e_1 = model.get_dispersion(damping_params, grad=False)['energy']\n",
    "        energy_monomer_1.append(e_1)\n",
    "\n",
    "    for monomer_2 in coords_2:\n",
    "        model = DispersionModel(elements_2, monomer_2 / BOHR_TO_ANGSTROM)\n",
    "        e_2 = model.get_dispersion(damping_params, grad=False)['energy']\n",
    "        energy_monomer_2.append(e_2)\n",
    "\n",
    "    dimer_coords = np.concatenate((coords_1, coords_2), axis=1)\n",
    "    dimer_elements = np.concatenate((elements_1, elements_2))\n",
    "    for dimer in dimer_coords:\n",
    "        model = DispersionModel(dimer_elements, dimer / BOHR_TO_ANGSTROM)\n",
    "        e_dimer = model.get_dispersion(damping_params, grad=False)['energy']\n",
    "        energy_dimer.append(e_dimer)\n",
    "\n",
    "    energy_monomer_1, energy_monomer_2, energy_dimer = np.hstack(energy_monomer_1), np.hstack(energy_monomer_2), np.hstack(energy_dimer)\n",
    "    return np.float32((energy_dimer - energy_monomer_1 - energy_monomer_2) * H_TO_KJ)"
   ]
  },
  {
   "cell_type": "code",
   "execution_count": null,
   "id": "c4e2d9b7-c6f6-4acb-8cc6-cdbcd7a18cf4",
   "metadata": {},
   "outputs": [],
   "source": [
    "DATA = np.load('DES5M.npy', allow_pickle=True).item()"
   ]
  },
  {
   "cell_type": "code",
   "execution_count": null,
   "id": "8a139d0a-95e9-45e4-8434-834bac7807da",
   "metadata": {},
   "outputs": [],
   "source": [
    "for functional in ['PBE0', 'TPSS', 'BP86', 'TPSSh']:\n",
    "    D3 = {}\n",
    "    for key in DATA:\n",
    "        D3[key] = calculate_d3_dimer(*DATA[key]['coordinates'], *DATA[key]['elements'], functional=functional)\n",
    "    np.save(f'DES5M_D3_{functional}', D3)"
   ]
  },
  {
   "cell_type": "code",
   "execution_count": null,
   "id": "8e091620-7d58-42c7-9b5c-b7e8cd4ed3d1",
   "metadata": {
    "tags": []
   },
   "outputs": [],
   "source": [
    "for custom_params in [(0.45, 1.8, 4.5)]:\n",
    "    damping_params = RationalDampingParam(a1=custom_params[0], s8=custom_params[1], a2=custom_params[2])\n",
    "    D3 = {}\n",
    "    for key in DATA:\n",
    "        D3[key] = calculate_d3_dimer(*DATA[key]['coordinates'], *DATA[key]['elements'], damping_params=damping_params)\n",
    "    np.save(f'DES5M_D3_{int(100 * custom_params[0])}_{int(100 * custom_params[1])}_{int (100 * custom_params[2])}', D3)"
   ]
  },
  {
   "cell_type": "code",
   "execution_count": null,
   "id": "57c22e6d-85a0-489b-9588-4dd110d19a89",
   "metadata": {},
   "outputs": [],
   "source": [
    "len(D3), len(DATA)"
   ]
  },
  {
   "cell_type": "code",
   "execution_count": null,
   "id": "21908c96-68c7-4993-9d64-982e85660a22",
   "metadata": {},
   "outputs": [],
   "source": []
  }
 ],
 "metadata": {
  "kernelspec": {
   "display_name": "TFGPU",
   "language": "python",
   "name": "tfgpu"
  },
  "language_info": {
   "codemirror_mode": {
    "name": "ipython",
    "version": 3
   },
   "file_extension": ".py",
   "mimetype": "text/x-python",
   "name": "python",
   "nbconvert_exporter": "python",
   "pygments_lexer": "ipython3",
   "version": "3.10.12"
  }
 },
 "nbformat": 4,
 "nbformat_minor": 5
}
