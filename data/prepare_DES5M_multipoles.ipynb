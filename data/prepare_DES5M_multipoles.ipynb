{
 "cells": [
  {
   "cell_type": "code",
   "execution_count": null,
   "id": "df7a4732-dd56-47be-8882-786ba0be2474",
   "metadata": {},
   "outputs": [],
   "source": [
    "import os\n",
    "import sys\n",
    "\n",
    "sys.path.append('../source')\n",
    "os.environ['CUDA_VISIBLE_DEVICES'] = '-1'\n",
    "\n",
    "import numpy as np\n",
    "\n",
    "from AMPParams import AMPParams"
   ]
  },
  {
   "cell_type": "code",
   "execution_count": null,
   "id": "98d95cc2-d7ba-4420-8e0b-c1d5ce4c4c5e",
   "metadata": {},
   "outputs": [],
   "source": [
    "DATA = np.load('DES5M.npy', allow_pickle=True).item()"
   ]
  },
  {
   "cell_type": "code",
   "execution_count": null,
   "id": "fed679a2-4552-489a-b5a8-207d5ecacfc5",
   "metadata": {
    "tags": []
   },
   "outputs": [],
   "source": [
    "model = AMPParams()"
   ]
  },
  {
   "cell_type": "code",
   "execution_count": null,
   "id": "bf95a42c-3c4e-4420-b12f-0bf63c0e6963",
   "metadata": {
    "tags": []
   },
   "outputs": [],
   "source": [
    "multipoles = {}\n",
    "ratios = {}\n",
    "for idk, key in enumerate(DATA):\n",
    "    elements_1, elements_2 = DATA[key]['elements']\n",
    "    coords_1, coords_2 = DATA[key]['coordinates']\n",
    "    graph, _ = model.predict(coords_1, elements_1)\n",
    "    monos_1, dipos_1, quads_1, ratios_1 = graph.monos, graph.dipos, graph.quads, graph.ratios\n",
    "    graph, _ = model.predict(coords_2, elements_2)\n",
    "    monos_2, dipos_2, quads_2, ratios_2 = graph.monos, graph.dipos, graph.quads, graph.ratios\n",
    "    multipoles[key] = (monos_1, monos_2, dipos_1, dipos_2, quads_1, quads_2)\n",
    "    ratios[key] = (ratios_1, ratios_2)"
   ]
  },
  {
   "cell_type": "code",
   "execution_count": null,
   "id": "3afe9727-0ab1-468b-b312-9a5ed6fbb452",
   "metadata": {},
   "outputs": [],
   "source": [
    "np.save('MULTIPOLES_DES5M', multipoles)\n",
    "np.save('RATIOS_DES5M', ratios)"
   ]
  },
  {
   "cell_type": "code",
   "execution_count": null,
   "id": "2902a5cd-5643-4e65-8c58-a5df66576ec0",
   "metadata": {},
   "outputs": [],
   "source": [
    "len(DATA), len(multipoles), len(ratios)"
   ]
  },
  {
   "cell_type": "code",
   "execution_count": null,
   "id": "18118944-6042-4c9b-bcfa-83f36b699a73",
   "metadata": {},
   "outputs": [],
   "source": []
  }
 ],
 "metadata": {
  "kernelspec": {
   "display_name": "TFGPU",
   "language": "python",
   "name": "tfgpu"
  },
  "language_info": {
   "codemirror_mode": {
    "name": "ipython",
    "version": 3
   },
   "file_extension": ".py",
   "mimetype": "text/x-python",
   "name": "python",
   "nbconvert_exporter": "python",
   "pygments_lexer": "ipython3",
   "version": "3.10.12"
  }
 },
 "nbformat": 4,
 "nbformat_minor": 5
}
